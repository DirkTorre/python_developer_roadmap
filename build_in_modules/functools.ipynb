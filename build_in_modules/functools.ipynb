{
 "cells": [
  {
   "cell_type": "markdown",
   "id": "79d91b9a",
   "metadata": {},
   "source": [
    "https://docs.python.org/3/library/functools.html"
   ]
  }
 ],
 "metadata": {
  "language_info": {
   "name": "python"
  }
 },
 "nbformat": 4,
 "nbformat_minor": 5
}
