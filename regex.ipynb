{
 "cells": [
  {
   "cell_type": "markdown",
   "metadata": {},
   "source": [
    "# [Python Tutorial: re Module - How to Write and Match Regular Expressions (Regex)](https://www.youtube.com/watch?v=K8L6KVGG-7o)\n",
    "\n",
    "I thought I knew everything about regex, but again, this was not the case. Good I'm doing this."
   ]
  },
  {
   "cell_type": "code",
   "execution_count": 46,
   "metadata": {},
   "outputs": [
    {
     "name": "stderr",
     "output_type": "stream",
     "text": [
      "<>:2: SyntaxWarning: invalid escape sequence '\\ '\n",
      "<>:2: SyntaxWarning: invalid escape sequence '\\ '\n",
      "/tmp/ipykernel_8127/1709760723.py:2: SyntaxWarning: invalid escape sequence '\\ '\n",
      "  text_to_search = \"\"\"\n"
     ]
    }
   ],
   "source": [
    "import re\n",
    "text_to_search = \"\"\"\n",
    "abcdefghijklmnopqrstuvwqyz\n",
    "ABCDEFGHIJKLMNOPQRSTUVWQYZ\n",
    "1234567890\n",
    "\n",
    "Ha HaHa\n",
    "\n",
    "MetaCharacters (Need to be escaped):\n",
    ". ^ $ * + ? { } [ ] \\ | ( )\n",
    "\n",
    "coreyms.com\n",
    "\n",
    "312-555-4321\n",
    "123.555.1234\n",
    "123*555*1234\n",
    "800-555-1234\n",
    "900-555-1234\n",
    "\n",
    "Mr. Schafer\n",
    "Mr Smith\n",
    "Ms Davis\n",
    "Mrs. Robinson\n",
    "Mr. T\n",
    "\n",
    "cat\n",
    "mat\n",
    "pat\n",
    "bat\n",
    "\"\"\""
   ]
  },
  {
   "cell_type": "markdown",
   "metadata": {},
   "source": [
    "If you put `r` in front of the string, you get a raw string."
   ]
  },
  {
   "cell_type": "code",
   "execution_count": 3,
   "metadata": {},
   "outputs": [
    {
     "name": "stdout",
     "output_type": "stream",
     "text": [
      "\\ttab\n"
     ]
    }
   ],
   "source": [
    "print(r'\\ttab')"
   ]
  },
  {
   "cell_type": "code",
   "execution_count": 14,
   "metadata": {},
   "outputs": [
    {
     "data": {
      "text/plain": [
       "re.compile(r'abc', re.UNICODE)"
      ]
     },
     "execution_count": 14,
     "metadata": {},
     "output_type": "execute_result"
    }
   ],
   "source": [
    "re.compile(r'abc')"
   ]
  },
  {
   "cell_type": "markdown",
   "metadata": {},
   "source": [
    "In general; uppercase is for NOT (\\d=digit, \\D=not digit)"
   ]
  },
  {
   "cell_type": "code",
   "execution_count": null,
   "metadata": {},
   "outputs": [
    {
     "name": "stdout",
     "output_type": "stream",
     "text": [
      "312-555-4321\n",
      "123.555.1234\n",
      "123*555*1234\n",
      "800-555-1234\n",
      "900-555-1234\n"
     ]
    }
   ],
   "source": [
    "sentence = \"Start a sentence and then bring it to an end\"\n",
    "# pattern = re.compile(r'\\d{3}.\\d{3}.\\d{4}')\n",
    "# matches = pattern.finditer(text_to_search)\n",
    "# pattern = re.compile(r'\\d{3}[-.]\\d{3}[-.]\\d{4}')\n",
    "# pattern = re.compile(r'[^b]at') # the inverse\n",
    "# pattern = re.compile(r'\\d{3}}.\\d{3}.\\d{4}')\n",
    "# pattern = re.compile(r'Mr\\.?\\s[A-Z]\\w*')\n",
    "pattern = re.compile(r'M(r|s|rs)\\.?\\s[A-Z]\\w*')\n",
    "\n",
    "\n",
    "# matches = pattern.finditer(text_to_search)\n",
    "matches = pattern.findall(text_to_search)\n",
    "\n",
    "for match in matches:\n",
    "    print(match)"
   ]
  },
  {
   "cell_type": "markdown",
   "metadata": {},
   "source": [
    ".   - any except new line\\\n",
    "\\d  - digit [0-9]\\\n",
    "\\D  - not a digit\\\n",
    "\\w  - word character\\\n",
    "\\W  - not a word character\\\n",
    "\\s  - whitespace\\\n",
    "\\S  - not whitespace\n",
    "\n",
    "\\b  - word boundary (not a subword)\\\n",
    "\\B  - not a word boundary (a subword)\\\n",
    "^   - beginning of string\\\n",
    "$   - end of string\\\n",
    "\n",
    "[]      - matched characters in brackets.\\\n",
    "[^]     - matched characters not in brackets.\\\n",
    "|       - eighter or\\\n",
    "( )     - group\n",
    "\n",
    "quantifiers:\\\n",
    "\\*   - 0 or more\\\n",
    "\\+   - 1 or more\\\n",
    "?   - 0 or one\\\n",
    "{2} - exact 2\\\n",
    "{3,5}   - 2 min, 5 max\n"
   ]
  },
  {
   "cell_type": "code",
   "execution_count": null,
   "metadata": {},
   "outputs": [
    {
     "name": "stdout",
     "output_type": "stream",
     "text": [
      "<re.Match object; span=(1, 24), match='CoreyMSchafer@gmail.com'>\n",
      "<re.Match object; span=(25, 53), match='corey.schafer@university.edu'>\n",
      "<re.Match object; span=(54, 83), match='corey-321-schafer@my-work.net'>\n"
     ]
    }
   ],
   "source": [
    "emails = \"\"\"\n",
    "CoreyMSchafer@gmail.com\n",
    "corey.schafer@university.edu\n",
    "corey-321-schafer@my-work.net\n",
    "\"\"\"\n",
    "\n",
    "pattern = re.compile(r'[a-zA-Z0-9.-]+@[a-zA-Z-]+\\.(com|edu|net)')\n",
    "\n",
    "matches = pattern.finditer(emails)\n",
    "\n",
    "for match in matches:\n",
    "    print(match)"
   ]
  },
  {
   "cell_type": "code",
   "execution_count": 87,
   "metadata": {},
   "outputs": [
    {
     "name": "stdout",
     "output_type": "stream",
     "text": [
      "\n",
      "google.com\n",
      "coreyms.com\n",
      "youtube.com\n",
      "nasa.gov\n",
      "\n",
      "google\n",
      "coreyms\n",
      "youtube\n",
      "nasa\n"
     ]
    }
   ],
   "source": [
    "urls = \"\"\"\n",
    "https://www.google.com\n",
    "http://coreyms.com\n",
    "https://youtube.com\n",
    "https://www.nasa.gov\n",
    "\"\"\"\n",
    "\n",
    "# pattern = re.compile(r'https?://(www\\.)?\\w+\\.\\w+')\n",
    "pattern = re.compile(r'https?://(www\\.)?(\\w+)(\\.\\w+)') # () are groups, \n",
    "\n",
    "subbed_urls = pattern.sub(r'\\2\\3', urls) # substitute group 2 and group 3\n",
    "print(subbed_urls)\n",
    "matches = pattern.finditer(urls)\n",
    "\n",
    "for match in matches:\n",
    "    print(match.group(2))"
   ]
  },
  {
   "cell_type": "code",
   "execution_count": 93,
   "metadata": {},
   "outputs": [
    {
     "name": "stdout",
     "output_type": "stream",
     "text": [
      "<re.Match object; span=(0, 5), match='Start'>\n",
      "None\n"
     ]
    }
   ],
   "source": [
    "sentence = \"Start a sentence and then bring it to an end\"\n",
    "# pattern = re.compile(r'\\d{3}.\\d{3}.\\d{4}')\n",
    "# matches = pattern.finditer(text_to_search)\n",
    "# pattern = re.compile(r'\\d{3}[-.]\\d{3}[-.]\\d{4}')\n",
    "# pattern = re.compile(r'[^b]at') # the inverse\n",
    "# pattern = re.compile(r'\\d{3}}.\\d{3}.\\d{4}')\n",
    "# pattern = re.compile(r'Mr\\.?\\s[A-Z]\\w*')\n",
    "pattern = re.compile(r'Start')\n",
    "\n",
    "# matches = pattern.finditer(text_to_search)\n",
    "matches = pattern.match(sentence)\n",
    "\n",
    "print(matches)\n",
    "\n",
    "pattern = re.compile(r'btart')\n",
    "\n",
    "# matches = pattern.finditer(text_to_search)\n",
    "matches = pattern.match(sentence)\n",
    "\n",
    "print(matches)"
   ]
  },
  {
   "cell_type": "code",
   "execution_count": null,
   "metadata": {},
   "outputs": [
    {
     "name": "stdout",
     "output_type": "stream",
     "text": [
      "<re.Match object; span=(8, 16), match='sentence'>\n",
      "<re.Match object; span=(0, 5), match='Start'>\n"
     ]
    }
   ],
   "source": [
    "sentence = \"Start a sentence and then bring it to an end\"\n",
    "pattern = re.compile(r'sentence')\n",
    "\n",
    "# matches = pattern.finditer(text_to_search)\n",
    "matches = pattern.search(sentence)\n",
    "\n",
    "print(matches)\n",
    "\n",
    "pattern = re.compile(r'start', re.IGNORECASE) # or re.I\n",
    "\n",
    "# matches = pattern.finditer(text_to_search)\n",
    "matches = pattern.search(sentence)\n",
    "\n",
    "print(matches)"
   ]
  },
  {
   "cell_type": "code",
   "execution_count": null,
   "metadata": {},
   "outputs": [],
   "source": []
  }
 ],
 "metadata": {
  "kernelspec": {
   "display_name": ".venv",
   "language": "python",
   "name": "python3"
  },
  "language_info": {
   "codemirror_mode": {
    "name": "ipython",
    "version": 3
   },
   "file_extension": ".py",
   "mimetype": "text/x-python",
   "name": "python",
   "nbconvert_exporter": "python",
   "pygments_lexer": "ipython3",
   "version": "3.12.3"
  }
 },
 "nbformat": 4,
 "nbformat_minor": 2
}
