{
 "cells": [
  {
   "cell_type": "markdown",
   "metadata": {},
   "source": [
    "# Decorators\n",
    "\n",
    "Note: 'decorators' and 'function wrappers' are the same thing.\n",
    "\n",
    "[totorial](https://www.geeksforgeeks.org/python-decorators-a-complete-guide/)\n",
    "\n",
    "[better tutorial](https://realpython.com/primer-on-python-decorators/)\n",
    "\n",
    "\n",
    "method decorators:\n",
    "\n",
    "- @staticmethod\n",
    "- @classmethod\n",
    "- @property\n",
    "\n",
    "fucntion decorators:\n",
    "\n",
    "- @functools.wraps\n",
    "- @lru_cache\n",
    "- @dataclass\n",
    "- @atexit.register\n",
    "- @enum.unique\n",
    "- @singledispatch"
   ]
  },
  {
   "cell_type": "markdown",
   "metadata": {},
   "source": [
    "## Creating a functional decorator"
   ]
  },
  {
   "cell_type": "code",
   "execution_count": 37,
   "metadata": {},
   "outputs": [
    {
     "name": "stdout",
     "output_type": "stream",
     "text": [
      "wrapper\n",
      "hello Dirk\n"
     ]
    }
   ],
   "source": [
    "from functools import wraps\n",
    "\n",
    "def example_decorator(func):\n",
    "    @wraps(func)\n",
    "    def wrapper(*args, **kwargs):\n",
    "        print(\"wrapper\")\n",
    "        return func(*args, **kwargs)\n",
    "    \n",
    "    return wrapper\n",
    "\n",
    "@example_decorator\n",
    "def hello_name(name: str):\n",
    "    print(f\"hello {name}\")\n",
    "\n",
    "hello_name(\"Dirk\")"
   ]
  },
  {
   "cell_type": "code",
   "execution_count": 38,
   "metadata": {},
   "outputs": [
    {
     "name": "stdout",
     "output_type": "stream",
     "text": [
      "hello Dirk!\n"
     ]
    }
   ],
   "source": [
    "def example_decorator(func):\n",
    "    @wraps(func)\n",
    "    def wrapper(*args, **kwargs):\n",
    "        kwargs[\"name\"] = f\"{kwargs[\"name\"]}!\"\n",
    "        return func(*args, **kwargs)\n",
    "    \n",
    "    return wrapper\n",
    "\n",
    "@example_decorator\n",
    "def hello_name(name: str):\n",
    "    print(f\"hello {name}\")\n",
    "\n",
    "hello_name(name=\"Dirk\")"
   ]
  },
  {
   "cell_type": "code",
   "execution_count": 39,
   "metadata": {},
   "outputs": [
    {
     "name": "stdout",
     "output_type": "stream",
     "text": [
      "before function\n",
      "Dirk\n",
      "after function\n"
     ]
    }
   ],
   "source": [
    "def food_wrapper(func):\n",
    "    @wraps(func)\n",
    "    def wrapper(*args, **kwargs):\n",
    "\n",
    "        print(\"before function\")\n",
    "        response = func(*args, **kwargs)\n",
    "        print(\"after function\")\n",
    "\n",
    "        return response\n",
    "    \n",
    "    return wrapper\n",
    "\n",
    "@food_wrapper\n",
    "def test(name):\n",
    "    print(name)\n",
    "\n",
    "test(name=\"Dirk\")\n"
   ]
  },
  {
   "cell_type": "code",
   "execution_count": 40,
   "metadata": {},
   "outputs": [
    {
     "name": "stdout",
     "output_type": "stream",
     "text": [
      "before function\n",
      "after function\n"
     ]
    },
    {
     "data": {
      "text/plain": [
       "'My favorite dish is grilled Duck'"
      ]
     },
     "execution_count": 40,
     "metadata": {},
     "output_type": "execute_result"
    }
   ],
   "source": [
    "def duck_wrapper(func):\n",
    "    @wraps(func)\n",
    "    def wrapper(*args, **kwargs):\n",
    "\n",
    "        print(\"before function\")\n",
    "        animal = \"Duck\"\n",
    "        response = func(animal, *args, **kwargs)\n",
    "        print(\"after function\")\n",
    "\n",
    "        return response\n",
    "    \n",
    "    return wrapper\n",
    "\n",
    "@duck_wrapper\n",
    "def fav_food(animal, style):\n",
    "    return f\"My favorite dish is {style} {animal}\"\n",
    "\n",
    "fav_food(style=\"grilled\")"
   ]
  },
  {
   "cell_type": "markdown",
   "metadata": {},
   "source": [
    "A handy implementation is to use decorators for validation."
   ]
  },
  {
   "cell_type": "code",
   "execution_count": 41,
   "metadata": {},
   "outputs": [
    {
     "data": {
      "text/plain": [
       "{'posted on': datetime.datetime(2025, 4, 23, 12, 1, 28, 508694),\n",
       " 'message': 'hello'}"
      ]
     },
     "execution_count": 41,
     "metadata": {},
     "output_type": "execute_result"
    }
   ],
   "source": [
    "import datetime\n",
    "CREDENTIALS = {\"user\": \"Dirk\", \"last_active\": datetime.datetime(1970, 9, 23, 14, 10)}\n",
    "\n",
    "\n",
    "\n",
    "def check_last_active(func):\n",
    "    @wraps(func)\n",
    "    def wrapper(*args, **kwargs):\n",
    "        if CREDENTIALS[\"last_active\"] < (datetime.datetime.now() - datetime.timedelta(minutes=5)):\n",
    "            raise AssertionError(\"You were offline for too long, please check if your registration information is still correct.\")\n",
    "        \n",
    "        return func(*args, **kwargs)\n",
    "    return wrapper\n",
    "\n",
    "def make_post(message):\n",
    "    return {\"posted on\": datetime.datetime.now(), \"message\": message}\n",
    "\n",
    "make_post(\"hello\")"
   ]
  },
  {
   "cell_type": "code",
   "execution_count": 42,
   "metadata": {},
   "outputs": [
    {
     "ename": "AssertionError",
     "evalue": "You were offline for too long, please check if your registration information is still correct.",
     "output_type": "error",
     "traceback": [
      "\u001b[31m---------------------------------------------------------------------------\u001b[39m",
      "\u001b[31mAssertionError\u001b[39m                            Traceback (most recent call last)",
      "\u001b[36mCell\u001b[39m\u001b[36m \u001b[39m\u001b[32mIn[42]\u001b[39m\u001b[32m, line 5\u001b[39m\n\u001b[32m      1\u001b[39m \u001b[38;5;129m@check_last_active\u001b[39m\n\u001b[32m      2\u001b[39m \u001b[38;5;28;01mdef\u001b[39;00m\u001b[38;5;250m \u001b[39m\u001b[34mmake_post\u001b[39m(message):\n\u001b[32m      3\u001b[39m     \u001b[38;5;28;01mreturn\u001b[39;00m {\u001b[33m\"\u001b[39m\u001b[33mposted on\u001b[39m\u001b[33m\"\u001b[39m: datetime.datetime.now(), \u001b[33m\"\u001b[39m\u001b[33mmessage\u001b[39m\u001b[33m\"\u001b[39m: message}\n\u001b[32m----> \u001b[39m\u001b[32m5\u001b[39m \u001b[43mmake_post\u001b[49m\u001b[43m(\u001b[49m\u001b[33;43m\"\u001b[39;49m\u001b[33;43mhello\u001b[39;49m\u001b[33;43m\"\u001b[39;49m\u001b[43m)\u001b[49m\n",
      "\u001b[36mCell\u001b[39m\u001b[36m \u001b[39m\u001b[32mIn[41]\u001b[39m\u001b[32m, line 10\u001b[39m, in \u001b[36mcheck_last_active.<locals>.wrapper\u001b[39m\u001b[34m(*args, **kwargs)\u001b[39m\n\u001b[32m      7\u001b[39m \u001b[38;5;129m@wraps\u001b[39m(func)\n\u001b[32m      8\u001b[39m \u001b[38;5;28;01mdef\u001b[39;00m\u001b[38;5;250m \u001b[39m\u001b[34mwrapper\u001b[39m(*args, **kwargs):\n\u001b[32m      9\u001b[39m     \u001b[38;5;28;01mif\u001b[39;00m CREDENTIALS[\u001b[33m\"\u001b[39m\u001b[33mlast_active\u001b[39m\u001b[33m\"\u001b[39m] < (datetime.datetime.now() - datetime.timedelta(minutes=\u001b[32m5\u001b[39m)):\n\u001b[32m---> \u001b[39m\u001b[32m10\u001b[39m         \u001b[38;5;28;01mraise\u001b[39;00m \u001b[38;5;167;01mAssertionError\u001b[39;00m(\u001b[33m\"\u001b[39m\u001b[33mYou were offline for too long, please check if your registration information is still correct.\u001b[39m\u001b[33m\"\u001b[39m)\n\u001b[32m     12\u001b[39m     \u001b[38;5;28;01mreturn\u001b[39;00m func(*args, **kwargs)\n",
      "\u001b[31mAssertionError\u001b[39m: You were offline for too long, please check if your registration information is still correct."
     ]
    }
   ],
   "source": [
    "@check_last_active\n",
    "def make_post(message):\n",
    "    return {\"posted on\": datetime.datetime.now(), \"message\": message}\n",
    "\n",
    "make_post(\"hello\")"
   ]
  },
  {
   "cell_type": "markdown",
   "metadata": {},
   "source": [
    "### Adding arguments to a decorator\n",
    "\n",
    "https://blog.miguelgrinberg.com/post/the-ultimate-guide-to-python-decorators-part-iii-decorators-with-arguments\n",
    "\n",
    "Solution: You just put the whole decorator function into another function, lmao."
   ]
  },
  {
   "cell_type": "code",
   "execution_count": null,
   "metadata": {},
   "outputs": [
    {
     "ename": "AssertionError",
     "evalue": "You were offline for too long, please check if your registration information is still correct.",
     "output_type": "error",
     "traceback": [
      "\u001b[31m---------------------------------------------------------------------------\u001b[39m",
      "\u001b[31mAssertionError\u001b[39m                            Traceback (most recent call last)",
      "\u001b[36mCell\u001b[39m\u001b[36m \u001b[39m\u001b[32mIn[4]\u001b[39m\u001b[32m, line 22\u001b[39m\n\u001b[32m     18\u001b[39m \u001b[38;5;129m@get_last_active\u001b[39m(last_activity=datetime.timedelta(minutes=\u001b[32m5\u001b[39m))\n\u001b[32m     19\u001b[39m \u001b[38;5;28;01mdef\u001b[39;00m\u001b[38;5;250m \u001b[39m\u001b[34mmake_post\u001b[39m(message):\n\u001b[32m     20\u001b[39m     \u001b[38;5;28;01mreturn\u001b[39;00m {\u001b[33m\"\u001b[39m\u001b[33mposted on\u001b[39m\u001b[33m\"\u001b[39m: datetime.datetime.now(), \u001b[33m\"\u001b[39m\u001b[33mmessage\u001b[39m\u001b[33m\"\u001b[39m: message}\n\u001b[32m---> \u001b[39m\u001b[32m22\u001b[39m \u001b[43mmake_post\u001b[49m\u001b[43m(\u001b[49m\u001b[33;43m\"\u001b[39;49m\u001b[33;43mhello\u001b[39;49m\u001b[33;43m\"\u001b[39;49m\u001b[43m)\u001b[49m\n",
      "\u001b[36mCell\u001b[39m\u001b[36m \u001b[39m\u001b[32mIn[4]\u001b[39m\u001b[32m, line 11\u001b[39m, in \u001b[36mget_last_active.<locals>.check_last_active.<locals>.wrapper\u001b[39m\u001b[34m(*args, **kwargs)\u001b[39m\n\u001b[32m      8\u001b[39m \u001b[38;5;129m@wraps\u001b[39m(func)\n\u001b[32m      9\u001b[39m \u001b[38;5;28;01mdef\u001b[39;00m\u001b[38;5;250m \u001b[39m\u001b[34mwrapper\u001b[39m(*args, **kwargs):\n\u001b[32m     10\u001b[39m     \u001b[38;5;28;01mif\u001b[39;00m CREDENTIALS[\u001b[33m\"\u001b[39m\u001b[33mlast_active\u001b[39m\u001b[33m\"\u001b[39m] < (datetime.datetime.now() - last_activity):\n\u001b[32m---> \u001b[39m\u001b[32m11\u001b[39m         \u001b[38;5;28;01mraise\u001b[39;00m \u001b[38;5;167;01mAssertionError\u001b[39;00m(\u001b[33m\"\u001b[39m\u001b[33mYou were offline for too long, please check if your registration information is still correct.\u001b[39m\u001b[33m\"\u001b[39m)\n\u001b[32m     13\u001b[39m     \u001b[38;5;28;01mreturn\u001b[39;00m func(*args, **kwargs)\n",
      "\u001b[31mAssertionError\u001b[39m: You were offline for too long, please check if your registration information is still correct."
     ]
    }
   ],
   "source": [
    "import datetime\n",
    "from functools import wraps\n",
    "CREDENTIALS = {\"user\": \"Dirk\", \"last_active\": datetime.datetime(1970, 9, 23, 14, 10)}\n",
    "\n",
    "\n",
    "def get_last_active(last_activity: datetime.timedelta):\n",
    "    def check_last_active(func):\n",
    "        @wraps(func)\n",
    "        def wrapper(*args, **kwargs):\n",
    "            if CREDENTIALS[\"last_active\"] < (datetime.datetime.now() - last_activity):\n",
    "                raise AssertionError(\"You were offline for too long, please check if your registration information is still correct.\")\n",
    "            \n",
    "            return func(*args, **kwargs)\n",
    "        return wrapper\n",
    "    return check_last_active\n",
    "\n",
    "\n",
    "@get_last_active(last_activity=datetime.timedelta(minutes=5))\n",
    "def make_post(message):\n",
    "    return {\"posted on\": datetime.datetime.now(), \"message\": message}\n",
    "\n",
    "make_post(\"hello\")"
   ]
  },
  {
   "cell_type": "markdown",
   "metadata": {},
   "source": [
    "## Creating OOP decorators\n",
    "\n",
    "https://medium.com/data-science/python-decorators-in-oop-3189c526ead6\n",
    "\n",
    "you can just use them af is the methods are fucncions?"
   ]
  },
  {
   "cell_type": "code",
   "execution_count": 43,
   "metadata": {},
   "outputs": [
    {
     "name": "stdout",
     "output_type": "stream",
     "text": [
      "kitty!\n"
     ]
    }
   ],
   "source": [
    "import functools\n",
    "\n",
    "\n",
    "\n",
    "\n",
    "def wrapper(method):\n",
    "    @functools.wraps(method)\n",
    "    def _impl(self, *method_args, **method_kwargs):\n",
    "        method_output = method(self, *method_args, **method_kwargs)\n",
    "        return method_output + \"!\"\n",
    "    return _impl\n",
    "\n",
    "class Foo:\n",
    "    @wrapper\n",
    "    def bar(self, word):\n",
    "        return word\n",
    "\n",
    "f = Foo()\n",
    "result = f.bar(\"kitty\")\n",
    "print(result)"
   ]
  },
  {
   "cell_type": "markdown",
   "metadata": {},
   "source": [
    "My own (dumb) version. But can be converted to send info to a log."
   ]
  },
  {
   "cell_type": "code",
   "execution_count": 48,
   "metadata": {},
   "outputs": [
    {
     "name": "stdout",
     "output_type": "stream",
     "text": [
      "initiated list\n",
      "Action:\n",
      "\n",
      "                \tCurrent class: MovieList\n",
      "                \tCurrent method: add_to_list\n",
      "                \tCurrent list: ['tt5655']\n",
      "\n",
      "                \tPrinting to logfile: handylogfile.txt\n",
      "Action:\n",
      "\n",
      "                \tCurrent class: MovieList\n",
      "                \tCurrent method: add_to_list\n",
      "                \tCurrent list: ['tt5655', 'tt7657']\n",
      "\n",
      "                \tPrinting to logfile: handylogfile.txt\n"
     ]
    }
   ],
   "source": [
    "def print_list(method_name):\n",
    "    def get_method_name(method):\n",
    "        @functools.wraps(method)\n",
    "        def _impl(self, *method_args, **method_kwargs):\n",
    "            method_output = method(self, *method_args, **method_kwargs)\n",
    "            message = f\"\"\"Action:\\n\n",
    "                \\tCurrent class: {type(self).__name__}\n",
    "                \\tCurrent method: {method_name}\n",
    "                \\tCurrent list: {str(self.list)}\\n\n",
    "                \\tPrinting to logfile: {self.logfile}\"\"\"\n",
    "            print(message)\n",
    "            return method_output\n",
    "        return _impl\n",
    "    return get_method_name\n",
    "\n",
    "class MovieList:\n",
    "    logfile = \"\"\n",
    "    list = []\n",
    "    def __init__(self, logfile: str):\n",
    "        print(\"initiated list\")\n",
    "        MovieList.logfile = logfile\n",
    "    \n",
    "    @print_list(\"add_to_list\") # I don't know how to get method name, might be impossible\n",
    "    def add_to_list(self, movie_id: str):\n",
    "        MovieList.list.append(movie_id)\n",
    "\n",
    "\n",
    "list = MovieList(\"handylogfile.txt\")\n",
    "list.add_to_list(\"tt5655\")\n",
    "list.add_to_list(\"tt7657\")"
   ]
  },
  {
   "cell_type": "markdown",
   "metadata": {},
   "source": [
    "- @lru_cache\n",
    "- @dataclass\n",
    "- @atexit.register\n",
    "- @enum.unique\n",
    "- @singledispatch\n",
    "\n",
    "## @singledispatch\n",
    "\n",
    "For lack of a better explanation: This is basically overloading a function based on the input type.\n",
    "So if the function get's a string, if can do something different than when it get's an integer (or classes)."
   ]
  },
  {
   "cell_type": "code",
   "execution_count": null,
   "metadata": {},
   "outputs": [
    {
     "name": "stdout",
     "output_type": "stream",
     "text": [
      "Nice integer my dude!\n",
      "Damn, nice float!\n",
      "Nice string of words you have there!\n"
     ]
    }
   ],
   "source": [
    "from functools import singledispatch\n",
    "from typing import Union\n",
    "\n",
    "@singledispatch\n",
    "def shout_type(type_input: Union[str, int, float]):\n",
    "    raise NotImplementedError(f\"I don't know this type\")\n",
    "\n",
    "@shout_type.register\n",
    "def _(type_input: str):\n",
    "    print(\"Nice string of words you have there!\")\n",
    "\n",
    "@shout_type.register\n",
    "def _(type_input: int):\n",
    "    print(\"Nice integer my dude!\")\n",
    "\n",
    "@shout_type.register\n",
    "def _(type_input: float):\n",
    "    print(\"Damn, nice float!\")\n",
    "\n",
    "shout_type(7)\n",
    "shout_type(7.1)\n",
    "shout_type(\"hello\")"
   ]
  },
  {
   "cell_type": "markdown",
   "metadata": {},
   "source": [
    "## @dataclass\n",
    "\n",
    "This is almost how databases are made in django. I know most of it, but will recap a few things.\n",
    "\n",
    "Let's check if the frozen parameter is immutable."
   ]
  },
  {
   "cell_type": "code",
   "execution_count": 21,
   "metadata": {},
   "outputs": [
    {
     "ename": "FrozenInstanceError",
     "evalue": "cannot assign to field 'email'",
     "output_type": "error",
     "traceback": [
      "\u001b[31m---------------------------------------------------------------------------\u001b[39m",
      "\u001b[31mFrozenInstanceError\u001b[39m                       Traceback (most recent call last)",
      "\u001b[36mCell\u001b[39m\u001b[36m \u001b[39m\u001b[32mIn[21]\u001b[39m\u001b[32m, line 25\u001b[39m\n\u001b[32m     13\u001b[39m     \u001b[38;5;66;03m# def __init__(self, email: str, name: str, age: int, height: float):\u001b[39;00m\n\u001b[32m     14\u001b[39m     \u001b[38;5;66;03m#     self.email = email\u001b[39;00m\n\u001b[32m     15\u001b[39m     \u001b[38;5;66;03m#     self.name = name\u001b[39;00m\n\u001b[32m     16\u001b[39m     \u001b[38;5;66;03m#     self.age = age\u001b[39;00m\n\u001b[32m     17\u001b[39m     \u001b[38;5;66;03m#     self.height = height\u001b[39;00m\n\u001b[32m     19\u001b[39m programmer = User(\n\u001b[32m     20\u001b[39m     email=\u001b[33m\"\u001b[39m\u001b[33mRando@hotmail.com\u001b[39m\u001b[33m\"\u001b[39m,\n\u001b[32m     21\u001b[39m     name=\u001b[33m\"\u001b[39m\u001b[33mRando\u001b[39m\u001b[33m\"\u001b[39m,\n\u001b[32m     22\u001b[39m     age=\u001b[32m7\u001b[39m,\n\u001b[32m     23\u001b[39m     height=\u001b[32m1.65\u001b[39m)\n\u001b[32m---> \u001b[39m\u001b[32m25\u001b[39m \u001b[43mprogrammer\u001b[49m\u001b[43m.\u001b[49m\u001b[43memail\u001b[49m = \u001b[32m1\u001b[39m\n\u001b[32m     26\u001b[39m programmer.email\n",
      "\u001b[36mFile \u001b[39m\u001b[32m<string>:4\u001b[39m, in \u001b[36m__setattr__\u001b[39m\u001b[34m(self, name, value)\u001b[39m\n",
      "\u001b[31mFrozenInstanceError\u001b[39m: cannot assign to field 'email'"
     ]
    }
   ],
   "source": [
    "from dataclasses import dataclass\n",
    "\n",
    "@dataclass(frozen=True)\n",
    "class User:\n",
    "    email: str\n",
    "    name: str\n",
    "    age: int\n",
    "    height: float\n",
    "\n",
    "    def get_height(self):\n",
    "        return self.email\n",
    "\n",
    "    # def __init__(self, email: str, name: str, age: int, height: float):\n",
    "    #     self.email = email\n",
    "    #     self.name = name\n",
    "    #     self.age = age\n",
    "    #     self.height = height\n",
    "\n",
    "programmer = User(\n",
    "    email=\"Rando@hotmail.com\",\n",
    "    name=\"Rando\",\n",
    "    age=7,\n",
    "    height=1.65)\n",
    "\n",
    "programmer.email = 1\n",
    "programmer.email"
   ]
  },
  {
   "cell_type": "markdown",
   "metadata": {},
   "source": [
    "I already know you can override the dunders, but let's check the property decorator."
   ]
  },
  {
   "cell_type": "code",
   "execution_count": 22,
   "metadata": {},
   "outputs": [
    {
     "name": "stdout",
     "output_type": "stream",
     "text": [
      "getting the value of email\n",
      "1: -----------------\n",
      "setting the value of email\n",
      "2: -----------------\n",
      "deleting the value of email\n",
      "3: -----------------\n"
     ]
    }
   ],
   "source": [
    "@dataclass\n",
    "class User:\n",
    "\n",
    "    def __init__(self, email: str, name: str):\n",
    "        self._email = email\n",
    "        self._name = name\n",
    "    \n",
    "    @property\n",
    "    def email(self):\n",
    "        print(\"getting the value of email\")\n",
    "        return self._email\n",
    "\n",
    "    @email.setter\n",
    "    def email(self, value):\n",
    "        print(\"setting the value of email\")\n",
    "        self._email = value\n",
    "    \n",
    "    @email.deleter\n",
    "    def email(self):\n",
    "        print(\"deleting the value of email\")\n",
    "        del self._email\n",
    "\n",
    "programmer = User(email=\"Rando@hotmail.com\",name=\"Rando\")\n",
    "\n",
    "programmer.email\n",
    "print(\"1: -----------------\")\n",
    "programmer.email = \"a\"\n",
    "print(\"2: -----------------\")\n",
    "del programmer.email\n",
    "print(\"3: -----------------\")\n"
   ]
  },
  {
   "cell_type": "markdown",
   "metadata": {},
   "source": [
    "Work's as expected, this is awesome."
   ]
  }
 ],
 "metadata": {
  "kernelspec": {
   "display_name": ".venv",
   "language": "python",
   "name": "python3"
  },
  "language_info": {
   "codemirror_mode": {
    "name": "ipython",
    "version": 3
   },
   "file_extension": ".py",
   "mimetype": "text/x-python",
   "name": "python",
   "nbconvert_exporter": "python",
   "pygments_lexer": "ipython3",
   "version": "3.12.3"
  }
 },
 "nbformat": 4,
 "nbformat_minor": 2
}
