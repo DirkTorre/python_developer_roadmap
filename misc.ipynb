{
 "cells": [
  {
   "cell_type": "markdown",
   "metadata": {},
   "source": [
    "# Random handy stuff\n",
    "\n",
    "## Enum\n",
    "\n",
    "Create a enumeration of constants.\n",
    "When using auto(), an ascending number will be assigned to the constant."
   ]
  },
  {
   "cell_type": "code",
   "execution_count": 10,
   "metadata": {},
   "outputs": [
    {
     "data": {
      "text/plain": [
       "2"
      ]
     },
     "metadata": {},
     "output_type": "display_data"
    },
    {
     "data": {
      "text/plain": [
       "'TWO'"
      ]
     },
     "metadata": {},
     "output_type": "display_data"
    }
   ],
   "source": [
    "from enum import Enum, auto\n",
    "\n",
    "class EnumeratedConstants(Enum):\n",
    "    ONE = auto()\n",
    "    TWO = auto()\n",
    "    THREE = auto()\n",
    "    FOUR = auto()\n",
    "    \n",
    "display(EnumeratedConstants.TWO.value, EnumeratedConstants.TWO.name)"
   ]
  }
 ],
 "metadata": {
  "kernelspec": {
   "display_name": ".venv",
   "language": "python",
   "name": "python3"
  },
  "language_info": {
   "codemirror_mode": {
    "name": "ipython",
    "version": 3
   },
   "file_extension": ".py",
   "mimetype": "text/x-python",
   "name": "python",
   "nbconvert_exporter": "python",
   "pygments_lexer": "ipython3",
   "version": "3.12.3"
  }
 },
 "nbformat": 4,
 "nbformat_minor": 2
}
