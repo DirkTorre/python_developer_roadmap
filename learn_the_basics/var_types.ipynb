{
 "cells": [
  {
   "cell_type": "markdown",
   "metadata": {},
   "source": [
    "## f-strings\n",
    "\n",
    "f-strings have a lot of handy things, but this one i want to document for myself."
   ]
  },
  {
   "cell_type": "code",
   "execution_count": 5,
   "metadata": {},
   "outputs": [
    {
     "name": "stdout",
     "output_type": "stream",
     "text": [
      "yeeha\n",
      "BAM!\n"
     ]
    }
   ],
   "source": [
    "var1 = \"yeeha\"\n",
    "var2 = \"BAM!\"\n",
    "\n",
    "print(f\"{var1}\\n{var2}\")"
   ]
  },
  {
   "cell_type": "markdown",
   "metadata": {},
   "source": [
    "adding '=' after your variable prints out the name of the var too, very handy."
   ]
  },
  {
   "cell_type": "code",
   "execution_count": 6,
   "metadata": {},
   "outputs": [
    {
     "name": "stdout",
     "output_type": "stream",
     "text": [
      "var1='yeeha'\n",
      "var2='BAM!'\n"
     ]
    }
   ],
   "source": [
    "print(f\"{var1=}\\n{var2=}\")"
   ]
  }
 ],
 "metadata": {
  "kernelspec": {
   "display_name": ".venv",
   "language": "python",
   "name": "python3"
  },
  "language_info": {
   "codemirror_mode": {
    "name": "ipython",
    "version": 3
   },
   "file_extension": ".py",
   "mimetype": "text/x-python",
   "name": "python",
   "nbconvert_exporter": "python",
   "pygments_lexer": "ipython3",
   "version": "3.12.3"
  }
 },
 "nbformat": 4,
 "nbformat_minor": 2
}
