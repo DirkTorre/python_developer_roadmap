{
 "cells": [
  {
   "cell_type": "markdown",
   "metadata": {},
   "source": [
    "# built-in functions\n",
    "\n",
    "I never had to use every build-in function, so it's time to check them all out.\n",
    "https://docs.python.org/3/library/functions.html"
   ]
  },
  {
   "cell_type": "markdown",
   "metadata": {},
   "source": [
    "## abs(), all(), any()"
   ]
  },
  {
   "cell_type": "code",
   "execution_count": 1,
   "metadata": {},
   "outputs": [
    {
     "name": "stdout",
     "output_type": "stream",
     "text": [
      "gives the absolute / positive:\t 12.34\n",
      "return true if all are true:\t False True\n",
      "return true if any is true:\t True False\n"
     ]
    }
   ],
   "source": [
    "print(\"gives the absolute / positive:\\t\", abs(-12.34))\n",
    "print(\"return true if all are true:\\t\", all([True, True, False]), all([True, True]))\n",
    "print(\"return true if any is true:\\t\", any([True, False, False]), any([False, False]))"
   ]
  },
  {
   "cell_type": "markdown",
   "metadata": {},
   "source": [
    "awaitable"
   ]
  },
  {
   "cell_type": "markdown",
   "metadata": {},
   "source": [
    "## ascii()"
   ]
  },
  {
   "cell_type": "code",
   "execution_count": 2,
   "metadata": {},
   "outputs": [
    {
     "data": {
      "text/plain": [
       "\"'a\\\\tb\\\\nc'\""
      ]
     },
     "execution_count": 2,
     "metadata": {},
     "output_type": "execute_result"
    }
   ],
   "source": [
    "test = \"a\\tb\\nc\"\n",
    "ascii(test)"
   ]
  },
  {
   "cell_type": "markdown",
   "metadata": {},
   "source": [
    "## bin()"
   ]
  },
  {
   "cell_type": "code",
   "execution_count": 3,
   "metadata": {},
   "outputs": [
    {
     "data": {
      "text/plain": [
       "'0b111'"
      ]
     },
     "execution_count": 3,
     "metadata": {},
     "output_type": "execute_result"
    }
   ],
   "source": [
    "bin(7) # turns integers into binary strings"
   ]
  },
  {
   "cell_type": "markdown",
   "metadata": {},
   "source": [
    "## breakpoint()"
   ]
  },
  {
   "cell_type": "code",
   "execution_count": 5,
   "metadata": {},
   "outputs": [],
   "source": [
    "breakpoint()"
   ]
  },
  {
   "cell_type": "markdown",
   "metadata": {},
   "source": [
    "basically the code version of a breakpoint.\n",
    "it's like debugging by using print(), but with a debugger.\n",
    "Yes, i known that sounds weird."
   ]
  },
  {
   "cell_type": "markdown",
   "metadata": {},
   "source": [
    "## bytearray\n",
    "\n",
    "a bytearray is basically a muatable string."
   ]
  },
  {
   "cell_type": "code",
   "execution_count": 6,
   "metadata": {},
   "outputs": [
    {
     "name": "stdout",
     "output_type": "stream",
     "text": [
      "bytearray(b'abcd')\n",
      "bytearray(b'')\n",
      "bytearray(b'\\x00')\n",
      "bytearray(b'\\x00\\x00')\n"
     ]
    }
   ],
   "source": [
    "print(bytearray(\"abcd\", encoding='utf-8'))\n",
    "print(bytearray(0))\n",
    "print(bytearray(1))\n",
    "print(bytearray(2))"
   ]
  },
  {
   "cell_type": "markdown",
   "metadata": {},
   "source": [
    "## bytes()\n",
    "\n",
    "bytes() is an immutable version of bytearray"
   ]
  },
  {
   "cell_type": "code",
   "execution_count": 7,
   "metadata": {},
   "outputs": [
    {
     "name": "stdout",
     "output_type": "stream",
     "text": [
      "b'test'\n",
      "b''\n",
      "b'\\x00\\x00\\x00\\x00\\x00\\x00\\x00\\x00\\x00\\x00'\n"
     ]
    }
   ],
   "source": [
    "print(bytes(\"test\", encoding='utf-8'))\n",
    "print(bytes(0))\n",
    "print(bytes(10))"
   ]
  },
  {
   "cell_type": "markdown",
   "metadata": {},
   "source": [
    "## callable\n",
    "\n",
    "When a variable can be executed/called.\n",
    "So a function is a callable."
   ]
  },
  {
   "cell_type": "code",
   "execution_count": 8,
   "metadata": {},
   "outputs": [
    {
     "name": "stdout",
     "output_type": "stream",
     "text": [
      "False\n",
      "False\n",
      "False\n",
      "True\n"
     ]
    }
   ],
   "source": [
    "test = None\n",
    "print(callable(test))\n",
    "\n",
    "test = 1\n",
    "print(callable(test))\n",
    "\n",
    "test = \"abcd\"\n",
    "print(callable(test))\n",
    "\n",
    "def goose():\n",
    "    return 1\n",
    "\n",
    "print(callable(goose))\n"
   ]
  },
  {
   "cell_type": "code",
   "execution_count": 9,
   "metadata": {},
   "outputs": [
    {
     "name": "stdout",
     "output_type": "stream",
     "text": [
      "ribs\n",
      "kiwi\n"
     ]
    }
   ],
   "source": [
    "class Food:\n",
    "    def __init__(self, name):\n",
    "        self.name = name\n",
    "\n",
    "    def get_name(self):\n",
    "        return self.name\n",
    "    \n",
    "\n",
    "ribs = Food(\"ribs\")\n",
    "kiwi = Food(\"kiwi\")\n",
    "print(ribs.get_name())\n",
    "print(kiwi.get_name())"
   ]
  },
  {
   "cell_type": "markdown",
   "metadata": {},
   "source": [
    "## compile"
   ]
  },
  {
   "cell_type": "markdown",
   "metadata": {},
   "source": [
    "Basically, this converts a string to code. can also load files."
   ]
  },
  {
   "cell_type": "code",
   "execution_count": 10,
   "metadata": {},
   "outputs": [
    {
     "name": "stdout",
     "output_type": "stream",
     "text": [
      "1\n"
     ]
    }
   ],
   "source": [
    "x = compile(\"print(1)\", 'test', 'eval')\n",
    "exec(x)"
   ]
  },
  {
   "cell_type": "markdown",
   "metadata": {},
   "source": [
    "## complex\n",
    "\n",
    "if you want to work with imaginary numbers"
   ]
  },
  {
   "cell_type": "code",
   "execution_count": 11,
   "metadata": {},
   "outputs": [
    {
     "data": {
      "text/plain": [
       "-1.2j"
      ]
     },
     "execution_count": 11,
     "metadata": {},
     "output_type": "execute_result"
    }
   ],
   "source": [
    "complex(\"-1.2j\")"
   ]
  },
  {
   "cell_type": "code",
   "execution_count": 12,
   "metadata": {},
   "outputs": [
    {
     "data": {
      "text/plain": [
       "(-3+4.8j)"
      ]
     },
     "execution_count": 12,
     "metadata": {},
     "output_type": "execute_result"
    }
   ],
   "source": [
    "complex(\"-3+4.8j\")"
   ]
  },
  {
   "cell_type": "code",
   "execution_count": 13,
   "metadata": {},
   "outputs": [
    {
     "data": {
      "text/plain": [
       "(-2.1+3.6j)"
      ]
     },
     "execution_count": 13,
     "metadata": {},
     "output_type": "execute_result"
    }
   ],
   "source": [
    "complex(-2.1, 3.6)"
   ]
  },
  {
   "cell_type": "code",
   "execution_count": 14,
   "metadata": {},
   "outputs": [
    {
     "data": {
      "text/plain": [
       "(5+0j)"
      ]
     },
     "execution_count": 14,
     "metadata": {},
     "output_type": "execute_result"
    }
   ],
   "source": [
    "complex(1,-2) * complex(1,2)"
   ]
  },
  {
   "cell_type": "markdown",
   "metadata": {},
   "source": [
    "## delattr()\n",
    "deletes an attribute, if allowed."
   ]
  },
  {
   "cell_type": "code",
   "execution_count": 76,
   "metadata": {},
   "outputs": [
    {
     "data": {
      "text/plain": [
       "['__class__',\n",
       " '__delattr__',\n",
       " '__dict__',\n",
       " '__dir__',\n",
       " '__doc__',\n",
       " '__eq__',\n",
       " '__format__',\n",
       " '__ge__',\n",
       " '__getattribute__',\n",
       " '__getstate__',\n",
       " '__gt__',\n",
       " '__hash__',\n",
       " '__init__',\n",
       " '__init_subclass__',\n",
       " '__le__',\n",
       " '__lt__',\n",
       " '__module__',\n",
       " '__ne__',\n",
       " '__new__',\n",
       " '__reduce__',\n",
       " '__reduce_ex__',\n",
       " '__repr__',\n",
       " '__setattr__',\n",
       " '__sizeof__',\n",
       " '__str__',\n",
       " '__subclasshook__',\n",
       " '__weakref__',\n",
       " 'b']"
      ]
     },
     "execution_count": 76,
     "metadata": {},
     "output_type": "execute_result"
    }
   ],
   "source": [
    "class Test:\n",
    "    a = 0\n",
    "    b = 1\n",
    "test = Test()\n",
    "test.a\n",
    "delattr(Test, \"a\")\n",
    "dir(test)"
   ]
  },
  {
   "cell_type": "code",
   "execution_count": 79,
   "metadata": {},
   "outputs": [
    {
     "data": {
      "text/plain": [
       "['__class__',\n",
       " '__delattr__',\n",
       " '__dict__',\n",
       " '__dir__',\n",
       " '__doc__',\n",
       " '__eq__',\n",
       " '__format__',\n",
       " '__ge__',\n",
       " '__getattribute__',\n",
       " '__getstate__',\n",
       " '__gt__',\n",
       " '__hash__',\n",
       " '__init__',\n",
       " '__init_subclass__',\n",
       " '__le__',\n",
       " '__lt__',\n",
       " '__module__',\n",
       " '__ne__',\n",
       " '__new__',\n",
       " '__reduce__',\n",
       " '__reduce_ex__',\n",
       " '__repr__',\n",
       " '__setattr__',\n",
       " '__sizeof__',\n",
       " '__str__',\n",
       " '__subclasshook__',\n",
       " '__weakref__',\n",
       " 'b',\n",
       " 'c']"
      ]
     },
     "execution_count": 79,
     "metadata": {},
     "output_type": "execute_result"
    }
   ],
   "source": [
    "class Test2(Test):\n",
    "    c = 2\n",
    "\n",
    "test = Test2()\n",
    "dir(test)"
   ]
  },
  {
   "cell_type": "code",
   "execution_count": 82,
   "metadata": {},
   "outputs": [
    {
     "ename": "AttributeError",
     "evalue": "type object 'Test2' has no attribute 'b'",
     "output_type": "error",
     "traceback": [
      "\u001b[31m---------------------------------------------------------------------------\u001b[39m",
      "\u001b[31mAttributeError\u001b[39m                            Traceback (most recent call last)",
      "\u001b[36mCell\u001b[39m\u001b[36m \u001b[39m\u001b[32mIn[82]\u001b[39m\u001b[32m, line 1\u001b[39m\n\u001b[32m----> \u001b[39m\u001b[32m1\u001b[39m \u001b[38;5;28;43mdelattr\u001b[39;49m\u001b[43m(\u001b[49m\u001b[43mTest2\u001b[49m\u001b[43m,\u001b[49m\u001b[43m \u001b[49m\u001b[33;43m\"\u001b[39;49m\u001b[33;43mb\u001b[39;49m\u001b[33;43m\"\u001b[39;49m\u001b[43m)\u001b[49m \u001b[38;5;66;03m# soes not want to remove this attribute?\u001b[39;00m\n\u001b[32m      3\u001b[39m \u001b[38;5;28mdir\u001b[39m(test)\n",
      "\u001b[31mAttributeError\u001b[39m: type object 'Test2' has no attribute 'b'"
     ]
    }
   ],
   "source": [
    "delattr(Test2, \"b\") # soes not want to remove this attribute?\n",
    "\n",
    "dir(test)"
   ]
  },
  {
   "cell_type": "markdown",
   "metadata": {},
   "source": [
    "## dir()"
   ]
  },
  {
   "cell_type": "code",
   "execution_count": 17,
   "metadata": {},
   "outputs": [
    {
     "data": {
      "text/plain": [
       "['Food',\n",
       " 'In',\n",
       " 'Out',\n",
       " 'Test',\n",
       " 'Test2',\n",
       " '_',\n",
       " '_11',\n",
       " '_12',\n",
       " '_13',\n",
       " '_14',\n",
       " '_2',\n",
       " '_3',\n",
       " '_4',\n",
       " '__',\n",
       " '___',\n",
       " '__builtin__',\n",
       " '__builtins__',\n",
       " '__doc__',\n",
       " '__loader__',\n",
       " '__name__',\n",
       " '__package__',\n",
       " '__spec__',\n",
       " '__vsc_ipynb_file__',\n",
       " '_dh',\n",
       " '_i',\n",
       " '_i1',\n",
       " '_i10',\n",
       " '_i11',\n",
       " '_i12',\n",
       " '_i13',\n",
       " '_i14',\n",
       " '_i15',\n",
       " '_i16',\n",
       " '_i17',\n",
       " '_i2',\n",
       " '_i3',\n",
       " '_i4',\n",
       " '_i5',\n",
       " '_i6',\n",
       " '_i7',\n",
       " '_i8',\n",
       " '_i9',\n",
       " '_ih',\n",
       " '_ii',\n",
       " '_iii',\n",
       " '_oh',\n",
       " 'exit',\n",
       " 'get_ipython',\n",
       " 'goose',\n",
       " 'kiwi',\n",
       " 'open',\n",
       " 'quit',\n",
       " 'ribs',\n",
       " 'test',\n",
       " 'x']"
      ]
     },
     "execution_count": 17,
     "metadata": {},
     "output_type": "execute_result"
    }
   ],
   "source": [
    "dir() # list of names of the local scope"
   ]
  },
  {
   "cell_type": "code",
   "execution_count": 18,
   "metadata": {},
   "outputs": [
    {
     "data": {
      "text/plain": [
       "['__class__',\n",
       " '__delattr__',\n",
       " '__dict__',\n",
       " '__dir__',\n",
       " '__doc__',\n",
       " '__eq__',\n",
       " '__format__',\n",
       " '__ge__',\n",
       " '__getattribute__',\n",
       " '__getstate__',\n",
       " '__gt__',\n",
       " '__hash__',\n",
       " '__init__',\n",
       " '__init_subclass__',\n",
       " '__le__',\n",
       " '__lt__',\n",
       " '__module__',\n",
       " '__ne__',\n",
       " '__new__',\n",
       " '__reduce__',\n",
       " '__reduce_ex__',\n",
       " '__repr__',\n",
       " '__setattr__',\n",
       " '__sizeof__',\n",
       " '__str__',\n",
       " '__subclasshook__',\n",
       " '__weakref__',\n",
       " 'a',\n",
       " 'b',\n",
       " 'c']"
      ]
     },
     "execution_count": 18,
     "metadata": {},
     "output_type": "execute_result"
    }
   ],
   "source": [
    "dir(test)"
   ]
  },
  {
   "cell_type": "markdown",
   "metadata": {},
   "source": [
    "## divmod\n",
    "gives the quotient and the remainder when dividing by x"
   ]
  },
  {
   "cell_type": "code",
   "execution_count": 19,
   "metadata": {},
   "outputs": [
    {
     "data": {
      "text/plain": [
       "(3, 1)"
      ]
     },
     "execution_count": 19,
     "metadata": {},
     "output_type": "execute_result"
    }
   ],
   "source": [
    "x = 2\n",
    "divmod(7,x)"
   ]
  },
  {
   "cell_type": "markdown",
   "metadata": {},
   "source": [
    "## enumerate\n",
    "\n",
    "Turns every item in a list into a tuple and adds an index.\n",
    "Very handy function every Python developer should know."
   ]
  },
  {
   "cell_type": "code",
   "execution_count": 20,
   "metadata": {},
   "outputs": [
    {
     "data": {
      "text/plain": [
       "[(0, 'zebra danio'), (1, 'siamese fighting fish'), (2, 'cardinal tetra')]"
      ]
     },
     "execution_count": 20,
     "metadata": {},
     "output_type": "execute_result"
    }
   ],
   "source": [
    "fishes = [\"zebra danio\", \"siamese fighting fish\", \"cardinal tetra\"]\n",
    "list(enumerate(fishes))"
   ]
  },
  {
   "cell_type": "code",
   "execution_count": 21,
   "metadata": {},
   "outputs": [
    {
     "name": "stdout",
     "output_type": "stream",
     "text": [
      "fish number 0 is a zebra danio\n",
      "fish number 1 is a siamese fighting fish\n",
      "fish number 2 is a cardinal tetra\n"
     ]
    }
   ],
   "source": [
    "for index, fish in enumerate(fishes):\n",
    "    print(f\"fish number {index} is a {fish}\")"
   ]
  },
  {
   "cell_type": "markdown",
   "metadata": {},
   "source": [
    "## eval\n",
    "\n",
    "Turns a string into 1 line of python code. onyly accepts a single expression. The string accepts existing variables.\n",
    "\n",
    "TODO: not sure about the difference between those two."
   ]
  },
  {
   "cell_type": "code",
   "execution_count": 22,
   "metadata": {},
   "outputs": [
    {
     "data": {
      "text/plain": [
       "[0, 1, 4, 9, 16, 25, 36, 49, 64, 81]"
      ]
     },
     "execution_count": 22,
     "metadata": {},
     "output_type": "execute_result"
    }
   ],
   "source": [
    "code = \"[ x**2 for x in range(10)]\"\n",
    "eval(code)"
   ]
  },
  {
   "cell_type": "code",
   "execution_count": 23,
   "metadata": {},
   "outputs": [
    {
     "data": {
      "text/plain": [
       "[4, 9, 16]"
      ]
     },
     "execution_count": 23,
     "metadata": {},
     "output_type": "execute_result"
    }
   ],
   "source": [
    "y = 10\n",
    "listymclistface = eval(\"[ x**2 for x in range(y)]\")\n",
    "\n",
    "listymclistface[2:5]"
   ]
  },
  {
   "cell_type": "markdown",
   "metadata": {},
   "source": [
    "## exec\n"
   ]
  },
  {
   "cell_type": "code",
   "execution_count": 24,
   "metadata": {},
   "outputs": [
    {
     "data": {
      "text/plain": [
       "15"
      ]
     },
     "execution_count": 24,
     "metadata": {},
     "output_type": "execute_result"
    }
   ],
   "source": [
    "x = 10\n",
    "exec(\"x += 5\")\n",
    "x"
   ]
  },
  {
   "cell_type": "code",
   "execution_count": 25,
   "metadata": {},
   "outputs": [
    {
     "ename": "SyntaxError",
     "evalue": "invalid syntax (<string>, line 1)",
     "output_type": "error",
     "traceback": [
      "Traceback \u001b[36m(most recent call last)\u001b[39m:\n",
      "  File \u001b[92m/media/user/files/code/python_developer_roadmap/.venv/lib/python3.12/site-packages/IPython/core/interactiveshell.py:3549\u001b[39m in \u001b[95mrun_code\u001b[39m\n    exec(code_obj, self.user_global_ns, self.user_ns)\n",
      "\u001b[36m  \u001b[39m\u001b[36mCell\u001b[39m\u001b[36m \u001b[39m\u001b[32mIn[25]\u001b[39m\u001b[32m, line 2\u001b[39m\n\u001b[31m    \u001b[39m\u001b[31meval(\"x += 5\")\u001b[39m\n",
      "  \u001b[36mFile \u001b[39m\u001b[32m<string>:1\u001b[39m\n\u001b[31m    \u001b[39m\u001b[31mx += 5\u001b[39m\n      ^\n\u001b[31mSyntaxError\u001b[39m\u001b[31m:\u001b[39m invalid syntax\n"
     ]
    }
   ],
   "source": [
    "x = 10\n",
    "eval(\"x += 5\")"
   ]
  },
  {
   "cell_type": "markdown",
   "metadata": {},
   "source": [
    "## filter"
   ]
  },
  {
   "cell_type": "code",
   "execution_count": 26,
   "metadata": {},
   "outputs": [
    {
     "data": {
      "text/plain": [
       "[3, 6, 9]"
      ]
     },
     "execution_count": 26,
     "metadata": {},
     "output_type": "execute_result"
    }
   ],
   "source": [
    "values = [1,2,3,4,5,6,7,8,9]\n",
    "def filtfunc(x):\n",
    "    return x % 3 == 0\n",
    "list(filter(filtfunc, values))"
   ]
  },
  {
   "cell_type": "markdown",
   "metadata": {},
   "source": [
    "## float\n",
    "Yes, there is more to learn about this!"
   ]
  },
  {
   "cell_type": "code",
   "execution_count": 27,
   "metadata": {},
   "outputs": [
    {
     "name": "stdout",
     "output_type": "stream",
     "text": [
      "inf -inf nan nan 7.0\n"
     ]
    }
   ],
   "source": [
    "pinf = float(\"Infinity\")\n",
    "ninf = float(\"-Infinity\")\n",
    "nan = float(\"NaN\")\n",
    "whitespace = float(\"\\n7\\t\\t \")\n",
    "print(pinf, ninf, pinf+ninf, nan, whitespace)"
   ]
  },
  {
   "cell_type": "markdown",
   "metadata": {},
   "source": [
    "## format\n",
    "Not used much, but handy"
   ]
  },
  {
   "cell_type": "code",
   "execution_count": 28,
   "metadata": {},
   "outputs": [
    {
     "name": "stdout",
     "output_type": "stream",
     "text": [
      "number 1:       4277\n",
      "number 2:      65.88\n",
      "number 3:     765.44\n",
      "rambling:      thing\n"
     ]
    }
   ],
   "source": [
    "print(\"number 1: {0:10.0f}\\nnumber 2: {1:10.2f}\\nnumber 3: {2:10.2f}\\nrambling: {3:>10}\".format(4277, 65.8765876, 765.43544434, \"thing\"))"
   ]
  },
  {
   "cell_type": "markdown",
   "metadata": {},
   "source": [
    "## getattr\n",
    "Allows to get attributes as a string.\n",
    "Probably handy when automating something."
   ]
  },
  {
   "cell_type": "code",
   "execution_count": 29,
   "metadata": {},
   "outputs": [
    {
     "name": "stdout",
     "output_type": "stream",
     "text": [
      "2 2\n"
     ]
    }
   ],
   "source": [
    "class Test:\n",
    "    number = 2\n",
    "    word = \"boat\"\n",
    "\n",
    "print(getattr(Test, \"number\"), Test.number)"
   ]
  },
  {
   "cell_type": "markdown",
   "metadata": {},
   "source": [
    "## hasattr"
   ]
  },
  {
   "cell_type": "code",
   "execution_count": 30,
   "metadata": {},
   "outputs": [
    {
     "name": "stdout",
     "output_type": "stream",
     "text": [
      "True False\n"
     ]
    }
   ],
   "source": [
    "print(hasattr(Test, \"number\"), hasattr(Test, \"H2G2\"))"
   ]
  },
  {
   "cell_type": "markdown",
   "metadata": {},
   "source": [
    "## setattr"
   ]
  },
  {
   "cell_type": "code",
   "execution_count": 31,
   "metadata": {},
   "outputs": [
    {
     "data": {
      "text/plain": [
       "2"
      ]
     },
     "metadata": {},
     "output_type": "display_data"
    },
    {
     "data": {
      "text/plain": [
       "3"
      ]
     },
     "metadata": {},
     "output_type": "display_data"
    }
   ],
   "source": [
    "display(Test.number)\n",
    "setattr(Test, \"number\", 3)\n",
    "display(Test.number)"
   ]
  },
  {
   "cell_type": "markdown",
   "metadata": {},
   "source": [
    "## hash\n",
    "Returns has values of strings.\n",
    "this is how dictionaries look up their keys"
   ]
  },
  {
   "cell_type": "code",
   "execution_count": 32,
   "metadata": {},
   "outputs": [
    {
     "name": "stdout",
     "output_type": "stream",
     "text": [
      "4996114761969790159 4996114761969790159 True\n",
      "522451276900946620 4996114761969790159 False\n",
      "522451276900946620 522451276900946620 True\n"
     ]
    }
   ],
   "source": [
    "test = \"abcde\"\n",
    "test2 = \"abcde\"\n",
    "print(hash(test), hash(test2), hash(test)==hash(test2))\n",
    "test = \"a\"\n",
    "print(hash(test), hash(test2), hash(test)==hash(test2))\n",
    "test2 = \"a\"\n",
    "print(hash(test), hash(test2), hash(test)==hash(test2))"
   ]
  },
  {
   "cell_type": "markdown",
   "metadata": {},
   "source": [
    "## help\n",
    "\n",
    "The function every python developer forgets exists when googling how packages work"
   ]
  },
  {
   "cell_type": "code",
   "execution_count": 33,
   "metadata": {},
   "outputs": [
    {
     "name": "stdout",
     "output_type": "stream",
     "text": [
      "Help on built-in function format in module builtins:\n",
      "\n",
      "format(value, format_spec='', /)\n",
      "    Return type(value).__format__(value, format_spec)\n",
      "\n",
      "    Many built-in types implement format_spec according to the\n",
      "    Format Specification Mini-language. See help('FORMATTING').\n",
      "\n",
      "    If type(value) does not supply a method named __format__\n",
      "    and format_spec is empty, then str(value) is returned.\n",
      "    See also help('SPECIALMETHODS').\n",
      "\n"
     ]
    }
   ],
   "source": [
    "help(format)"
   ]
  },
  {
   "cell_type": "markdown",
   "metadata": {},
   "source": [
    "## hex()"
   ]
  },
  {
   "cell_type": "code",
   "execution_count": 34,
   "metadata": {},
   "outputs": [
    {
     "name": "stdout",
     "output_type": "stream",
     "text": [
      "0xff 0xff ff FF\n"
     ]
    }
   ],
   "source": [
    "print(hex(255), format(255, '#x'), format(255, 'x'), format(255, 'X'))"
   ]
  },
  {
   "cell_type": "markdown",
   "metadata": {},
   "source": [
    "## id"
   ]
  },
  {
   "cell_type": "code",
   "execution_count": 35,
   "metadata": {},
   "outputs": [
    {
     "data": {
      "text/plain": [
       "125381736993088"
      ]
     },
     "execution_count": 35,
     "metadata": {},
     "output_type": "execute_result"
    }
   ],
   "source": [
    "test = \"asd\"\n",
    "id(test)"
   ]
  },
  {
   "cell_type": "markdown",
   "metadata": {},
   "source": [
    "## int\n",
    "it has a handy feature to convert the base of a number"
   ]
  },
  {
   "cell_type": "code",
   "execution_count": 36,
   "metadata": {},
   "outputs": [
    {
     "data": {
      "text/plain": [
       "1141"
      ]
     },
     "execution_count": 36,
     "metadata": {},
     "output_type": "execute_result"
    }
   ],
   "source": [
    "int(\"10001110101\", base=2)"
   ]
  },
  {
   "cell_type": "code",
   "execution_count": 37,
   "metadata": {},
   "outputs": [
    {
     "data": {
      "text/plain": [
       "4"
      ]
     },
     "execution_count": 37,
     "metadata": {},
     "output_type": "execute_result"
    }
   ],
   "source": [
    "int(4.7)"
   ]
  },
  {
   "cell_type": "markdown",
   "metadata": {},
   "source": [
    "## isinstance\n",
    "Can also be used to check the type of a variable.\n",
    "Handy when debugging."
   ]
  },
  {
   "cell_type": "code",
   "execution_count": 38,
   "metadata": {},
   "outputs": [
    {
     "data": {
      "text/plain": [
       "True"
      ]
     },
     "execution_count": 38,
     "metadata": {},
     "output_type": "execute_result"
    }
   ],
   "source": [
    "x = \"test\"\n",
    "isinstance(x, str)"
   ]
  },
  {
   "cell_type": "code",
   "execution_count": 39,
   "metadata": {},
   "outputs": [
    {
     "data": {
      "text/plain": [
       "True"
      ]
     },
     "execution_count": 39,
     "metadata": {},
     "output_type": "execute_result"
    }
   ],
   "source": [
    "x = [1,2,3,32]\n",
    "isinstance(x, (list, int, str))"
   ]
  },
  {
   "cell_type": "code",
   "execution_count": 40,
   "metadata": {},
   "outputs": [
    {
     "name": "stdout",
     "output_type": "stream",
     "text": [
      "True False\n"
     ]
    }
   ],
   "source": [
    "class test:\n",
    "    a = 10\n",
    "\n",
    "class test2(test):\n",
    "    b = \"blam\"\n",
    "\n",
    "obj_test = test()\n",
    "obj_test2 = test2()\n",
    "\n",
    "print(isinstance(obj_test, test), isinstance(obj_test, test2))"
   ]
  },
  {
   "cell_type": "markdown",
   "metadata": {},
   "source": [
    "## issubclass"
   ]
  },
  {
   "cell_type": "code",
   "execution_count": 41,
   "metadata": {},
   "outputs": [
    {
     "data": {
      "text/plain": [
       "False"
      ]
     },
     "execution_count": 41,
     "metadata": {},
     "output_type": "execute_result"
    }
   ],
   "source": [
    "issubclass(int, float)"
   ]
  },
  {
   "cell_type": "code",
   "execution_count": 42,
   "metadata": {},
   "outputs": [
    {
     "name": "stdout",
     "output_type": "stream",
     "text": [
      "False True\n"
     ]
    }
   ],
   "source": [
    "class Boat:\n",
    "    type = None\n",
    "    length = None\n",
    "\n",
    "    def __init__(self, boat_type, boat_length):\n",
    "        self.type = boat_type\n",
    "        self.length = boat_length\n",
    "\n",
    "class Catamaran(Boat):\n",
    "    hulls = None\n",
    "    def __init__(self, length, hulls):\n",
    "        Boat.__init__(self, \"catamaran\", length)\n",
    "        self.hulls = hulls\n",
    "\n",
    "# cat = Catamaran(46, 2)\n",
    "\n",
    "print(issubclass(Boat, Catamaran), issubclass(Catamaran, Boat))"
   ]
  },
  {
   "cell_type": "markdown",
   "metadata": {},
   "source": [
    "## iter & next\n",
    "This is wat is called when making a loop like:\n",
    "```python\n",
    "for item in [\"a\",\"b\"]:\n",
    "    print(item)\n",
    "```"
   ]
  },
  {
   "cell_type": "code",
   "execution_count": 43,
   "metadata": {},
   "outputs": [
    {
     "name": "stdout",
     "output_type": "stream",
     "text": [
      "plane bike rabbid\n"
     ]
    }
   ],
   "source": [
    "b = [\"plane\", \"bike\", \"rabbid\"]\n",
    "b_iter = iter(b)\n",
    "print(next(b_iter), next(b_iter), next(b_iter))"
   ]
  },
  {
   "cell_type": "markdown",
   "metadata": {},
   "source": [
    "## map\n",
    "\n",
    "In general, it's faster to use a list comprehension."
   ]
  },
  {
   "cell_type": "code",
   "execution_count": 44,
   "metadata": {},
   "outputs": [
    {
     "data": {
      "text/plain": [
       "[4, 6, 8]"
      ]
     },
     "execution_count": 44,
     "metadata": {},
     "output_type": "execute_result"
    }
   ],
   "source": [
    "from math import ceil\n",
    "numbers = [3.4, 5.2, 7.7]\n",
    "list(map(ceil, numbers))"
   ]
  },
  {
   "cell_type": "markdown",
   "metadata": {},
   "source": [
    "## max\n",
    "\n",
    "You can do more that i expected."
   ]
  },
  {
   "cell_type": "code",
   "execution_count": 45,
   "metadata": {},
   "outputs": [
    {
     "data": {
      "text/plain": [
       "'ccc'"
      ]
     },
     "execution_count": 45,
     "metadata": {},
     "output_type": "execute_result"
    }
   ],
   "source": [
    "words = [\"a\", \"bb\", \"ccc\"]\n",
    "max(words, key=len)"
   ]
  },
  {
   "cell_type": "code",
   "execution_count": 46,
   "metadata": {},
   "outputs": [
    {
     "data": {
      "text/plain": [
       "'c'"
      ]
     },
     "execution_count": 46,
     "metadata": {},
     "output_type": "execute_result"
    }
   ],
   "source": [
    "wordionary = {\"a\":1, \"b\":2, \"c\":3}\n",
    "max(wordionary)"
   ]
  },
  {
   "cell_type": "markdown",
   "metadata": {},
   "source": [
    "## ord & chr\n",
    "\n",
    "gives a unicode representation of a character.\n"
   ]
  },
  {
   "cell_type": "code",
   "execution_count": 47,
   "metadata": {},
   "outputs": [
    {
     "name": "stdout",
     "output_type": "stream",
     "text": [
      "97 a\n"
     ]
    }
   ],
   "source": [
    "print(ord('a'), chr(ord('a')))"
   ]
  },
  {
   "cell_type": "markdown",
   "metadata": {},
   "source": [
    "## pow\n",
    "\n",
    "Base 2 to the power of 3.\n",
    "the 5 is an optional modulo 5 (% 5). i didn't know that."
   ]
  },
  {
   "cell_type": "code",
   "execution_count": 48,
   "metadata": {},
   "outputs": [
    {
     "data": {
      "text/plain": [
       "3"
      ]
     },
     "execution_count": 48,
     "metadata": {},
     "output_type": "execute_result"
    }
   ],
   "source": [
    "pow(2, 3, 5)"
   ]
  },
  {
   "cell_type": "markdown",
   "metadata": {},
   "source": [
    "## repr\n",
    "\n",
    "returns a string that is the printable representation of an object."
   ]
  },
  {
   "cell_type": "code",
   "execution_count": 57,
   "metadata": {},
   "outputs": [
    {
     "name": "stdout",
     "output_type": "stream",
     "text": [
      "Person named 'Zaphod', age: 143\n"
     ]
    }
   ],
   "source": [
    "class Person:\n",
    "   def __init__(self, name, age):\n",
    "      self.name = name\n",
    "      self.age = age\n",
    "\n",
    "   def __repr__(self):\n",
    "      return f\"Person named '{self.name}', age: {self.age}\"\n",
    "\n",
    "test = Person(\"Zaphod\", 143)\n",
    "print(test)"
   ]
  },
  {
   "cell_type": "markdown",
   "metadata": {},
   "source": [
    "## reversed\n",
    "\n",
    "I never use this, i just use [::-1]"
   ]
  },
  {
   "cell_type": "code",
   "execution_count": 58,
   "metadata": {},
   "outputs": [
    {
     "data": {
      "text/plain": [
       "[4, 3, 2, 1]"
      ]
     },
     "execution_count": 58,
     "metadata": {},
     "output_type": "execute_result"
    }
   ],
   "source": [
    "test = (1,2,3,4)\n",
    "list(reversed(test))"
   ]
  },
  {
   "cell_type": "markdown",
   "metadata": {},
   "source": [
    "## round\n",
    "\n",
    "again, long time scince i used this"
   ]
  },
  {
   "cell_type": "code",
   "execution_count": 59,
   "metadata": {},
   "outputs": [
    {
     "data": {
      "text/plain": [
       "1.499"
      ]
     },
     "execution_count": 59,
     "metadata": {},
     "output_type": "execute_result"
    }
   ],
   "source": [
    "round(1.4994, ndigits=3)"
   ]
  },
  {
   "cell_type": "markdown",
   "metadata": {},
   "source": [
    "## super\n",
    "\n",
    "super() allows you to call methods of the superclass in your subclass.\n",
    "\n",
    "\n",
    "[learn more here](https://realpython.com/python-super/)\n",
    "\n",
    "you can find more in the inheritance folder.\n",
    "\n"
   ]
  },
  {
   "cell_type": "code",
   "execution_count": 9,
   "metadata": {},
   "outputs": [
    {
     "data": {
      "text/plain": [
       "16"
      ]
     },
     "execution_count": 9,
     "metadata": {},
     "output_type": "execute_result"
    }
   ],
   "source": [
    "class Rectangle:\n",
    "    def __init__(self, length, width):\n",
    "        self.length = length\n",
    "        self.width = width\n",
    "    \n",
    "    def area(self):\n",
    "        return self.length * self.width\n",
    "\n",
    "    def perimeter(self):\n",
    "        return 2 * self.length + 2 * self.width\n",
    "\n",
    "class Square(Rectangle):\n",
    "    def __init__(self, length):\n",
    "        super().__init__(length=length, width=length) # you can just do: (length, length)\n",
    "\n",
    "square = Square(4)\n",
    "square.area()"
   ]
  },
  {
   "cell_type": "markdown",
   "metadata": {},
   "source": [
    "## vars()"
   ]
  },
  {
   "cell_type": "markdown",
   "metadata": {},
   "source": [
    "vars()"
   ]
  },
  {
   "cell_type": "code",
   "execution_count": 20,
   "metadata": {},
   "outputs": [
    {
     "data": {
      "text/plain": [
       "{'__name__': '__main__',\n",
       " '__doc__': 'Automatically created module for IPython interactive environment',\n",
       " '__package__': None,\n",
       " '__loader__': None,\n",
       " '__spec__': None,\n",
       " '__builtin__': <module 'builtins' (built-in)>,\n",
       " '__builtins__': <module 'builtins' (built-in)>,\n",
       " '_ih': ['',\n",
       "  'class Triangle:\\n    def __init__(self, base, height):\\n        self.base = base\\n        self.height = height\\n\\n    def area(self):\\n        return 0.5 * self.base * self.height\\n\\nclass RightPyramid(Triangle, Square):\\n    def __init__(self, base, slant_height):\\n        self.base = base\\n        self.slant_height = slant_height\\n\\n    def area(self):\\n        base_area = super().area()\\n        perimeter = super().perimeter()\\n        return 0.5 * perimeter * self.slant_height + base_area\\n\\npyramid = RightPyramid(2,4)\\npyramid.area()',\n",
       "  'class Rectangle:\\n    def __init__(self, length, width):\\n        self.length = length\\n        self.width = width\\n\\n    def area(self):\\n        return self.length * self.width\\n\\n    def perimeter(self):\\n        return 2 * self.length + 2 * self.width\\n\\nclass Square(Rectangle):\\n    def __init__(self, length):\\n        super().__init__(length=length, width=length) # you can just do: (length, length)\\n\\nsquare = Square(4)\\nsquare.area()',\n",
       "  'class Square(Rectangle):\\n    def __init__(self, length):\\n        super().__init__(length, length)\\n\\nclass Cube(Square):\\n    # no need to override init because it does the same as in Square\\n    def surface_area(self):\\n        face_area = super().area() # here we reuse area() from Rectangle\\n        return face_area * 6\\n\\n    def volume(self):\\n        face_area = super().area()\\n        return face_area * self.length\\n\\ncube = Cube(3)\\n\\ndisplay(cube.surface_area())\\ndisplay(cube.volume())',\n",
       "  'class Triangle:\\n    def __init__(self, base, height):\\n        self.base = base\\n        self.height = height\\n\\n    def area(self):\\n        return 0.5 * self.base * self.height\\n\\nclass RightPyramid(Triangle, Square):\\n    def __init__(self, base, slant_height):\\n        self.base = base\\n        self.slant_height = slant_height\\n\\n    def area(self):\\n        base_area = super().area()\\n        perimeter = super().perimeter()\\n        return 0.5 * perimeter * self.slant_height + base_area\\n\\npyramid = RightPyramid(2,4)\\npyramid.area()',\n",
       "  'RightPyramid.__mro__',\n",
       "  'class RightPyramid(Square, Triangle):\\n    def __init__(self, base, slant_height):\\n        self.base = base\\n        self.slant_height = slant_height\\n\\n    def area(self):\\n        base_area = super().area()\\n        perimeter = super().perimeter()\\n        return 0.5 * perimeter * self.slant_height + base_area',\n",
       "  'class RightPyramid(Square, Triangle):\\n    def __init__(self, base, slant_height):\\n        self.base = base\\n        self.slant_height = slant_height\\n\\n    def area(self):\\n        base_area = super().area()\\n        perimeter = super().perimeter()\\n        return 0.5 * perimeter * self.slant_height + base_area\\ndisplay(RightPyramid.__mro__)',\n",
       "  'class RightPyramid(Square, Triangle):\\n    def __init__(self, base, slant_height):\\n        self.base = base\\n        self.slant_height = slant_height\\n\\n    def area(self):\\n        base_area = super().area()\\n        perimeter = super().perimeter()\\n        return 0.5 * perimeter * self.slant_height + base_area\\n\\ndisplay(RightPyramid.__mro__)\\npyramid = RightPyramid(2,4)\\ndisplay(pyramid.area())',\n",
       "  'class Rectangle:\\n    def __init__(self, length, width):\\n        self.length = length\\n        self.width = width\\n\\n    def area(self):\\n        return self.length * self.width\\n\\n    def perimeter(self):\\n        return 2 * self.length + 2 * self.width\\n\\nclass Square(Rectangle):\\n    def __init__(self, length):\\n        super().__init__(length=length, width=length) # you can just do: (length, length)\\n\\nsquare = Square(4)\\nsquare.area()',\n",
       "  'class Square(Rectangle):\\n    def __init__(self, length):\\n        super().__init__(length, length)\\n\\nclass Cube(Square):\\n    # no need to override init because it does the same as in Square\\n    def surface_area(self):\\n        face_area = super().area() # here we reuse area() from Rectangle\\n        return face_area * 6\\n\\n    def volume(self):\\n        face_area = super().area()\\n        return face_area * self.length\\n\\ncube = Cube(3)\\n\\ndisplay(cube.surface_area())\\ndisplay(cube.volume())',\n",
       "  'class Triangle:\\n    def __init__(self, base, height):\\n        self.base = base\\n        self.height = height\\n\\n    def area(self):\\n        return 0.5 * self.base * self.height\\n\\nclass RightPyramid(Triangle, Square):\\n    def __init__(self, base, slant_height):\\n        self.base = base\\n        self.slant_height = slant_height\\n\\n    def area(self):\\n        base_area = super().area()\\n        perimeter = super().perimeter()\\n        return 0.5 * perimeter * self.slant_height + base_area\\n\\npyramid = RightPyramid(2,4)\\npyramid.area()',\n",
       "  'RightPyramid.__mro__',\n",
       "  'class RightPyramid(Square, Triangle):\\n    def __init__(self, base, slant_height):\\n        self.base = base\\n        self.slant_height = slant_height\\n        super().__init__(self.base) # now it calls square, is there a way to choose which superclass you can call?\\n\\n    def area(self):\\n        base_area = super().area()\\n        perimeter = super().perimeter()\\n        return 0.5 * perimeter * self.slant_height + base_area\\n\\ndisplay(RightPyramid.__mro__)\\npyramid = RightPyramid(2,4)\\ndisplay(pyramid.area())',\n",
       "  'class Triangle:\\n    def __init__(self, base, height):\\n        self.base = base\\n        self.height = height\\n        super().__init__()\\n\\n    def tri_area(self):\\n        return 0.5 * self.base * self.height\\n\\nclass RightPyramid(Square, Triangle):\\n    def __init__(self, base, slant_height):\\n        self.base = base\\n        self.slant_height = slant_height\\n        super().__init__(self.base)\\n\\n    def area(self):\\n        base_area = super().area()\\n        perimeter = super().perimeter()\\n        return 0.5 * perimeter * self.slant_height + base_area\\n\\n\\n    def area_2(self):\\n        base_area = super().area()\\n        triangle_area = super().tri_area()\\n        return triangle_area * 4 + base_area',\n",
       "  'class Triangle:\\n    def __init__(self, base, height):\\n        self.base = base\\n        self.height = height\\n        super().__init__()\\n\\n    def tri_area(self):\\n        return 0.5 * self.base * self.height\\n\\nclass RightPyramid(Square, Triangle):\\n    def __init__(self, base, slant_height):\\n        self.base = base\\n        self.slant_height = slant_height\\n        super().__init__(self.base)\\n\\n    def area(self):\\n        base_area = super().area()\\n        perimeter = super().perimeter()\\n        return 0.5 * perimeter * self.slant_height + base_area\\n\\n\\n    def area_2(self):\\n        base_area = super().area()\\n        triangle_area = super().tri_area()\\n        return triangle_area * 4 + base_area\\n\\npyramid = RightPyramid(2,4)\\ndisplay(pyramid.area())\\ndisplay(pyramid.area_2())',\n",
       "  'class Rectangle:\\n    def __init__(self, length, width):\\n        self.length = length\\n        self.width = width\\n\\n    def area(self):\\n        return self.length * self.width\\n\\n    def perimeter(self):\\n        return 2 * self.length + 2 * self.width\\n\\nclass Square(Rectangle):\\n    def __init__(self, length):\\n        super().__init__(length=length, width=length) # you can just do: (length, length)\\n\\nsquare = Square(4)\\nsquare.area()\\n\\nclass Triangle:\\n    def __init__(self, base, height):\\n        self.base = base\\n        self.height = height\\n        super().__init__()\\n\\n    def tri_area(self):\\n        return 0.5 * self.base * self.height\\n\\nclass RightPyramid(Square, Triangle):\\n    def __init__(self, base, slant_height):\\n        self.base = base\\n        self.slant_height = slant_height\\n        super().__init__(self.base)\\n\\n    def area(self):\\n        base_area = super().area()\\n        perimeter = super().perimeter()\\n        return 0.5 * perimeter * self.slant_height + base_area\\n\\n\\n    def area_2(self):\\n        base_area = super().area()\\n        triangle_area = super().tri_area()\\n        return triangle_area * 4 + base_area\\n\\npyramid = RightPyramid(2,4)\\ndisplay(pyramid.area())\\ndisplay(pyramid.area_2())',\n",
       "  'class Rectangle:\\n    def __init__(self, length, width):\\n        self.length = length\\n        self.width = width\\n\\n    def area(self):\\n        return self.length * self.width\\n\\n    def perimeter(self):\\n        return 2 * self.length + 2 * self.width\\n\\nclass Square(Rectangle):\\n    def __init__(self, length):\\n        super(Rectangle).__init__(length, length)\\n\\nsquare = Square(4)\\nsquare.area()\\n\\nclass Triangle:\\n    def __init__(self, base, height):\\n        self.base = base\\n        self.height = height\\n        super().__init__() # does this even do anything?\\n\\n    def tri_area(self):\\n        return 0.5 * self.base * self.height\\n\\nclass RightPyramid(Square, Triangle):\\n    def __init__(self, base, slant_height):\\n        self.base = base\\n        self.slant_height = slant_height\\n        super(Square).__init__(self.base)\\n\\n    def area(self):\\n        base_area = super().area()\\n        perimeter = super().perimeter()\\n        return 0.5 * perimeter * self.slant_height + base_area\\n\\n\\n    def area_2(self):\\n        base_area = super().area()\\n        triangle_area = super().tri_area()\\n        return triangle_area * 4 + base_area\\n\\npyramid = RightPyramid(2,4)\\ndisplay(pyramid.area())\\ndisplay(pyramid.area_2())',\n",
       "  'class Rectangle:\\n    def __init__(self, length, width, **kwargs):\\n        self.length = length\\n        self.width = width\\n        super().__init__(**kwargs) # why here?\\n\\n    def area(self):\\n        return self.length * self.width\\n\\n    def perimeter(self):\\n        return 2 * self.length + 2 * self.width\\n\\n\\nclass Square(Rectangle):\\n    def __init__(self, length, **kwargs):\\n        super().__init__(length=length, width=length, **kwargs)\\n\\n\\nclass Cube(Square):\\n    def surface_area(self):\\n        face_area = super().area()\\n        return face_area * 6\\n\\n    def volume(self):\\n        face_area = super().area()\\n        return face_area * self.length\\n\\n\\nclass Triangle:\\n    def __init__(self, base, height, **kwargs):\\n        self.base = base\\n        self.height = height\\n        super().__init__(**kwargs) # why here?\\n\\n    def tri_area(self):\\n        return 0.5 * self.base * self.height\\n\\n\\nclass RightPyramid(Square, Triangle):\\n    def __init__(self, base, slant_height, **kwargs):\\n        self.base = base\\n        self.slant_height = slant_height\\n        kwargs[\"height\"] = slant_height\\n        kwargs[\"length\"] = base\\n        super().__init__(base = self.base, **kwargs)\\n\\n    def area(self):\\n        base_area = super().area()\\n        perimeter = super().perimeter()\\n        return 0.5 * perimeter * self.slant_height + base_area\\n\\n\\n    def area_2(self):\\n        base_area = super().area()\\n        triangle_area = super().tri_area()\\n        return triangle_area * 4 + base_area\\n\\npyramid = RightPyramid(2,4)\\ndisplay(pyramid.area())\\ndisplay(pyramid.area_2())',\n",
       "  'class Rectangle:\\n    def __init__(self, length, width, **kwargs):\\n        self.length = length\\n        self.width = width\\n        super().__init__(**kwargs) # why here?\\n\\n    def area(self):\\n        return self.length * self.width\\n\\n    def perimeter(self):\\n        return 2 * self.length + 2 * self.width\\n\\n\\nclass Square(Rectangle):\\n    def __init__(self, length, **kwargs):\\n        super().__init__(length=length, width=length, **kwargs)\\n\\n\\nclass Cube(Square):\\n    def surface_area(self):\\n        face_area = super().area()\\n        return face_area * 6\\n\\n    def volume(self):\\n        face_area = super().area()\\n        return face_area * self.length\\n\\n\\nclass Triangle:\\n    def __init__(self, base, height, **kwargs):\\n        self.base = base\\n        self.height = height\\n        super().__init__(**kwargs) # why here?\\n\\n    def tri_area(self):\\n        return 0.5 * self.base * self.height\\n\\n\\nclass RightPyramid(Square, Triangle):\\n    def __init__(self, base, slant_height, **kwargs):\\n        self.base = base\\n        self.slant_height = slant_height\\n        kwargs[\"height\"] = slant_height\\n        kwargs[\"length\"] = base\\n        super().__init__(base = self.base, **kwargs)\\n\\n    def area(self):\\n        base_area = super().area()\\n        perimeter = super().perimeter()\\n        return 0.5 * perimeter * self.slant_height + base_area\\n\\n\\n    def area_2(self):\\n        base_area = super().area()\\n        triangle_area = super().tri_area()\\n        return triangle_area * 4 + base_area\\n\\npyramid = RightPyramid(2,4)\\ndisplay(pyramid.area())\\ndisplay(pyramid.area_2())',\n",
       "  'vars()'],\n",
       " '_oh': {2: 16,\n",
       "  5: (__main__.RightPyramid,\n",
       "   __main__.Triangle,\n",
       "   __main__.Square,\n",
       "   __main__.Rectangle,\n",
       "   object),\n",
       "  9: 16,\n",
       "  12: (__main__.RightPyramid,\n",
       "   __main__.Triangle,\n",
       "   __main__.Square,\n",
       "   __main__.Rectangle,\n",
       "   object)},\n",
       " '_dh': [PosixPath('/media/user/files/code/python_developer_roadmap/learn_the_basics')],\n",
       " 'In': ['',\n",
       "  'class Triangle:\\n    def __init__(self, base, height):\\n        self.base = base\\n        self.height = height\\n\\n    def area(self):\\n        return 0.5 * self.base * self.height\\n\\nclass RightPyramid(Triangle, Square):\\n    def __init__(self, base, slant_height):\\n        self.base = base\\n        self.slant_height = slant_height\\n\\n    def area(self):\\n        base_area = super().area()\\n        perimeter = super().perimeter()\\n        return 0.5 * perimeter * self.slant_height + base_area\\n\\npyramid = RightPyramid(2,4)\\npyramid.area()',\n",
       "  'class Rectangle:\\n    def __init__(self, length, width):\\n        self.length = length\\n        self.width = width\\n\\n    def area(self):\\n        return self.length * self.width\\n\\n    def perimeter(self):\\n        return 2 * self.length + 2 * self.width\\n\\nclass Square(Rectangle):\\n    def __init__(self, length):\\n        super().__init__(length=length, width=length) # you can just do: (length, length)\\n\\nsquare = Square(4)\\nsquare.area()',\n",
       "  'class Square(Rectangle):\\n    def __init__(self, length):\\n        super().__init__(length, length)\\n\\nclass Cube(Square):\\n    # no need to override init because it does the same as in Square\\n    def surface_area(self):\\n        face_area = super().area() # here we reuse area() from Rectangle\\n        return face_area * 6\\n\\n    def volume(self):\\n        face_area = super().area()\\n        return face_area * self.length\\n\\ncube = Cube(3)\\n\\ndisplay(cube.surface_area())\\ndisplay(cube.volume())',\n",
       "  'class Triangle:\\n    def __init__(self, base, height):\\n        self.base = base\\n        self.height = height\\n\\n    def area(self):\\n        return 0.5 * self.base * self.height\\n\\nclass RightPyramid(Triangle, Square):\\n    def __init__(self, base, slant_height):\\n        self.base = base\\n        self.slant_height = slant_height\\n\\n    def area(self):\\n        base_area = super().area()\\n        perimeter = super().perimeter()\\n        return 0.5 * perimeter * self.slant_height + base_area\\n\\npyramid = RightPyramid(2,4)\\npyramid.area()',\n",
       "  'RightPyramid.__mro__',\n",
       "  'class RightPyramid(Square, Triangle):\\n    def __init__(self, base, slant_height):\\n        self.base = base\\n        self.slant_height = slant_height\\n\\n    def area(self):\\n        base_area = super().area()\\n        perimeter = super().perimeter()\\n        return 0.5 * perimeter * self.slant_height + base_area',\n",
       "  'class RightPyramid(Square, Triangle):\\n    def __init__(self, base, slant_height):\\n        self.base = base\\n        self.slant_height = slant_height\\n\\n    def area(self):\\n        base_area = super().area()\\n        perimeter = super().perimeter()\\n        return 0.5 * perimeter * self.slant_height + base_area\\ndisplay(RightPyramid.__mro__)',\n",
       "  'class RightPyramid(Square, Triangle):\\n    def __init__(self, base, slant_height):\\n        self.base = base\\n        self.slant_height = slant_height\\n\\n    def area(self):\\n        base_area = super().area()\\n        perimeter = super().perimeter()\\n        return 0.5 * perimeter * self.slant_height + base_area\\n\\ndisplay(RightPyramid.__mro__)\\npyramid = RightPyramid(2,4)\\ndisplay(pyramid.area())',\n",
       "  'class Rectangle:\\n    def __init__(self, length, width):\\n        self.length = length\\n        self.width = width\\n\\n    def area(self):\\n        return self.length * self.width\\n\\n    def perimeter(self):\\n        return 2 * self.length + 2 * self.width\\n\\nclass Square(Rectangle):\\n    def __init__(self, length):\\n        super().__init__(length=length, width=length) # you can just do: (length, length)\\n\\nsquare = Square(4)\\nsquare.area()',\n",
       "  'class Square(Rectangle):\\n    def __init__(self, length):\\n        super().__init__(length, length)\\n\\nclass Cube(Square):\\n    # no need to override init because it does the same as in Square\\n    def surface_area(self):\\n        face_area = super().area() # here we reuse area() from Rectangle\\n        return face_area * 6\\n\\n    def volume(self):\\n        face_area = super().area()\\n        return face_area * self.length\\n\\ncube = Cube(3)\\n\\ndisplay(cube.surface_area())\\ndisplay(cube.volume())',\n",
       "  'class Triangle:\\n    def __init__(self, base, height):\\n        self.base = base\\n        self.height = height\\n\\n    def area(self):\\n        return 0.5 * self.base * self.height\\n\\nclass RightPyramid(Triangle, Square):\\n    def __init__(self, base, slant_height):\\n        self.base = base\\n        self.slant_height = slant_height\\n\\n    def area(self):\\n        base_area = super().area()\\n        perimeter = super().perimeter()\\n        return 0.5 * perimeter * self.slant_height + base_area\\n\\npyramid = RightPyramid(2,4)\\npyramid.area()',\n",
       "  'RightPyramid.__mro__',\n",
       "  'class RightPyramid(Square, Triangle):\\n    def __init__(self, base, slant_height):\\n        self.base = base\\n        self.slant_height = slant_height\\n        super().__init__(self.base) # now it calls square, is there a way to choose which superclass you can call?\\n\\n    def area(self):\\n        base_area = super().area()\\n        perimeter = super().perimeter()\\n        return 0.5 * perimeter * self.slant_height + base_area\\n\\ndisplay(RightPyramid.__mro__)\\npyramid = RightPyramid(2,4)\\ndisplay(pyramid.area())',\n",
       "  'class Triangle:\\n    def __init__(self, base, height):\\n        self.base = base\\n        self.height = height\\n        super().__init__()\\n\\n    def tri_area(self):\\n        return 0.5 * self.base * self.height\\n\\nclass RightPyramid(Square, Triangle):\\n    def __init__(self, base, slant_height):\\n        self.base = base\\n        self.slant_height = slant_height\\n        super().__init__(self.base)\\n\\n    def area(self):\\n        base_area = super().area()\\n        perimeter = super().perimeter()\\n        return 0.5 * perimeter * self.slant_height + base_area\\n\\n\\n    def area_2(self):\\n        base_area = super().area()\\n        triangle_area = super().tri_area()\\n        return triangle_area * 4 + base_area',\n",
       "  'class Triangle:\\n    def __init__(self, base, height):\\n        self.base = base\\n        self.height = height\\n        super().__init__()\\n\\n    def tri_area(self):\\n        return 0.5 * self.base * self.height\\n\\nclass RightPyramid(Square, Triangle):\\n    def __init__(self, base, slant_height):\\n        self.base = base\\n        self.slant_height = slant_height\\n        super().__init__(self.base)\\n\\n    def area(self):\\n        base_area = super().area()\\n        perimeter = super().perimeter()\\n        return 0.5 * perimeter * self.slant_height + base_area\\n\\n\\n    def area_2(self):\\n        base_area = super().area()\\n        triangle_area = super().tri_area()\\n        return triangle_area * 4 + base_area\\n\\npyramid = RightPyramid(2,4)\\ndisplay(pyramid.area())\\ndisplay(pyramid.area_2())',\n",
       "  'class Rectangle:\\n    def __init__(self, length, width):\\n        self.length = length\\n        self.width = width\\n\\n    def area(self):\\n        return self.length * self.width\\n\\n    def perimeter(self):\\n        return 2 * self.length + 2 * self.width\\n\\nclass Square(Rectangle):\\n    def __init__(self, length):\\n        super().__init__(length=length, width=length) # you can just do: (length, length)\\n\\nsquare = Square(4)\\nsquare.area()\\n\\nclass Triangle:\\n    def __init__(self, base, height):\\n        self.base = base\\n        self.height = height\\n        super().__init__()\\n\\n    def tri_area(self):\\n        return 0.5 * self.base * self.height\\n\\nclass RightPyramid(Square, Triangle):\\n    def __init__(self, base, slant_height):\\n        self.base = base\\n        self.slant_height = slant_height\\n        super().__init__(self.base)\\n\\n    def area(self):\\n        base_area = super().area()\\n        perimeter = super().perimeter()\\n        return 0.5 * perimeter * self.slant_height + base_area\\n\\n\\n    def area_2(self):\\n        base_area = super().area()\\n        triangle_area = super().tri_area()\\n        return triangle_area * 4 + base_area\\n\\npyramid = RightPyramid(2,4)\\ndisplay(pyramid.area())\\ndisplay(pyramid.area_2())',\n",
       "  'class Rectangle:\\n    def __init__(self, length, width):\\n        self.length = length\\n        self.width = width\\n\\n    def area(self):\\n        return self.length * self.width\\n\\n    def perimeter(self):\\n        return 2 * self.length + 2 * self.width\\n\\nclass Square(Rectangle):\\n    def __init__(self, length):\\n        super(Rectangle).__init__(length, length)\\n\\nsquare = Square(4)\\nsquare.area()\\n\\nclass Triangle:\\n    def __init__(self, base, height):\\n        self.base = base\\n        self.height = height\\n        super().__init__() # does this even do anything?\\n\\n    def tri_area(self):\\n        return 0.5 * self.base * self.height\\n\\nclass RightPyramid(Square, Triangle):\\n    def __init__(self, base, slant_height):\\n        self.base = base\\n        self.slant_height = slant_height\\n        super(Square).__init__(self.base)\\n\\n    def area(self):\\n        base_area = super().area()\\n        perimeter = super().perimeter()\\n        return 0.5 * perimeter * self.slant_height + base_area\\n\\n\\n    def area_2(self):\\n        base_area = super().area()\\n        triangle_area = super().tri_area()\\n        return triangle_area * 4 + base_area\\n\\npyramid = RightPyramid(2,4)\\ndisplay(pyramid.area())\\ndisplay(pyramid.area_2())',\n",
       "  'class Rectangle:\\n    def __init__(self, length, width, **kwargs):\\n        self.length = length\\n        self.width = width\\n        super().__init__(**kwargs) # why here?\\n\\n    def area(self):\\n        return self.length * self.width\\n\\n    def perimeter(self):\\n        return 2 * self.length + 2 * self.width\\n\\n\\nclass Square(Rectangle):\\n    def __init__(self, length, **kwargs):\\n        super().__init__(length=length, width=length, **kwargs)\\n\\n\\nclass Cube(Square):\\n    def surface_area(self):\\n        face_area = super().area()\\n        return face_area * 6\\n\\n    def volume(self):\\n        face_area = super().area()\\n        return face_area * self.length\\n\\n\\nclass Triangle:\\n    def __init__(self, base, height, **kwargs):\\n        self.base = base\\n        self.height = height\\n        super().__init__(**kwargs) # why here?\\n\\n    def tri_area(self):\\n        return 0.5 * self.base * self.height\\n\\n\\nclass RightPyramid(Square, Triangle):\\n    def __init__(self, base, slant_height, **kwargs):\\n        self.base = base\\n        self.slant_height = slant_height\\n        kwargs[\"height\"] = slant_height\\n        kwargs[\"length\"] = base\\n        super().__init__(base = self.base, **kwargs)\\n\\n    def area(self):\\n        base_area = super().area()\\n        perimeter = super().perimeter()\\n        return 0.5 * perimeter * self.slant_height + base_area\\n\\n\\n    def area_2(self):\\n        base_area = super().area()\\n        triangle_area = super().tri_area()\\n        return triangle_area * 4 + base_area\\n\\npyramid = RightPyramid(2,4)\\ndisplay(pyramid.area())\\ndisplay(pyramid.area_2())',\n",
       "  'class Rectangle:\\n    def __init__(self, length, width, **kwargs):\\n        self.length = length\\n        self.width = width\\n        super().__init__(**kwargs) # why here?\\n\\n    def area(self):\\n        return self.length * self.width\\n\\n    def perimeter(self):\\n        return 2 * self.length + 2 * self.width\\n\\n\\nclass Square(Rectangle):\\n    def __init__(self, length, **kwargs):\\n        super().__init__(length=length, width=length, **kwargs)\\n\\n\\nclass Cube(Square):\\n    def surface_area(self):\\n        face_area = super().area()\\n        return face_area * 6\\n\\n    def volume(self):\\n        face_area = super().area()\\n        return face_area * self.length\\n\\n\\nclass Triangle:\\n    def __init__(self, base, height, **kwargs):\\n        self.base = base\\n        self.height = height\\n        super().__init__(**kwargs) # why here?\\n\\n    def tri_area(self):\\n        return 0.5 * self.base * self.height\\n\\n\\nclass RightPyramid(Square, Triangle):\\n    def __init__(self, base, slant_height, **kwargs):\\n        self.base = base\\n        self.slant_height = slant_height\\n        kwargs[\"height\"] = slant_height\\n        kwargs[\"length\"] = base\\n        super().__init__(base = self.base, **kwargs)\\n\\n    def area(self):\\n        base_area = super().area()\\n        perimeter = super().perimeter()\\n        return 0.5 * perimeter * self.slant_height + base_area\\n\\n\\n    def area_2(self):\\n        base_area = super().area()\\n        triangle_area = super().tri_area()\\n        return triangle_area * 4 + base_area\\n\\npyramid = RightPyramid(2,4)\\ndisplay(pyramid.area())\\ndisplay(pyramid.area_2())',\n",
       "  'vars()'],\n",
       " 'Out': {2: 16,\n",
       "  5: (__main__.RightPyramid,\n",
       "   __main__.Triangle,\n",
       "   __main__.Square,\n",
       "   __main__.Rectangle,\n",
       "   object),\n",
       "  9: 16,\n",
       "  12: (__main__.RightPyramid,\n",
       "   __main__.Triangle,\n",
       "   __main__.Square,\n",
       "   __main__.Rectangle,\n",
       "   object)},\n",
       " 'get_ipython': <bound method InteractiveShell.get_ipython of <ipykernel.zmqshell.ZMQInteractiveShell object at 0x7533503876b0>>,\n",
       " 'exit': <IPython.core.autocall.ZMQExitAutocall at 0x7533502ed4f0>,\n",
       " 'quit': <IPython.core.autocall.ZMQExitAutocall at 0x7533502ed4f0>,\n",
       " 'open': <function _io.open(file, mode='r', buffering=-1, encoding=None, errors=None, newline=None, closefd=True, opener=None)>,\n",
       " '_': (__main__.RightPyramid,\n",
       "  __main__.Triangle,\n",
       "  __main__.Square,\n",
       "  __main__.Rectangle,\n",
       "  object),\n",
       " '__': 16,\n",
       " '___': (__main__.RightPyramid,\n",
       "  __main__.Triangle,\n",
       "  __main__.Square,\n",
       "  __main__.Rectangle,\n",
       "  object),\n",
       " '__vsc_ipynb_file__': '/media/user/files/code/python_developer_roadmap/learn_the_basics/built_in_functions.ipynb',\n",
       " '_i': 'class Rectangle:\\n    def __init__(self, length, width, **kwargs):\\n        self.length = length\\n        self.width = width\\n        super().__init__(**kwargs) # why here?\\n    \\n    def area(self):\\n        return self.length * self.width\\n\\n    def perimeter(self):\\n        return 2 * self.length + 2 * self.width\\n\\n\\nclass Square(Rectangle):\\n    def __init__(self, length, **kwargs):\\n        super().__init__(length=length, width=length, **kwargs)\\n\\n\\nclass Cube(Square):\\n    def surface_area(self):\\n        face_area = super().area()\\n        return face_area * 6\\n\\n    def volume(self):\\n        face_area = super().area()\\n        return face_area * self.length\\n\\n\\nclass Triangle:\\n    def __init__(self, base, height, **kwargs):\\n        self.base = base\\n        self.height = height\\n        super().__init__(**kwargs) # why here?\\n    \\n    def tri_area(self):\\n        return 0.5 * self.base * self.height\\n\\n\\nclass RightPyramid(Square, Triangle):\\n    def __init__(self, base, slant_height, **kwargs):\\n        self.base = base\\n        self.slant_height = slant_height\\n        kwargs[\"height\"] = slant_height\\n        kwargs[\"length\"] = base\\n        super().__init__(base = self.base, **kwargs)\\n\\n    def area(self):\\n        base_area = super().area()\\n        perimeter = super().perimeter()\\n        return 0.5 * perimeter * self.slant_height + base_area\\n\\n    \\n    def area_2(self):\\n        base_area = super().area()\\n        triangle_area = super().tri_area()\\n        return triangle_area * 4 + base_area\\n\\npyramid = RightPyramid(2,4)\\ndisplay(pyramid.area())\\ndisplay(pyramid.area_2())',\n",
       " '_ii': 'class Rectangle:\\n    def __init__(self, length, width, **kwargs):\\n        self.length = length\\n        self.width = width\\n        super().__init__(**kwargs) # why here?\\n    \\n    def area(self):\\n        return self.length * self.width\\n\\n    def perimeter(self):\\n        return 2 * self.length + 2 * self.width\\n\\n\\nclass Square(Rectangle):\\n    def __init__(self, length, **kwargs):\\n        super().__init__(length=length, width=length, **kwargs)\\n\\n\\nclass Cube(Square):\\n    def surface_area(self):\\n        face_area = super().area()\\n        return face_area * 6\\n\\n    def volume(self):\\n        face_area = super().area()\\n        return face_area * self.length\\n\\n\\nclass Triangle:\\n    def __init__(self, base, height, **kwargs):\\n        self.base = base\\n        self.height = height\\n        super().__init__(**kwargs) # why here?\\n    \\n    def tri_area(self):\\n        return 0.5 * self.base * self.height\\n\\n\\nclass RightPyramid(Square, Triangle):\\n    def __init__(self, base, slant_height, **kwargs):\\n        self.base = base\\n        self.slant_height = slant_height\\n        kwargs[\"height\"] = slant_height\\n        kwargs[\"length\"] = base\\n        super().__init__(base = self.base, **kwargs)\\n\\n    def area(self):\\n        base_area = super().area()\\n        perimeter = super().perimeter()\\n        return 0.5 * perimeter * self.slant_height + base_area\\n\\n    \\n    def area_2(self):\\n        base_area = super().area()\\n        triangle_area = super().tri_area()\\n        return triangle_area * 4 + base_area\\n\\npyramid = RightPyramid(2,4)\\ndisplay(pyramid.area())\\ndisplay(pyramid.area_2())',\n",
       " '_iii': 'class Rectangle:\\n    def __init__(self, length, width):\\n        self.length = length\\n        self.width = width\\n    \\n    def area(self):\\n        return self.length * self.width\\n\\n    def perimeter(self):\\n        return 2 * self.length + 2 * self.width\\n\\nclass Square(Rectangle):\\n    def __init__(self, length):\\n        super(Rectangle).__init__(length, length)\\n\\nsquare = Square(4)\\nsquare.area()\\n\\nclass Triangle:\\n    def __init__(self, base, height):\\n        self.base = base\\n        self.height = height\\n        super().__init__() # does this even do anything?\\n    \\n    def tri_area(self):\\n        return 0.5 * self.base * self.height\\n\\nclass RightPyramid(Square, Triangle):\\n    def __init__(self, base, slant_height):\\n        self.base = base\\n        self.slant_height = slant_height\\n        super(Square).__init__(self.base)\\n\\n    def area(self):\\n        base_area = super().area()\\n        perimeter = super().perimeter()\\n        return 0.5 * perimeter * self.slant_height + base_area\\n\\n    \\n    def area_2(self):\\n        base_area = super().area()\\n        triangle_area = super().tri_area()\\n        return triangle_area * 4 + base_area\\n\\npyramid = RightPyramid(2,4)\\ndisplay(pyramid.area())\\ndisplay(pyramid.area_2())',\n",
       " '_i1': 'class Triangle:\\n    def __init__(self, base, height):\\n        self.base = base\\n        self.height = height\\n    \\n    def area(self):\\n        return 0.5 * self.base * self.height\\n\\nclass RightPyramid(Triangle, Square):\\n    def __init__(self, base, slant_height):\\n        self.base = base\\n        self.slant_height = slant_height\\n    \\n    def area(self):\\n        base_area = super().area()\\n        perimeter = super().perimeter()\\n        return 0.5 * perimeter * self.slant_height + base_area\\n\\npyramid = RightPyramid(2,4)\\npyramid.area()',\n",
       " 'Triangle': __main__.Triangle,\n",
       " '_i2': 'class Rectangle:\\n    def __init__(self, length, width):\\n        self.length = length\\n        self.width = width\\n    \\n    def area(self):\\n        return self.length * self.width\\n\\n    def perimeter(self):\\n        return 2 * self.length + 2 * self.width\\n\\nclass Square(Rectangle):\\n    def __init__(self, length):\\n        super().__init__(length=length, width=length) # you can just do: (length, length)\\n\\nsquare = Square(4)\\nsquare.area()',\n",
       " 'Rectangle': __main__.Rectangle,\n",
       " 'Square': __main__.Square,\n",
       " 'square': <__main__.Square at 0x75334ab05820>,\n",
       " '_2': 16,\n",
       " '_i3': 'class Square(Rectangle):\\n    def __init__(self, length):\\n        super().__init__(length, length)\\n\\nclass Cube(Square):\\n    # no need to override init because it does the same as in Square\\n    def surface_area(self):\\n        face_area = super().area() # here we reuse area() from Rectangle\\n        return face_area * 6\\n\\n    def volume(self):\\n        face_area = super().area()\\n        return face_area * self.length\\n\\ncube = Cube(3)\\n\\ndisplay(cube.surface_area())\\ndisplay(cube.volume())',\n",
       " 'Cube': __main__.Cube,\n",
       " 'cube': <__main__.Cube at 0x75334b4c1f10>,\n",
       " '_i4': 'class Triangle:\\n    def __init__(self, base, height):\\n        self.base = base\\n        self.height = height\\n    \\n    def area(self):\\n        return 0.5 * self.base * self.height\\n\\nclass RightPyramid(Triangle, Square):\\n    def __init__(self, base, slant_height):\\n        self.base = base\\n        self.slant_height = slant_height\\n    \\n    def area(self):\\n        base_area = super().area()\\n        perimeter = super().perimeter()\\n        return 0.5 * perimeter * self.slant_height + base_area\\n\\npyramid = RightPyramid(2,4)\\npyramid.area()',\n",
       " 'RightPyramid': __main__.RightPyramid,\n",
       " 'pyramid': <__main__.RightPyramid at 0x75334ab511c0>,\n",
       " '_i5': 'RightPyramid.__mro__',\n",
       " '_5': (__main__.RightPyramid,\n",
       "  __main__.Triangle,\n",
       "  __main__.Square,\n",
       "  __main__.Rectangle,\n",
       "  object),\n",
       " '_i6': 'class RightPyramid(Square, Triangle):\\n    def __init__(self, base, slant_height):\\n        self.base = base\\n        self.slant_height = slant_height\\n    \\n    def area(self):\\n        base_area = super().area()\\n        perimeter = super().perimeter()\\n        return 0.5 * perimeter * self.slant_height + base_area',\n",
       " '_i7': 'class RightPyramid(Square, Triangle):\\n    def __init__(self, base, slant_height):\\n        self.base = base\\n        self.slant_height = slant_height\\n    \\n    def area(self):\\n        base_area = super().area()\\n        perimeter = super().perimeter()\\n        return 0.5 * perimeter * self.slant_height + base_area\\ndisplay(RightPyramid.__mro__)',\n",
       " '_i8': 'class RightPyramid(Square, Triangle):\\n    def __init__(self, base, slant_height):\\n        self.base = base\\n        self.slant_height = slant_height\\n    \\n    def area(self):\\n        base_area = super().area()\\n        perimeter = super().perimeter()\\n        return 0.5 * perimeter * self.slant_height + base_area\\n\\ndisplay(RightPyramid.__mro__)\\npyramid = RightPyramid(2,4)\\ndisplay(pyramid.area())',\n",
       " '_i9': 'class Rectangle:\\n    def __init__(self, length, width):\\n        self.length = length\\n        self.width = width\\n    \\n    def area(self):\\n        return self.length * self.width\\n\\n    def perimeter(self):\\n        return 2 * self.length + 2 * self.width\\n\\nclass Square(Rectangle):\\n    def __init__(self, length):\\n        super().__init__(length=length, width=length) # you can just do: (length, length)\\n\\nsquare = Square(4)\\nsquare.area()',\n",
       " '_9': 16,\n",
       " '_i10': 'class Square(Rectangle):\\n    def __init__(self, length):\\n        super().__init__(length, length)\\n\\nclass Cube(Square):\\n    # no need to override init because it does the same as in Square\\n    def surface_area(self):\\n        face_area = super().area() # here we reuse area() from Rectangle\\n        return face_area * 6\\n\\n    def volume(self):\\n        face_area = super().area()\\n        return face_area * self.length\\n\\ncube = Cube(3)\\n\\ndisplay(cube.surface_area())\\ndisplay(cube.volume())',\n",
       " '_i11': 'class Triangle:\\n    def __init__(self, base, height):\\n        self.base = base\\n        self.height = height\\n    \\n    def area(self):\\n        return 0.5 * self.base * self.height\\n\\nclass RightPyramid(Triangle, Square):\\n    def __init__(self, base, slant_height):\\n        self.base = base\\n        self.slant_height = slant_height\\n    \\n    def area(self):\\n        base_area = super().area()\\n        perimeter = super().perimeter()\\n        return 0.5 * perimeter * self.slant_height + base_area\\n\\npyramid = RightPyramid(2,4)\\npyramid.area()',\n",
       " '_i12': 'RightPyramid.__mro__',\n",
       " '_12': (__main__.RightPyramid,\n",
       "  __main__.Triangle,\n",
       "  __main__.Square,\n",
       "  __main__.Rectangle,\n",
       "  object),\n",
       " '_i13': 'class RightPyramid(Square, Triangle):\\n    def __init__(self, base, slant_height):\\n        self.base = base\\n        self.slant_height = slant_height\\n        super().__init__(self.base) # now it calls square, is there a way to choose which superclass you can call?\\n    \\n    def area(self):\\n        base_area = super().area()\\n        perimeter = super().perimeter()\\n        return 0.5 * perimeter * self.slant_height + base_area\\n\\ndisplay(RightPyramid.__mro__)\\npyramid = RightPyramid(2,4)\\ndisplay(pyramid.area())',\n",
       " '_i14': 'class Triangle:\\n    def __init__(self, base, height):\\n        self.base = base\\n        self.height = height\\n        super().__init__()\\n    \\n    def tri_area(self):\\n        return 0.5 * self.base * self.height\\n\\nclass RightPyramid(Square, Triangle):\\n    def __init__(self, base, slant_height):\\n        self.base = base\\n        self.slant_height = slant_height\\n        super().__init__(self.base)\\n\\n    def area(self):\\n        base_area = super().area()\\n        perimeter = super().perimeter()\\n        return 0.5 * perimeter * self.slant_height + base_area\\n\\n    \\n    def area_2(self):\\n        base_area = super().area()\\n        triangle_area = super().tri_area()\\n        return triangle_area * 4 + base_area',\n",
       " '_i15': 'class Triangle:\\n    def __init__(self, base, height):\\n        self.base = base\\n        self.height = height\\n        super().__init__()\\n    \\n    def tri_area(self):\\n        return 0.5 * self.base * self.height\\n\\nclass RightPyramid(Square, Triangle):\\n    def __init__(self, base, slant_height):\\n        self.base = base\\n        self.slant_height = slant_height\\n        super().__init__(self.base)\\n\\n    def area(self):\\n        base_area = super().area()\\n        perimeter = super().perimeter()\\n        return 0.5 * perimeter * self.slant_height + base_area\\n\\n    \\n    def area_2(self):\\n        base_area = super().area()\\n        triangle_area = super().tri_area()\\n        return triangle_area * 4 + base_area\\n\\npyramid = RightPyramid(2,4)\\ndisplay(pyramid.area())\\ndisplay(pyramid.area_2())',\n",
       " '_i16': 'class Rectangle:\\n    def __init__(self, length, width):\\n        self.length = length\\n        self.width = width\\n    \\n    def area(self):\\n        return self.length * self.width\\n\\n    def perimeter(self):\\n        return 2 * self.length + 2 * self.width\\n\\nclass Square(Rectangle):\\n    def __init__(self, length):\\n        super().__init__(length=length, width=length) # you can just do: (length, length)\\n\\nsquare = Square(4)\\nsquare.area()\\n\\nclass Triangle:\\n    def __init__(self, base, height):\\n        self.base = base\\n        self.height = height\\n        super().__init__()\\n    \\n    def tri_area(self):\\n        return 0.5 * self.base * self.height\\n\\nclass RightPyramid(Square, Triangle):\\n    def __init__(self, base, slant_height):\\n        self.base = base\\n        self.slant_height = slant_height\\n        super().__init__(self.base)\\n\\n    def area(self):\\n        base_area = super().area()\\n        perimeter = super().perimeter()\\n        return 0.5 * perimeter * self.slant_height + base_area\\n\\n    \\n    def area_2(self):\\n        base_area = super().area()\\n        triangle_area = super().tri_area()\\n        return triangle_area * 4 + base_area\\n\\npyramid = RightPyramid(2,4)\\ndisplay(pyramid.area())\\ndisplay(pyramid.area_2())',\n",
       " '_i17': 'class Rectangle:\\n    def __init__(self, length, width):\\n        self.length = length\\n        self.width = width\\n    \\n    def area(self):\\n        return self.length * self.width\\n\\n    def perimeter(self):\\n        return 2 * self.length + 2 * self.width\\n\\nclass Square(Rectangle):\\n    def __init__(self, length):\\n        super(Rectangle).__init__(length, length)\\n\\nsquare = Square(4)\\nsquare.area()\\n\\nclass Triangle:\\n    def __init__(self, base, height):\\n        self.base = base\\n        self.height = height\\n        super().__init__() # does this even do anything?\\n    \\n    def tri_area(self):\\n        return 0.5 * self.base * self.height\\n\\nclass RightPyramid(Square, Triangle):\\n    def __init__(self, base, slant_height):\\n        self.base = base\\n        self.slant_height = slant_height\\n        super(Square).__init__(self.base)\\n\\n    def area(self):\\n        base_area = super().area()\\n        perimeter = super().perimeter()\\n        return 0.5 * perimeter * self.slant_height + base_area\\n\\n    \\n    def area_2(self):\\n        base_area = super().area()\\n        triangle_area = super().tri_area()\\n        return triangle_area * 4 + base_area\\n\\npyramid = RightPyramid(2,4)\\ndisplay(pyramid.area())\\ndisplay(pyramid.area_2())',\n",
       " '_i18': 'class Rectangle:\\n    def __init__(self, length, width, **kwargs):\\n        self.length = length\\n        self.width = width\\n        super().__init__(**kwargs) # why here?\\n    \\n    def area(self):\\n        return self.length * self.width\\n\\n    def perimeter(self):\\n        return 2 * self.length + 2 * self.width\\n\\n\\nclass Square(Rectangle):\\n    def __init__(self, length, **kwargs):\\n        super().__init__(length=length, width=length, **kwargs)\\n\\n\\nclass Cube(Square):\\n    def surface_area(self):\\n        face_area = super().area()\\n        return face_area * 6\\n\\n    def volume(self):\\n        face_area = super().area()\\n        return face_area * self.length\\n\\n\\nclass Triangle:\\n    def __init__(self, base, height, **kwargs):\\n        self.base = base\\n        self.height = height\\n        super().__init__(**kwargs) # why here?\\n    \\n    def tri_area(self):\\n        return 0.5 * self.base * self.height\\n\\n\\nclass RightPyramid(Square, Triangle):\\n    def __init__(self, base, slant_height, **kwargs):\\n        self.base = base\\n        self.slant_height = slant_height\\n        kwargs[\"height\"] = slant_height\\n        kwargs[\"length\"] = base\\n        super().__init__(base = self.base, **kwargs)\\n\\n    def area(self):\\n        base_area = super().area()\\n        perimeter = super().perimeter()\\n        return 0.5 * perimeter * self.slant_height + base_area\\n\\n    \\n    def area_2(self):\\n        base_area = super().area()\\n        triangle_area = super().tri_area()\\n        return triangle_area * 4 + base_area\\n\\npyramid = RightPyramid(2,4)\\ndisplay(pyramid.area())\\ndisplay(pyramid.area_2())',\n",
       " '_i19': 'class Rectangle:\\n    def __init__(self, length, width, **kwargs):\\n        self.length = length\\n        self.width = width\\n        super().__init__(**kwargs) # why here?\\n    \\n    def area(self):\\n        return self.length * self.width\\n\\n    def perimeter(self):\\n        return 2 * self.length + 2 * self.width\\n\\n\\nclass Square(Rectangle):\\n    def __init__(self, length, **kwargs):\\n        super().__init__(length=length, width=length, **kwargs)\\n\\n\\nclass Cube(Square):\\n    def surface_area(self):\\n        face_area = super().area()\\n        return face_area * 6\\n\\n    def volume(self):\\n        face_area = super().area()\\n        return face_area * self.length\\n\\n\\nclass Triangle:\\n    def __init__(self, base, height, **kwargs):\\n        self.base = base\\n        self.height = height\\n        super().__init__(**kwargs) # why here?\\n    \\n    def tri_area(self):\\n        return 0.5 * self.base * self.height\\n\\n\\nclass RightPyramid(Square, Triangle):\\n    def __init__(self, base, slant_height, **kwargs):\\n        self.base = base\\n        self.slant_height = slant_height\\n        kwargs[\"height\"] = slant_height\\n        kwargs[\"length\"] = base\\n        super().__init__(base = self.base, **kwargs)\\n\\n    def area(self):\\n        base_area = super().area()\\n        perimeter = super().perimeter()\\n        return 0.5 * perimeter * self.slant_height + base_area\\n\\n    \\n    def area_2(self):\\n        base_area = super().area()\\n        triangle_area = super().tri_area()\\n        return triangle_area * 4 + base_area\\n\\npyramid = RightPyramid(2,4)\\ndisplay(pyramid.area())\\ndisplay(pyramid.area_2())',\n",
       " '_i20': 'vars()'}"
      ]
     },
     "execution_count": 20,
     "metadata": {},
     "output_type": "execute_result"
    }
   ],
   "source": [
    "vars()"
   ]
  },
  {
   "cell_type": "code",
   "execution_count": 21,
   "metadata": {},
   "outputs": [
    {
     "data": {
      "text/plain": [
       "mappingproxy({'__module__': '__main__',\n",
       "              '__init__': <function __main__.Rectangle.__init__(self, length, width, **kwargs)>,\n",
       "              'area': <function __main__.Rectangle.area(self)>,\n",
       "              'perimeter': <function __main__.Rectangle.perimeter(self)>,\n",
       "              '__dict__': <attribute '__dict__' of 'Rectangle' objects>,\n",
       "              '__weakref__': <attribute '__weakref__' of 'Rectangle' objects>,\n",
       "              '__doc__': None})"
      ]
     },
     "execution_count": 21,
     "metadata": {},
     "output_type": "execute_result"
    }
   ],
   "source": [
    "vars(Rectangle)"
   ]
  },
  {
   "cell_type": "code",
   "execution_count": 22,
   "metadata": {},
   "outputs": [
    {
     "data": {
      "text/plain": [
       "{'length': 4, 'width': 4}"
      ]
     },
     "execution_count": 22,
     "metadata": {},
     "output_type": "execute_result"
    }
   ],
   "source": [
    "vars(square)"
   ]
  },
  {
   "cell_type": "markdown",
   "metadata": {},
   "source": [
    "## zip\n",
    "\n",
    "combines iterable objects. Takes the length of the shortest iterable."
   ]
  },
  {
   "cell_type": "code",
   "execution_count": 31,
   "metadata": {},
   "outputs": [
    {
     "data": {
      "text/plain": [
       "[(0, 'A'), (1, 'T'), (2, 'C'), (3, 'G')]"
      ]
     },
     "metadata": {},
     "output_type": "display_data"
    },
    {
     "data": {
      "text/plain": [
       "[('A',), ('T',), ('C',), ('G',)]"
      ]
     },
     "metadata": {},
     "output_type": "display_data"
    },
    {
     "data": {
      "text/plain": [
       "[(0, 'A'), (1, 'T'), (2, 'C'), (3, 'G')]"
      ]
     },
     "metadata": {},
     "output_type": "display_data"
    }
   ],
   "source": [
    "display(list(zip(range(4),\"ATCG\")))\n",
    "display(list(zip(\"ATCG\")))\n",
    "display(list(zip(range(10),\"ATCG\")))"
   ]
  },
  {
   "cell_type": "markdown",
   "metadata": {},
   "source": [
    "Here is something interesting. *a unpacks the list. What zip does it just puts all elements on index 0 together, same for index 1 etc. That's very handy."
   ]
  },
  {
   "cell_type": "code",
   "execution_count": 45,
   "metadata": {},
   "outputs": [
    {
     "data": {
      "text/plain": [
       "[(('Apple', 10),), (('Banana', 20),), (('Orange', 30),)]"
      ]
     },
     "metadata": {},
     "output_type": "display_data"
    },
    {
     "data": {
      "text/plain": [
       "[('Apple', 'Banana', 'Orange'), (10, 20, 30)]"
      ]
     },
     "metadata": {},
     "output_type": "display_data"
    }
   ],
   "source": [
    "a = [('Apple', 10), ('Banana', 20), ('Orange', 30)]\n",
    "display(list(zip(a)))\n",
    "display(list(zip(*a)))"
   ]
  },
  {
   "cell_type": "code",
   "execution_count": 47,
   "metadata": {},
   "outputs": [
    {
     "data": {
      "text/plain": [
       "('Apple', 10)"
      ]
     },
     "metadata": {},
     "output_type": "display_data"
    },
    {
     "data": {
      "text/plain": [
       "('Banana', 20)"
      ]
     },
     "metadata": {},
     "output_type": "display_data"
    },
    {
     "data": {
      "text/plain": [
       "('Orange', 30)"
      ]
     },
     "metadata": {},
     "output_type": "display_data"
    }
   ],
   "source": [
    "display(*a) # unpacks the list"
   ]
  },
  {
   "cell_type": "code",
   "execution_count": 49,
   "metadata": {},
   "outputs": [
    {
     "data": {
      "text/plain": [
       "('Apple', 'Banana', 'Orange')"
      ]
     },
     "metadata": {},
     "output_type": "display_data"
    },
    {
     "data": {
      "text/plain": [
       "(10, 20, 30)"
      ]
     },
     "metadata": {},
     "output_type": "display_data"
    }
   ],
   "source": [
    "fruits, quantities = zip(*a)\n",
    "display(fruits)\n",
    "display(quantities)"
   ]
  },
  {
   "cell_type": "code",
   "execution_count": 53,
   "metadata": {},
   "outputs": [
    {
     "data": {
      "text/plain": [
       "[('name', 'Alice'), ('age', 25), ('grade', 'A')]"
      ]
     },
     "execution_count": 53,
     "metadata": {},
     "output_type": "execute_result"
    }
   ],
   "source": [
    "d = {'name': 'Alice', 'age': 25, 'grade': 'A'}\n",
    "list(zip(d.keys(), d.values()))"
   ]
  },
  {
   "cell_type": "code",
   "execution_count": 62,
   "metadata": {},
   "outputs": [
    {
     "data": {
      "text/plain": [
       "(0, 1, 2, 3)"
      ]
     },
     "metadata": {},
     "output_type": "display_data"
    },
    {
     "data": {
      "text/plain": [
       "('a', 'b', 'c', 'd')"
      ]
     },
     "metadata": {},
     "output_type": "display_data"
    }
   ],
   "source": [
    "x = range(0,4)\n",
    "y = \"abcd\"\n",
    "x_2, y_2 = list(zip(*zip(x,y)))\n",
    "display(x_2, y_2)"
   ]
  },
  {
   "cell_type": "markdown",
   "metadata": {},
   "source": [
    "## excercises"
   ]
  },
  {
   "cell_type": "markdown",
   "metadata": {},
   "source": [
    "### Python Exercise: Function Practice\n",
    "#### Task 1: Absolute Value and Complex Numbers\n",
    "Write a function calculate_absolute that takes a list of numbers and returns a list of their absolute values.\n",
    "\n",
    "Create a complex number and print its absolute value."
   ]
  },
  {
   "cell_type": "code",
   "execution_count": 85,
   "metadata": {},
   "outputs": [
    {
     "data": {
      "text/plain": [
       "[5, 3.2, 0, 2.5, 7]"
      ]
     },
     "execution_count": 85,
     "metadata": {},
     "output_type": "execute_result"
    }
   ],
   "source": [
    "def calculate_absolute(numbers: list):\n",
    "    return [abs(num) for num in numbers]\n",
    "numbers = [-5, -3.2, 0, 2.5, 7]\n",
    "calculate_absolute(numbers)"
   ]
  },
  {
   "cell_type": "code",
   "execution_count": 88,
   "metadata": {},
   "outputs": [
    {
     "data": {
      "text/plain": [
       "5.0"
      ]
     },
     "execution_count": 88,
     "metadata": {},
     "output_type": "execute_result"
    }
   ],
   "source": [
    "complex_number = complex(3, 4)\n",
    "abs(complex_number)"
   ]
  },
  {
   "cell_type": "markdown",
   "metadata": {},
   "source": [
    "### Task 2: All and Any\n",
    "\n",
    "Write a function check_all_positive that takes a list of numbers and returns True if all numbers are positive.\n",
    "\n",
    "Write a function check_any_positive that takes a list of numbers and returns True if any number is positive."
   ]
  },
  {
   "cell_type": "code",
   "execution_count": null,
   "metadata": {},
   "outputs": [
    {
     "name": "stdout",
     "output_type": "stream",
     "text": [
      "False\n",
      "True\n"
     ]
    }
   ],
   "source": [
    "def check_all_positive(numbers):\n",
    "    return all([ num > 0 for num in numbers ])\n",
    "\n",
    "def check_any_positive(numbers):\n",
    "    return any([ num > 0 for num in numbers ])\n",
    "\n",
    "numbers = [-1, 2, 3, -4]\n",
    "print(check_all_positive(numbers))\n",
    "print(check_any_positive(numbers))"
   ]
  },
  {
   "cell_type": "markdown",
   "metadata": {},
   "source": [
    "### Task 3: Divmod and Enumerate\n",
    "Write a function divmod_list that takes a list of tuples (each containing two integers) and returns a list of their divmod results.\n",
    "\n",
    "Use enumerate to print the index and value of each element in a list.\n"
   ]
  },
  {
   "cell_type": "code",
   "execution_count": 91,
   "metadata": {},
   "outputs": [
    {
     "data": {
      "text/plain": [
       "[(3, 1), (4, 0), (4, 1)]"
      ]
     },
     "execution_count": 91,
     "metadata": {},
     "output_type": "execute_result"
    }
   ],
   "source": [
    "def divmod_list(list_of_tuples):\n",
    "    return [ divmod(x,y) for x,y in list_of_tuples ]\n",
    "\n",
    "pairs = [(10, 3), (20, 5), (9, 2)]\n",
    "divmod_list(pairs)"
   ]
  },
  {
   "cell_type": "code",
   "execution_count": 93,
   "metadata": {},
   "outputs": [
    {
     "name": "stdout",
     "output_type": "stream",
     "text": [
      "0 Juno II\n",
      "1 Thor-Delta\n",
      "2 Titan 34D\n"
     ]
    }
   ],
   "source": [
    "rockets = [\"Juno II\", \"Thor-Delta\", \"Titan 34D\"]\n",
    "for index, rocket in enumerate(rockets):\n",
    "    print(index, rocket)"
   ]
  },
  {
   "cell_type": "markdown",
   "metadata": {},
   "source": [
    "### Task 4: Eval and Filter\n",
    "\n",
    "Write a function evaluate_expression that takes a string expression and returns its evaluated result.\n",
    "\n",
    "Write a function filter_even_numbers that takes a list of numbers and returns a list of even numbers."
   ]
  },
  {
   "cell_type": "code",
   "execution_count": 98,
   "metadata": {},
   "outputs": [
    {
     "name": "stdout",
     "output_type": "stream",
     "text": [
      "14\n",
      "[2, 4, 6]\n"
     ]
    }
   ],
   "source": [
    "def evaluate_expression(expression: list):\n",
    "    return eval(expression)\n",
    "\n",
    "def filter_even_numbers(numbers: list):\n",
    "    return list(filter(lambda a: a % 2==0, numbers))\n",
    "\n",
    "expression = \"2 + 3 * 4\"\n",
    "print(evaluate_expression(expression))  # Output: 14\n",
    "\n",
    "numbers = [1, 2, 3, 4, 5, 6]\n",
    "print(filter_even_numbers(numbers))  # Output: [2, 4, 6]"
   ]
  },
  {
   "cell_type": "markdown",
   "metadata": {},
   "source": [
    "### Task 5: Format and Hasattr\n",
    "\n",
    "Write a function format_string that takes a name and age and returns a formatted string.\n",
    "\n",
    "Write a function check_attribute that checks if an object has a specific attribute.\n"
   ]
  },
  {
   "cell_type": "code",
   "execution_count": 99,
   "metadata": {},
   "outputs": [
    {
     "name": "stdout",
     "output_type": "stream",
     "text": [
      "Hello Alice, when is you 30nd birthday?\n"
     ]
    }
   ],
   "source": [
    "def format_string(name: str, age: int):\n",
    "    return \"Hello {0}, when is you {1}nd birthday?\".format(name, age)\n",
    "\n",
    "print(format_string(\"Alice\", 30))  # Output: Name: Alice, Age: 30"
   ]
  },
  {
   "cell_type": "code",
   "execution_count": 100,
   "metadata": {},
   "outputs": [
    {
     "name": "stdout",
     "output_type": "stream",
     "text": [
      "True\n",
      "False\n"
     ]
    }
   ],
   "source": [
    "def check_attribute(object, atribute):\n",
    "    return hasattr(object, atribute)\n",
    "\n",
    "class Person:\n",
    "    def __init__(self, name):\n",
    "        self.name = name\n",
    "\n",
    "person = Person(\"Bob\")\n",
    "print(check_attribute(person, \"name\"))  # Output: True\n",
    "print(check_attribute(person, \"age\"))   # Output: False"
   ]
  },
  {
   "cell_type": "markdown",
   "metadata": {},
   "source": [
    "### Task 6: Isinstance and Issubclass\n",
    "\n",
    "Write a function check_instance that checks if an object is an instance of a specific class.\n",
    "\n",
    "Write a function check_subclass that checks if a class is a subclass of another class."
   ]
  },
  {
   "cell_type": "code",
   "execution_count": 101,
   "metadata": {},
   "outputs": [
    {
     "name": "stdout",
     "output_type": "stream",
     "text": [
      "True\n",
      "True\n"
     ]
    }
   ],
   "source": [
    "def check_instance(obj, cla):\n",
    "    return isinstance(obj, cla)\n",
    "\n",
    "print(check_instance(5, int))  # Output: True\n",
    "print(check_instance(\"hello\", str))  # Output: True"
   ]
  },
  {
   "cell_type": "code",
   "execution_count": null,
   "metadata": {},
   "outputs": [
    {
     "name": "stdout",
     "output_type": "stream",
     "text": [
      "True\n"
     ]
    }
   ],
   "source": [
    "def check_subclass(parent, child):\n",
    "    return issubclass(parent, child)\n",
    "\n",
    "\n",
    "class Animal:\n",
    "    pass\n",
    "\n",
    "class Dog(Animal):\n",
    "    pass\n",
    "\n",
    "print(check_subclass(Dog, Animal))  # Output: true"
   ]
  }
 ],
 "metadata": {
  "kernelspec": {
   "display_name": ".venv",
   "language": "python",
   "name": "python3"
  },
  "language_info": {
   "codemirror_mode": {
    "name": "ipython",
    "version": 3
   },
   "file_extension": ".py",
   "mimetype": "text/x-python",
   "name": "python",
   "nbconvert_exporter": "python",
   "pygments_lexer": "ipython3",
   "version": "3.12.3"
  }
 },
 "nbformat": 4,
 "nbformat_minor": 2
}
