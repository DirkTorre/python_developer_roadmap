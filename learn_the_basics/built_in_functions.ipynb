{
 "cells": [
  {
   "cell_type": "markdown",
   "metadata": {},
   "source": [
    "# built-in functions\n",
    "\n",
    "I never had to use every build-in function, so it's time to check them all out.\n",
    "https://docs.python.org/3/library/functions.html"
   ]
  },
  {
   "cell_type": "code",
   "execution_count": 9,
   "metadata": {},
   "outputs": [
    {
     "name": "stdout",
     "output_type": "stream",
     "text": [
      "gives the absolute / positive:\t 12.34\n",
      "return true if all are true:\t False True\n",
      "return true if any is true:\t True False\n"
     ]
    }
   ],
   "source": [
    "print(\"gives the absolute / positive:\\t\", abs(-12.34))\n",
    "print(\"return true if all are true:\\t\", all([True, True, False]), all([True, True]))\n",
    "print(\"return true if any is true:\\t\", any([True, False, False]), any([False, False]))"
   ]
  },
  {
   "cell_type": "markdown",
   "metadata": {},
   "source": [
    "awaitable"
   ]
  },
  {
   "cell_type": "code",
   "execution_count": 12,
   "metadata": {},
   "outputs": [
    {
     "data": {
      "text/plain": [
       "\"'a\\\\tb\\\\nc'\""
      ]
     },
     "execution_count": 12,
     "metadata": {},
     "output_type": "execute_result"
    }
   ],
   "source": [
    "test = \"a\\tb\\nc\"\n",
    "ascii(test)"
   ]
  },
  {
   "cell_type": "code",
   "execution_count": null,
   "metadata": {},
   "outputs": [
    {
     "data": {
      "text/plain": [
       "'0b111'"
      ]
     },
     "execution_count": 13,
     "metadata": {},
     "output_type": "execute_result"
    }
   ],
   "source": [
    "bin(7) # turns integers into binary strings"
   ]
  },
  {
   "cell_type": "code",
   "execution_count": 15,
   "metadata": {},
   "outputs": [
    {
     "data": {
      "text/plain": [
       "True"
      ]
     },
     "execution_count": 15,
     "metadata": {},
     "output_type": "execute_result"
    }
   ],
   "source": [
    "bool(1)"
   ]
  },
  {
   "cell_type": "code",
   "execution_count": 16,
   "metadata": {},
   "outputs": [],
   "source": [
    "breakpoint()"
   ]
  },
  {
   "cell_type": "markdown",
   "metadata": {},
   "source": [
    "basically the code version of a breakpoint.\n",
    "it's like debugging by using print(), but with a debugger.\n",
    "Yes, i known that sounds weird."
   ]
  },
  {
   "cell_type": "code",
   "execution_count": null,
   "metadata": {},
   "outputs": [
    {
     "name": "stdout",
     "output_type": "stream",
     "text": [
      "bytearray(b'abcd')\n",
      "bytearray(b'')\n",
      "bytearray(b'\\x00')\n",
      "bytearray(b'\\x00\\x00')\n"
     ]
    }
   ],
   "source": [
    "print(bytearray(\"abcd\", encoding='utf-8'))\n",
    "print(bytearray(0))\n",
    "print(bytearray(1))\n",
    "print(bytearray(2))"
   ]
  },
  {
   "cell_type": "markdown",
   "metadata": {},
   "source": [
    "a bytearray is basically a muatable string."
   ]
  },
  {
   "cell_type": "code",
   "execution_count": 32,
   "metadata": {},
   "outputs": [
    {
     "name": "stdout",
     "output_type": "stream",
     "text": [
      "b'test'\n",
      "b''\n",
      "b'\\x00\\x00\\x00\\x00\\x00\\x00\\x00\\x00\\x00\\x00'\n"
     ]
    }
   ],
   "source": [
    "print(bytes(\"test\", encoding='utf-8'))\n",
    "print(bytes(0))\n",
    "print(bytes(10))"
   ]
  },
  {
   "cell_type": "markdown",
   "metadata": {},
   "source": [
    "bytes() is an immutable version of bytearray"
   ]
  },
  {
   "cell_type": "markdown",
   "metadata": {},
   "source": [
    "## callable\n",
    "\n",
    "When a variable can be executed/called.\n",
    "So a function is a callable."
   ]
  },
  {
   "cell_type": "code",
   "execution_count": 35,
   "metadata": {},
   "outputs": [
    {
     "name": "stdout",
     "output_type": "stream",
     "text": [
      "False\n",
      "False\n",
      "False\n",
      "True\n"
     ]
    }
   ],
   "source": [
    "test = None\n",
    "print(callable(test))\n",
    "\n",
    "test = 1\n",
    "print(callable(test))\n",
    "\n",
    "test = \"abcd\"\n",
    "print(callable(test))\n",
    "\n",
    "def goose():\n",
    "    return 1\n",
    "\n",
    "print(callable(goose))\n"
   ]
  },
  {
   "cell_type": "code",
   "execution_count": 92,
   "metadata": {},
   "outputs": [
    {
     "name": "stdout",
     "output_type": "stream",
     "text": [
      "ribs\n",
      "kiwi\n"
     ]
    }
   ],
   "source": [
    "class Food:\n",
    "    def __init__(self, name):\n",
    "        self.name = name\n",
    "\n",
    "    def get_name(self):\n",
    "        return self.name\n",
    "    \n",
    "\n",
    "ribs = Food(\"ribs\")\n",
    "kiwi = Food(\"kiwi\")\n",
    "print(ribs.get_name())\n",
    "print(kiwi.get_name())"
   ]
  },
  {
   "cell_type": "markdown",
   "metadata": {},
   "source": [
    "## compile"
   ]
  }
 ],
 "metadata": {
  "kernelspec": {
   "display_name": ".venv",
   "language": "python",
   "name": "python3"
  },
  "language_info": {
   "codemirror_mode": {
    "name": "ipython",
    "version": 3
   },
   "file_extension": ".py",
   "mimetype": "text/x-python",
   "name": "python",
   "nbconvert_exporter": "python",
   "pygments_lexer": "ipython3",
   "version": "3.12.3"
  }
 },
 "nbformat": 4,
 "nbformat_minor": 2
}
