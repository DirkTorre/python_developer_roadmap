{
 "cells": [
  {
   "cell_type": "markdown",
   "metadata": {},
   "source": [
    "# notes on conditionals\n",
    "\n",
    "## match-case (a switch)"
   ]
  },
  {
   "cell_type": "code",
   "execution_count": null,
   "metadata": {},
   "outputs": [],
   "source": [
    "var = \"k\"\n",
    "\n",
    "match var:\n",
    "    case \"a\":\n",
    "        print(\"it's a\")\n",
    "    case \"b\":\n",
    "        print(\"it's b\")\n",
    "    case other:\n",
    "        print(\"I don't know what it is\")"
   ]
  }
 ],
 "metadata": {
  "language_info": {
   "name": "python"
  }
 },
 "nbformat": 4,
 "nbformat_minor": 2
}
