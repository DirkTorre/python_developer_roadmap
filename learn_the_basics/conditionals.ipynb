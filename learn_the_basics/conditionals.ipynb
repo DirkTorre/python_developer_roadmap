{
 "cells": [
  {
   "cell_type": "markdown",
   "metadata": {},
   "source": [
    "# notes on conditionals\n",
    "\n",
    "## match-case (a switch)"
   ]
  },
  {
   "cell_type": "code",
   "execution_count": 1,
   "metadata": {},
   "outputs": [
    {
     "name": "stdout",
     "output_type": "stream",
     "text": [
      "I don't know what it is\n"
     ]
    }
   ],
   "source": [
    "var = \"k\"\n",
    "\n",
    "match var:\n",
    "    case \"a\":\n",
    "        print(\"it's a\")\n",
    "    case \"b\":\n",
    "        print(\"it's b\")\n",
    "    case other:\n",
    "        print(\"I don't know what it is\")"
   ]
  }
 ],
 "metadata": {
  "kernelspec": {
   "display_name": ".venv",
   "language": "python",
   "name": "python3"
  },
  "language_info": {
   "codemirror_mode": {
    "name": "ipython",
    "version": 3
   },
   "file_extension": ".py",
   "mimetype": "text/x-python",
   "name": "python",
   "nbconvert_exporter": "python",
   "pygments_lexer": "ipython3",
   "version": "3.12.3"
  }
 },
 "nbformat": 4,
 "nbformat_minor": 2
}
