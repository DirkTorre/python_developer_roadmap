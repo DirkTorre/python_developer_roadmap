{
 "cells": [
  {
   "cell_type": "markdown",
   "id": "bfeabf42",
   "metadata": {},
   "source": [
    "# dynamic programming algo's\n",
    "\n",
    "## fibonachi sequence\n",
    "\n",
    "The sequence starts with [0,1]. The next number is calculated by summing the two previous numbers."
   ]
  },
  {
   "cell_type": "code",
   "execution_count": 11,
   "id": "a29273e2",
   "metadata": {},
   "outputs": [
    {
     "name": "stdout",
     "output_type": "stream",
     "text": [
      "0 1 1 2 3 5 8 13 21 34 55 89 "
     ]
    }
   ],
   "source": [
    "amount = 10\n",
    "a = 0\n",
    "b = 1\n",
    "next = b\n",
    "counter = 1\n",
    "\n",
    "print(0, end=\" \")\n",
    "print(1, end=\" \")\n",
    "\n",
    "while counter <= amount:\n",
    "    print(next, end=\" \")\n",
    "    counter += 1\n",
    "    a, b = b, next\n",
    "    next = a + b"
   ]
  }
 ],
 "metadata": {
  "kernelspec": {
   "display_name": ".venv",
   "language": "python",
   "name": "python3"
  },
  "language_info": {
   "codemirror_mode": {
    "name": "ipython",
    "version": 3
   },
   "file_extension": ".py",
   "mimetype": "text/x-python",
   "name": "python",
   "nbconvert_exporter": "python",
   "pygments_lexer": "ipython3",
   "version": "3.12.3"
  }
 },
 "nbformat": 4,
 "nbformat_minor": 5
}
