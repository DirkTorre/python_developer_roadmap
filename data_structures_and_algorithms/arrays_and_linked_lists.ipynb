{
 "cells": [
  {
   "cell_type": "markdown",
   "metadata": {},
   "source": [
    "# Arrays and linked lists\n",
    "\n",
    "## Arrays\n",
    "\n",
    "So it turns out that python has arrays, not only lists, sets etc.\n",
    "[Arrays can only contain 1 type.](https://docs.python.org/3/library/array.html)"
   ]
  },
  {
   "cell_type": "code",
   "execution_count": 1,
   "metadata": {},
   "outputs": [
    {
     "data": {
      "text/plain": [
       "array('i', [0, 3, 6, 9, 12, 15, 18, 21, 24, 27, 30, 33, 36, 39, 42, 45])"
      ]
     },
     "execution_count": 1,
     "metadata": {},
     "output_type": "execute_result"
    }
   ],
   "source": [
    "import array as arr\n",
    "\n",
    "integer_array = arr.array('i',range(0,47,3))\n",
    "integer_array"
   ]
  },
  {
   "cell_type": "code",
   "execution_count": 2,
   "metadata": {},
   "outputs": [
    {
     "ename": "TypeError",
     "evalue": "'str' object cannot be interpreted as an integer",
     "output_type": "error",
     "traceback": [
      "\u001b[31m---------------------------------------------------------------------------\u001b[39m",
      "\u001b[31mTypeError\u001b[39m                                 Traceback (most recent call last)",
      "\u001b[36mCell\u001b[39m\u001b[36m \u001b[39m\u001b[32mIn[2]\u001b[39m\u001b[32m, line 1\u001b[39m\n\u001b[32m----> \u001b[39m\u001b[32m1\u001b[39m \u001b[43minteger_array\u001b[49m\u001b[43m[\u001b[49m\u001b[32;43m3\u001b[39;49m\u001b[43m]\u001b[49m = \u001b[33m\"\u001b[39m\u001b[33ma\u001b[39m\u001b[33m\"\u001b[39m\n",
      "\u001b[31mTypeError\u001b[39m: 'str' object cannot be interpreted as an integer"
     ]
    }
   ],
   "source": [
    "integer_array[3] = \"a\""
   ]
  },
  {
   "cell_type": "code",
   "execution_count": 3,
   "metadata": {},
   "outputs": [
    {
     "data": {
      "text/plain": [
       "4"
      ]
     },
     "execution_count": 3,
     "metadata": {},
     "output_type": "execute_result"
    }
   ],
   "source": [
    "integer_array.itemsize"
   ]
  },
  {
   "cell_type": "code",
   "execution_count": 4,
   "metadata": {},
   "outputs": [
    {
     "data": {
      "text/plain": [
       "array('i', [0, 3, 6, 9, 12, 15, 18, 21, 24, 27, 30, 33, 36, 39, 42, 45, 1234])"
      ]
     },
     "execution_count": 4,
     "metadata": {},
     "output_type": "execute_result"
    }
   ],
   "source": [
    "integer_array.append(1234)\n",
    "integer_array"
   ]
  },
  {
   "cell_type": "code",
   "execution_count": 5,
   "metadata": {},
   "outputs": [
    {
     "data": {
      "text/plain": [
       "2"
      ]
     },
     "execution_count": 5,
     "metadata": {},
     "output_type": "execute_result"
    }
   ],
   "source": [
    "integer_array.extend([0,3,6,9])\n",
    "integer_array.count(3)"
   ]
  },
  {
   "cell_type": "code",
   "execution_count": 6,
   "metadata": {},
   "outputs": [
    {
     "data": {
      "text/plain": [
       "array('i', [0, 3, 6, 9, 12, 15, 18, 21, 24, 27, 30, 33, 36, 39, 42, 45, 1234, 0, 3, 6, 9, 66, 77, 88])"
      ]
     },
     "execution_count": 6,
     "metadata": {},
     "output_type": "execute_result"
    }
   ],
   "source": [
    "integer_array.fromlist([66,77,88])\n",
    "integer_array"
   ]
  },
  {
   "cell_type": "code",
   "execution_count": 7,
   "metadata": {},
   "outputs": [
    {
     "data": {
      "text/plain": [
       "6"
      ]
     },
     "execution_count": 7,
     "metadata": {},
     "output_type": "execute_result"
    }
   ],
   "source": [
    "integer_array.index(18,4,8) # searched for 18, in index 4 to 8"
   ]
  },
  {
   "cell_type": "code",
   "execution_count": 8,
   "metadata": {},
   "outputs": [
    {
     "data": {
      "text/plain": [
       "array('i', [3, 6, 9, 12, 15, 18, 21, 24, 27, 30, 33, 36, 39, 42, 45, 1234, 0, 3, 6, 9, 66, 77, 88])"
      ]
     },
     "execution_count": 8,
     "metadata": {},
     "output_type": "execute_result"
    }
   ],
   "source": [
    "integer_array.pop(0)\n",
    "integer_array"
   ]
  },
  {
   "cell_type": "markdown",
   "metadata": {},
   "source": [
    "## linked lists\n",
    "\n",
    "More info [can be found here](https://realpython.com/linked-lists-python/)\n",
    "\n",
    "instead of a adjacency matrix, you can use a [adjacency list](https://www.geeksforgeeks.org/adjacency-list-meaning-definition-in-dsa/), which saves space.\n",
    "\n",
    "And it turns out that [python lists use a lot more memory than i expected](https://www.laurentluce.com/posts/python-list-implementation/).\n",
    "\n",
    "### collections.deque\n",
    "\n",
    "deque = double ended que. Handy if you go formward or backward in time (for example: web browsing)\n",
    "\n",
    "**add and pop right:**"
   ]
  },
  {
   "cell_type": "code",
   "execution_count": 9,
   "metadata": {},
   "outputs": [
    {
     "data": {
      "text/plain": [
       "deque(['h', 'i', 'j'])"
      ]
     },
     "metadata": {},
     "output_type": "display_data"
    },
    {
     "data": {
      "text/plain": [
       "deque(['h', 'i', 'j', '-', 'Z'])"
      ]
     },
     "metadata": {},
     "output_type": "display_data"
    },
    {
     "data": {
      "text/plain": [
       "deque(['h', 'i', 'j', '-'])"
      ]
     },
     "metadata": {},
     "output_type": "display_data"
    }
   ],
   "source": [
    "from collections import deque\n",
    "\n",
    "dumlist = deque(\"hij\")\n",
    "display(dumlist) # you can just put any iterable in \n",
    "dumlist.append(\"-\")\n",
    "dumlist.append(\"Z\")\n",
    "display(dumlist)\n",
    "dumlist.pop()\n",
    "display(dumlist)"
   ]
  },
  {
   "cell_type": "markdown",
   "metadata": {},
   "source": [
    "**add and pop left**:"
   ]
  },
  {
   "cell_type": "code",
   "execution_count": 10,
   "metadata": {},
   "outputs": [
    {
     "data": {
      "text/plain": [
       "deque(['A', '-', 'h', 'i', 'j', '-'])"
      ]
     },
     "metadata": {},
     "output_type": "display_data"
    },
    {
     "data": {
      "text/plain": [
       "deque(['-', 'h', 'i', 'j', '-'])"
      ]
     },
     "metadata": {},
     "output_type": "display_data"
    }
   ],
   "source": [
    "dumlist.appendleft(\"-\")\n",
    "dumlist.appendleft(\"A\")\n",
    "display(dumlist)\n",
    "dumlist.popleft()\n",
    "display(dumlist)"
   ]
  },
  {
   "cell_type": "markdown",
   "metadata": {},
   "source": [
    "Here at Aperture Science℠ we do all our coding from scratch. So we will reinvent the linked list."
   ]
  },
  {
   "cell_type": "code",
   "execution_count": 11,
   "metadata": {},
   "outputs": [
    {
     "data": {
      "text/plain": [
       "None"
      ]
     },
     "execution_count": 11,
     "metadata": {},
     "output_type": "execute_result"
    }
   ],
   "source": [
    "class Node:\n",
    "    def __init__(self, data):\n",
    "        self.data = data\n",
    "        self.next = None\n",
    "    \n",
    "    def __repr__(self):\n",
    "        return self.data\n",
    "\n",
    "\n",
    "class LinkedList:\n",
    "    def __init__(self):\n",
    "        self.head = None\n",
    "    \n",
    "    def __repr__(self):\n",
    "        node = self.head\n",
    "        nodes = []\n",
    "        while node is not None:\n",
    "            nodes.append(node.data)\n",
    "            node = node.next\n",
    "        nodes.append(\"None\")\n",
    "        return \" -> \".join(nodes)\n",
    "\n",
    "llist = LinkedList()\n",
    "llist"
   ]
  },
  {
   "cell_type": "code",
   "execution_count": 12,
   "metadata": {},
   "outputs": [
    {
     "data": {
      "text/plain": [
       "a -> None"
      ]
     },
     "execution_count": 12,
     "metadata": {},
     "output_type": "execute_result"
    }
   ],
   "source": [
    "first_node = Node('a')\n",
    "llist.head = first_node\n",
    "llist"
   ]
  },
  {
   "cell_type": "code",
   "execution_count": 13,
   "metadata": {},
   "outputs": [
    {
     "data": {
      "text/plain": [
       "a -> b -> c -> None"
      ]
     },
     "execution_count": 13,
     "metadata": {},
     "output_type": "execute_result"
    }
   ],
   "source": [
    "second_node = Node(\"b\")\n",
    "third_node = Node(\"c\")\n",
    "first_node.next = second_node\n",
    "second_node.next = third_node\n",
    "llist"
   ]
  },
  {
   "cell_type": "code",
   "execution_count": 14,
   "metadata": {},
   "outputs": [
    {
     "data": {
      "text/plain": [
       "a -> b -> c -> d -> None"
      ]
     },
     "execution_count": 14,
     "metadata": {},
     "output_type": "execute_result"
    }
   ],
   "source": [
    "class Node:\n",
    "    def __init__(self, data):\n",
    "        self.data = data\n",
    "        self.next = None\n",
    "    \n",
    "    def __repr__(self):\n",
    "        return self.data\n",
    "\n",
    "\n",
    "class LinkedList:\n",
    "    def __init__(self, nodes=None):\n",
    "        \"\"\"Allows list to be filled with data\n",
    "        Args:\n",
    "            nodes (list): list of Node() objects\n",
    "        \"\"\"\n",
    "        self.head = None\n",
    "        if nodes is not None:\n",
    "            node = Node(data=nodes.pop(0))  # Take out the first element...\n",
    "            self.head = node                # ...and make it the head.\n",
    "            for elem in nodes:\n",
    "                node.next = Node(data=elem) # Link a new node with a value to the next node...\n",
    "                node = node.next            # ....and make the next node the current node.\n",
    "\n",
    "    \n",
    "    def __repr__(self):\n",
    "        \"\"\"Executes when called\n",
    "        Return:\n",
    "            string representation of the nodes in the list.\n",
    "        \"\"\"\n",
    "        node = self.head\n",
    "        nodes = []\n",
    "        while node is not None:\n",
    "            nodes.append(node.data)\n",
    "            node = node.next\n",
    "        nodes.append(\"None\")\n",
    "        return \" -> \".join(nodes)\n",
    "    \n",
    "    def __iter__(self):\n",
    "        \"\"\" If there is a node, return it and make the link to the next node, the current node \"\"\"\n",
    "        node = self.head\n",
    "        while node is not None:     \n",
    "            yield node\n",
    "            node = node.next\n",
    "    \n",
    "\n",
    "llist = LinkedList(list(\"abcd\"))\n",
    "llist"
   ]
  },
  {
   "cell_type": "markdown",
   "metadata": {},
   "source": [
    "### How to traverse a linked list"
   ]
  },
  {
   "cell_type": "code",
   "execution_count": 15,
   "metadata": {},
   "outputs": [
    {
     "data": {
      "text/plain": [
       "a -> b -> c -> d -> None"
      ]
     },
     "execution_count": 15,
     "metadata": {},
     "output_type": "execute_result"
    }
   ],
   "source": [
    "llist = LinkedList(list(\"abcd\"))\n",
    "llist"
   ]
  },
  {
   "cell_type": "code",
   "execution_count": 16,
   "metadata": {},
   "outputs": [
    {
     "name": "stdout",
     "output_type": "stream",
     "text": [
      "a\n",
      "b\n",
      "c\n",
      "d\n"
     ]
    }
   ],
   "source": [
    "for node in llist:\n",
    "    print(node)"
   ]
  },
  {
   "cell_type": "markdown",
   "metadata": {},
   "source": [
    "### Inserting a new node\n",
    "\n",
    "#### Insert node at the beginning"
   ]
  },
  {
   "cell_type": "code",
   "execution_count": 17,
   "metadata": {},
   "outputs": [
    {
     "data": {
      "text/plain": [
       "None"
      ]
     },
     "metadata": {},
     "output_type": "display_data"
    },
    {
     "data": {
      "text/plain": [
       "C -> None"
      ]
     },
     "metadata": {},
     "output_type": "display_data"
    },
    {
     "data": {
      "text/plain": [
       "B -> C -> None"
      ]
     },
     "metadata": {},
     "output_type": "display_data"
    },
    {
     "data": {
      "text/plain": [
       "A -> B -> C -> None"
      ]
     },
     "metadata": {},
     "output_type": "display_data"
    }
   ],
   "source": [
    "class Node:\n",
    "    def __init__(self, data):\n",
    "        self.data = data\n",
    "        self.next = None\n",
    "    \n",
    "    def __repr__(self):\n",
    "        return self.data\n",
    "\n",
    "\n",
    "class LinkedList:\n",
    "    def __init__(self, nodes=None):\n",
    "        \"\"\"Allows list to be filled with data\n",
    "        Args:\n",
    "            nodes (list): list of Node() objects\n",
    "        \"\"\"\n",
    "        self.head = None\n",
    "        if nodes is not None:\n",
    "            node = Node(data=nodes.pop(0))  # Take out the first element...\n",
    "            self.head = node                # ...and make it the head.\n",
    "            for elem in nodes:\n",
    "                node.next = Node(data=elem) # Link a new node with a value to the next node...\n",
    "                node = node.next            # ....and make the next node the current node.\n",
    "\n",
    "    \n",
    "    def __repr__(self):\n",
    "        \"\"\"Executes when called\n",
    "        Return:\n",
    "            string representation of the nodes in the list.\n",
    "        \"\"\"\n",
    "        node = self.head\n",
    "        nodes = []\n",
    "        while node is not None:\n",
    "            nodes.append(node.data)\n",
    "            node = node.next\n",
    "        nodes.append(\"None\")\n",
    "        return \" -> \".join(nodes)\n",
    "    \n",
    "    \n",
    "    def __iter__(self):\n",
    "        \"\"\" If there is a node, return it and make the link to the next node, the current node \"\"\"\n",
    "        node = self.head\n",
    "        while node is not None:     \n",
    "            yield node\n",
    "            node = node.next\n",
    "    \n",
    "\n",
    "    def add_first(self, node):\n",
    "        node.next = self.head   # make place for new head\n",
    "        self.head = node        # add new head\n",
    "\n",
    "llist = LinkedList()\n",
    "display(llist)\n",
    "llist.add_first(Node(\"C\"))\n",
    "display(llist)\n",
    "llist.add_first(Node(\"B\"))\n",
    "display(llist)\n",
    "llist.add_first(Node(\"A\"))\n",
    "display(llist)"
   ]
  },
  {
   "cell_type": "markdown",
   "metadata": {},
   "source": [
    "#### Insert node at the end"
   ]
  },
  {
   "cell_type": "code",
   "execution_count": 18,
   "metadata": {},
   "outputs": [
    {
     "data": {
      "text/plain": [
       "A -> B -> C -> D -> None"
      ]
     },
     "metadata": {},
     "output_type": "display_data"
    },
    {
     "data": {
      "text/plain": [
       "A -> B -> C -> D -> E -> None"
      ]
     },
     "metadata": {},
     "output_type": "display_data"
    },
    {
     "data": {
      "text/plain": [
       "A -> B -> C -> D -> E -> F -> None"
      ]
     },
     "metadata": {},
     "output_type": "display_data"
    },
    {
     "data": {
      "text/plain": [
       "A -> B -> C -> D -> E -> F -> G -> None"
      ]
     },
     "metadata": {},
     "output_type": "display_data"
    }
   ],
   "source": [
    "class Node:\n",
    "    def __init__(self, data):\n",
    "        self.data = data\n",
    "        self.next = None\n",
    "    \n",
    "    def __repr__(self):\n",
    "        return self.data\n",
    "\n",
    "\n",
    "class LinkedList:\n",
    "    def __init__(self, nodes=None):\n",
    "        \"\"\"Allows list to be filled with data\n",
    "        Args:\n",
    "            nodes (list): list of Node() objects\n",
    "        \"\"\"\n",
    "        self.head = None\n",
    "        if nodes is not None:\n",
    "            node = Node(data=nodes.pop(0))  # Take out the first element...\n",
    "            self.head = node                # ...and make it the head.\n",
    "            for elem in nodes:\n",
    "                node.next = Node(data=elem) # Link a new node with a value to the next node...\n",
    "                node = node.next            # ....and make the next node the current node.\n",
    "\n",
    "    \n",
    "    def __repr__(self):\n",
    "        \"\"\"Executes when called\n",
    "        Return:\n",
    "            string representation of the nodes in the list.\n",
    "        \"\"\"\n",
    "        node = self.head\n",
    "        nodes = []\n",
    "        while node is not None:\n",
    "            nodes.append(node.data)\n",
    "            node = node.next\n",
    "        nodes.append(\"None\")\n",
    "        return \" -> \".join(nodes)\n",
    "    \n",
    "\n",
    "    def __iter__(self):\n",
    "        \"\"\" If there is a node, return it and make the link to the next node, the current node \"\"\"\n",
    "        node = self.head\n",
    "        while node is not None:     \n",
    "            yield node\n",
    "            node = node.next\n",
    "    \n",
    "\n",
    "    def add_first(self, node):\n",
    "        node.next = self.head       # make place for new head\n",
    "        self.head = node            # add new head\n",
    "\n",
    "\n",
    "    def add_last(self, node):\n",
    "        if self.head is None:       # checks if list has any elements (it should always have a head)\n",
    "            self.head = node        # if it is empty, the new node becomes the head\n",
    "            return                  # exit the method (and skip the for loop on the next line)\n",
    "        \n",
    "        for current_node in self:   # This calls __iter__, and returns the node, and goes to the next\n",
    "            pass\n",
    "        current_node.next = node    # in the end the the current_node will be the last node in the list\n",
    "                                    # when looping a normal list, this var would not exist anymore, but with yoeld it does?\n",
    "\n",
    "llist = LinkedList(list(\"ABCD\"))\n",
    "display(llist)\n",
    "llist.add_last(Node(\"E\"))\n",
    "display(llist)\n",
    "llist.add_last(Node(\"F\"))\n",
    "display(llist)\n",
    "llist.add_last(Node(\"G\"))\n",
    "display(llist)"
   ]
  },
  {
   "cell_type": "markdown",
   "metadata": {},
   "source": [
    "#### Inserting between nodes\n",
    "\n",
    "There are two options here: inserting before or after an existing node."
   ]
  },
  {
   "cell_type": "code",
   "execution_count": 19,
   "metadata": {},
   "outputs": [
    {
     "ename": "Exception",
     "evalue": "List is empty",
     "output_type": "error",
     "traceback": [
      "\u001b[31m---------------------------------------------------------------------------\u001b[39m",
      "\u001b[31mException\u001b[39m                                 Traceback (most recent call last)",
      "\u001b[36mCell\u001b[39m\u001b[36m \u001b[39m\u001b[32mIn[19]\u001b[39m\u001b[32m, line 77\u001b[39m\n\u001b[32m     73\u001b[39m         \u001b[38;5;28;01mraise\u001b[39;00m \u001b[38;5;167;01mException\u001b[39;00m(\u001b[33mf\u001b[39m\u001b[33m\"\u001b[39m\u001b[33mNode with data \u001b[39m\u001b[33m'\u001b[39m\u001b[38;5;132;01m{\u001b[39;00mtarget_node_data\u001b[38;5;132;01m}\u001b[39;00m\u001b[33m'\u001b[39m\u001b[33m not found\u001b[39m\u001b[33m\"\u001b[39m)\n\u001b[32m     76\u001b[39m llist = LinkedList()\n\u001b[32m---> \u001b[39m\u001b[32m77\u001b[39m \u001b[43mllist\u001b[49m\u001b[43m.\u001b[49m\u001b[43madd_after\u001b[49m\u001b[43m(\u001b[49m\u001b[33;43m\"\u001b[39;49m\u001b[33;43ma\u001b[39;49m\u001b[33;43m\"\u001b[39;49m\u001b[43m,\u001b[49m\u001b[43m \u001b[49m\u001b[43mNode\u001b[49m\u001b[43m(\u001b[49m\u001b[33;43m\"\u001b[39;49m\u001b[33;43mb\u001b[39;49m\u001b[33;43m\"\u001b[39;49m\u001b[43m)\u001b[49m\u001b[43m)\u001b[49m \u001b[38;5;66;03m# check if it raises an exception\u001b[39;00m\n",
      "\u001b[36mCell\u001b[39m\u001b[36m \u001b[39m\u001b[32mIn[19]\u001b[39m\u001b[32m, line 65\u001b[39m, in \u001b[36mLinkedList.add_after\u001b[39m\u001b[34m(self, target_node_data, new_node)\u001b[39m\n\u001b[32m     63\u001b[39m \u001b[38;5;28;01mdef\u001b[39;00m\u001b[38;5;250m \u001b[39m\u001b[34madd_after\u001b[39m(\u001b[38;5;28mself\u001b[39m, target_node_data, new_node):\n\u001b[32m     64\u001b[39m     \u001b[38;5;28;01mif\u001b[39;00m \u001b[38;5;28mself\u001b[39m.head \u001b[38;5;129;01mis\u001b[39;00m \u001b[38;5;28;01mNone\u001b[39;00m:\n\u001b[32m---> \u001b[39m\u001b[32m65\u001b[39m         \u001b[38;5;28;01mraise\u001b[39;00m \u001b[38;5;167;01mException\u001b[39;00m(\u001b[33m\"\u001b[39m\u001b[33mList is empty\u001b[39m\u001b[33m\"\u001b[39m)\n\u001b[32m     67\u001b[39m     \u001b[38;5;28;01mfor\u001b[39;00m node \u001b[38;5;129;01min\u001b[39;00m \u001b[38;5;28mself\u001b[39m:\n\u001b[32m     68\u001b[39m         \u001b[38;5;28;01mif\u001b[39;00m node.data == target_node_data:\n",
      "\u001b[31mException\u001b[39m: List is empty"
     ]
    }
   ],
   "source": [
    "class Node:\n",
    "    def __init__(self, data):\n",
    "        self.data = data\n",
    "        self.next = None\n",
    "    \n",
    "    def __repr__(self):\n",
    "        return self.data\n",
    "\n",
    "\n",
    "class LinkedList:\n",
    "    def __init__(self, nodes=None):\n",
    "        \"\"\"Allows list to be filled with data\n",
    "        Args:\n",
    "            nodes (list): list of Node() objects\n",
    "        \"\"\"\n",
    "        self.head = None\n",
    "        if nodes is not None:\n",
    "            node = Node(data=nodes.pop(0))  # Take out the first element...\n",
    "            self.head = node                # ...and make it the head.\n",
    "            for elem in nodes:\n",
    "                node.next = Node(data=elem) # Link a new node with a value to the next node...\n",
    "                node = node.next            # ....and make the next node the current node.\n",
    "\n",
    "    \n",
    "    def __repr__(self):\n",
    "        \"\"\"Executes when called\n",
    "        Return:\n",
    "            string representation of the nodes in the list.\n",
    "        \"\"\"\n",
    "        node = self.head\n",
    "        nodes = []\n",
    "        while node is not None:\n",
    "            nodes.append(node.data)\n",
    "            node = node.next\n",
    "        nodes.append(\"None\")\n",
    "        return \" -> \".join(nodes)\n",
    "    \n",
    "\n",
    "    def __iter__(self):\n",
    "        \"\"\" If there is a node, return it and make the link to the next node, the current node \"\"\"\n",
    "        node = self.head\n",
    "        while node is not None:     \n",
    "            yield node\n",
    "            node = node.next\n",
    "    \n",
    "\n",
    "    def add_first(self, node):\n",
    "        node.next = self.head       # make place for new head\n",
    "        self.head = node            # add new head\n",
    "\n",
    "\n",
    "    def add_last(self, node):\n",
    "        if self.head is None:       # checks if list has any elements (it should always have a head)\n",
    "            self.head = node        # if it is empty, the new node becomes the head\n",
    "            return                  # exit the method (and skip the for loop on the next line)\n",
    "        \n",
    "        for current_node in self:   # This calls __iter__, and returns the node, and goes to the next\n",
    "            pass\n",
    "        current_node.next = node    # in the end the the current_node will be the last node in the list\n",
    "                                    # when looping a normal list, this var would not exist anymore, but with yoeld it does?\n",
    "    \n",
    "    \n",
    "    def add_after(self, target_node_data, new_node):\n",
    "        if self.head is None:\n",
    "            raise Exception(\"List is empty\")\n",
    "\n",
    "        for node in self:\n",
    "            if node.data == target_node_data:\n",
    "                new_node.next = node.next\n",
    "                node.next = new_node\n",
    "                return\n",
    "        \n",
    "        raise Exception(f\"Node with data '{target_node_data}' not found\")\n",
    "    \n",
    "\n",
    "llist = LinkedList()\n",
    "llist.add_after(\"a\", Node(\"b\")) # check if it raises an exception\n",
    "    "
   ]
  },
  {
   "cell_type": "code",
   "execution_count": 20,
   "metadata": {},
   "outputs": [
    {
     "data": {
      "text/plain": [
       "a -> b -> c -> d -> None"
      ]
     },
     "execution_count": 20,
     "metadata": {},
     "output_type": "execute_result"
    }
   ],
   "source": [
    "llist = LinkedList(list(\"abcd\"))\n",
    "llist"
   ]
  },
  {
   "cell_type": "code",
   "execution_count": 21,
   "metadata": {},
   "outputs": [
    {
     "data": {
      "text/plain": [
       "a -> b -> c -> cc -> d -> None"
      ]
     },
     "execution_count": 21,
     "metadata": {},
     "output_type": "execute_result"
    }
   ],
   "source": [
    "llist.add_after(\"c\", Node(\"cc\"))\n",
    "llist"
   ]
  },
  {
   "cell_type": "code",
   "execution_count": 23,
   "metadata": {},
   "outputs": [
    {
     "ename": "Exception",
     "evalue": "Node with data 'f' not found",
     "output_type": "error",
     "traceback": [
      "\u001b[31m---------------------------------------------------------------------------\u001b[39m",
      "\u001b[31mException\u001b[39m                                 Traceback (most recent call last)",
      "\u001b[36mCell\u001b[39m\u001b[36m \u001b[39m\u001b[32mIn[23]\u001b[39m\u001b[32m, line 1\u001b[39m\n\u001b[32m----> \u001b[39m\u001b[32m1\u001b[39m \u001b[43mllist\u001b[49m\u001b[43m.\u001b[49m\u001b[43madd_after\u001b[49m\u001b[43m(\u001b[49m\u001b[33;43m\"\u001b[39;49m\u001b[33;43mf\u001b[39;49m\u001b[33;43m\"\u001b[39;49m\u001b[43m,\u001b[49m\u001b[43m \u001b[49m\u001b[33;43m\"\u001b[39;49m\u001b[33;43mg\u001b[39;49m\u001b[33;43m\"\u001b[39;49m\u001b[43m)\u001b[49m\n\u001b[32m      2\u001b[39m llist\n",
      "\u001b[36mCell\u001b[39m\u001b[36m \u001b[39m\u001b[32mIn[19]\u001b[39m\u001b[32m, line 73\u001b[39m, in \u001b[36mLinkedList.add_after\u001b[39m\u001b[34m(self, target_node_data, new_node)\u001b[39m\n\u001b[32m     70\u001b[39m         node.next = new_node\n\u001b[32m     71\u001b[39m         \u001b[38;5;28;01mreturn\u001b[39;00m\n\u001b[32m---> \u001b[39m\u001b[32m73\u001b[39m \u001b[38;5;28;01mraise\u001b[39;00m \u001b[38;5;167;01mException\u001b[39;00m(\u001b[33mf\u001b[39m\u001b[33m\"\u001b[39m\u001b[33mNode with data \u001b[39m\u001b[33m'\u001b[39m\u001b[38;5;132;01m{\u001b[39;00mtarget_node_data\u001b[38;5;132;01m}\u001b[39;00m\u001b[33m'\u001b[39m\u001b[33m not found\u001b[39m\u001b[33m\"\u001b[39m)\n",
      "\u001b[31mException\u001b[39m: Node with data 'f' not found"
     ]
    }
   ],
   "source": [
    "llist.add_after(\"f\", \"g\")\n",
    "llist"
   ]
  },
  {
   "cell_type": "markdown",
   "metadata": {},
   "source": [
    "Now we will add an add_before method"
   ]
  },
  {
   "cell_type": "code",
   "execution_count": 24,
   "metadata": {},
   "outputs": [
    {
     "ename": "Exception",
     "evalue": "List is empty",
     "output_type": "error",
     "traceback": [
      "\u001b[31m---------------------------------------------------------------------------\u001b[39m",
      "\u001b[31mException\u001b[39m                                 Traceback (most recent call last)",
      "\u001b[36mCell\u001b[39m\u001b[36m \u001b[39m\u001b[32mIn[24]\u001b[39m\u001b[32m, line 96\u001b[39m\n\u001b[32m     91\u001b[39m         \u001b[38;5;28;01mraise\u001b[39;00m \u001b[38;5;167;01mException\u001b[39;00m(\u001b[33mf\u001b[39m\u001b[33m\"\u001b[39m\u001b[33mNode with data \u001b[39m\u001b[33m'\u001b[39m\u001b[38;5;132;01m{\u001b[39;00mtarget_node_data\u001b[38;5;132;01m}\u001b[39;00m\u001b[33m'\u001b[39m\u001b[33m not found\u001b[39m\u001b[33m\"\u001b[39m)\n\u001b[32m     95\u001b[39m llist = LinkedList()\n\u001b[32m---> \u001b[39m\u001b[32m96\u001b[39m \u001b[43mllist\u001b[49m\u001b[43m.\u001b[49m\u001b[43madd_before\u001b[49m\u001b[43m(\u001b[49m\u001b[33;43m\"\u001b[39;49m\u001b[33;43ma\u001b[39;49m\u001b[33;43m\"\u001b[39;49m\u001b[43m,\u001b[49m\u001b[43m \u001b[49m\u001b[43mNode\u001b[49m\u001b[43m(\u001b[49m\u001b[33;43m\"\u001b[39;49m\u001b[33;43ma\u001b[39;49m\u001b[33;43m\"\u001b[39;49m\u001b[43m)\u001b[49m\u001b[43m)\u001b[49m\n",
      "\u001b[36mCell\u001b[39m\u001b[36m \u001b[39m\u001b[32mIn[24]\u001b[39m\u001b[32m, line 78\u001b[39m, in \u001b[36mLinkedList.add_before\u001b[39m\u001b[34m(self, target_node_data, new_node)\u001b[39m\n\u001b[32m     76\u001b[39m \u001b[38;5;28;01mdef\u001b[39;00m\u001b[38;5;250m \u001b[39m\u001b[34madd_before\u001b[39m(\u001b[38;5;28mself\u001b[39m, target_node_data, new_node):\n\u001b[32m     77\u001b[39m     \u001b[38;5;28;01mif\u001b[39;00m \u001b[38;5;28mself\u001b[39m.head \u001b[38;5;129;01mis\u001b[39;00m \u001b[38;5;28;01mNone\u001b[39;00m:\n\u001b[32m---> \u001b[39m\u001b[32m78\u001b[39m         \u001b[38;5;28;01mraise\u001b[39;00m \u001b[38;5;167;01mException\u001b[39;00m(\u001b[33m\"\u001b[39m\u001b[33mList is empty\u001b[39m\u001b[33m\"\u001b[39m)\n\u001b[32m     80\u001b[39m     \u001b[38;5;28;01mif\u001b[39;00m \u001b[38;5;28mself\u001b[39m.head.data == target_node_data:  \u001b[38;5;66;03m# If if you want to add something before head\u001b[39;00m\n\u001b[32m     81\u001b[39m         \u001b[38;5;28;01mreturn\u001b[39;00m \u001b[38;5;28mself\u001b[39m.add_first(new_node)     \u001b[38;5;66;03m# then you can just use add_first().\u001b[39;00m\n",
      "\u001b[31mException\u001b[39m: List is empty"
     ]
    }
   ],
   "source": [
    "class Node:\n",
    "    def __init__(self, data):\n",
    "        self.data = data\n",
    "        self.next = None\n",
    "    \n",
    "    def __repr__(self):\n",
    "        return self.data\n",
    "\n",
    "\n",
    "class LinkedList:\n",
    "    def __init__(self, nodes=None):\n",
    "        \"\"\"Allows list to be filled with data\n",
    "        Args:\n",
    "            nodes (list): list of Node() objects\n",
    "        \"\"\"\n",
    "        self.head = None\n",
    "        if nodes is not None:\n",
    "            node = Node(data=nodes.pop(0))  # Take out the first element...\n",
    "            self.head = node                # ...and make it the head.\n",
    "            for elem in nodes:\n",
    "                node.next = Node(data=elem) # Link a new node with a value to the next node...\n",
    "                node = node.next            # ....and make the next node the current node.\n",
    "\n",
    "    \n",
    "    def __repr__(self):\n",
    "        \"\"\"Executes when called\n",
    "        Return:\n",
    "            string representation of the nodes in the list.\n",
    "        \"\"\"\n",
    "        node = self.head\n",
    "        nodes = []\n",
    "        while node is not None:\n",
    "            nodes.append(node.data)\n",
    "            node = node.next\n",
    "        nodes.append(\"None\")\n",
    "        return \" -> \".join(nodes)\n",
    "    \n",
    "\n",
    "    def __iter__(self):\n",
    "        \"\"\" If there is a node, return it and make the link to the next node, the current node \"\"\"\n",
    "        node = self.head\n",
    "        while node is not None:     \n",
    "            yield node\n",
    "            node = node.next\n",
    "    \n",
    "\n",
    "    def add_first(self, node):\n",
    "        node.next = self.head       # make place for new head\n",
    "        self.head = node            # add new head\n",
    "\n",
    "\n",
    "    def add_last(self, node):\n",
    "        if self.head is None:       # checks if list has any elements (it should always have a head)\n",
    "            self.head = node        # if it is empty, the new node becomes the head\n",
    "            return                  # exit the method (and skip the for loop on the next line)\n",
    "        \n",
    "        for current_node in self:   # This calls __iter__, and returns the node, and goes to the next\n",
    "            pass\n",
    "        current_node.next = node    # in the end the the current_node will be the last node in the list\n",
    "                                    # when looping a normal list, this var would not exist anymore, but with yoeld it does?\n",
    "    \n",
    "    \n",
    "    def add_after(self, target_node_data, new_node):\n",
    "        if self.head is None:\n",
    "            raise Exception(\"List is empty\")\n",
    "\n",
    "        for node in self:\n",
    "            if node.data == target_node_data:\n",
    "                new_node.next = node.next\n",
    "                node.next = new_node\n",
    "                return\n",
    "        \n",
    "        raise Exception(f\"Node with data '{target_node_data}' not found\")\n",
    "    \n",
    "\n",
    "    def add_before(self, target_node_data, new_node):\n",
    "        if self.head is None:\n",
    "            raise Exception(\"List is empty\")\n",
    "\n",
    "        if self.head.data == target_node_data:  # If if you want to add something before head\n",
    "            return self.add_first(new_node)     # then you can just use add_first().\n",
    "        \n",
    "        prev_node = self.head                   # needed for comparison\n",
    "        for node in self:                       # loop through nodes using __iter__ method\n",
    "            if node.data == target_node_data:   # if the node has the right value\n",
    "                prev_node.next = new_node       # make previous .next value link to the new node\n",
    "                new_node.next = node            # add data of current note in the new node\n",
    "                return\n",
    "            prev_node = node                    # make the previous node the current node\n",
    "        \n",
    "        raise Exception(f\"Node with data '{target_node_data}' not found\")\n",
    "\n",
    "\n",
    "\n",
    "llist = LinkedList()\n",
    "llist.add_before(\"a\", Node(\"a\"))"
   ]
  },
  {
   "cell_type": "code",
   "execution_count": 25,
   "metadata": {},
   "outputs": [
    {
     "data": {
      "text/plain": [
       "b -> c -> None"
      ]
     },
     "metadata": {},
     "output_type": "display_data"
    },
    {
     "data": {
      "text/plain": [
       "a -> b -> c -> None"
      ]
     },
     "metadata": {},
     "output_type": "display_data"
    },
    {
     "data": {
      "text/plain": [
       "a -> aa -> b -> bb -> c -> None"
      ]
     },
     "metadata": {},
     "output_type": "display_data"
    }
   ],
   "source": [
    "\n",
    "llist = LinkedList([\"b\", \"c\"])\n",
    "display(llist)\n",
    "\n",
    "llist.add_before(\"b\", Node(\"a\"))\n",
    "display(llist)\n",
    "\n",
    "llist.add_before(\"b\", Node(\"aa\"))\n",
    "llist.add_before(\"c\", Node(\"bb\"))\n",
    "display(llist)\n"
   ]
  },
  {
   "cell_type": "markdown",
   "metadata": {},
   "source": [
    "check if adding a node before a non-existing node raises an error"
   ]
  },
  {
   "cell_type": "code",
   "execution_count": 26,
   "metadata": {},
   "outputs": [
    {
     "ename": "Exception",
     "evalue": "Node with data 'n' not found",
     "output_type": "error",
     "traceback": [
      "\u001b[31m---------------------------------------------------------------------------\u001b[39m",
      "\u001b[31mException\u001b[39m                                 Traceback (most recent call last)",
      "\u001b[36mCell\u001b[39m\u001b[36m \u001b[39m\u001b[32mIn[26]\u001b[39m\u001b[32m, line 1\u001b[39m\n\u001b[32m----> \u001b[39m\u001b[32m1\u001b[39m \u001b[43mllist\u001b[49m\u001b[43m.\u001b[49m\u001b[43madd_before\u001b[49m\u001b[43m(\u001b[49m\u001b[33;43m\"\u001b[39;49m\u001b[33;43mn\u001b[39;49m\u001b[33;43m\"\u001b[39;49m\u001b[43m,\u001b[49m\u001b[43m \u001b[49m\u001b[43mNode\u001b[49m\u001b[43m(\u001b[49m\u001b[33;43m\"\u001b[39;49m\u001b[33;43mm\u001b[39;49m\u001b[33;43m\"\u001b[39;49m\u001b[43m)\u001b[49m\u001b[43m)\u001b[49m\n",
      "\u001b[36mCell\u001b[39m\u001b[36m \u001b[39m\u001b[32mIn[24]\u001b[39m\u001b[32m, line 91\u001b[39m, in \u001b[36mLinkedList.add_before\u001b[39m\u001b[34m(self, target_node_data, new_node)\u001b[39m\n\u001b[32m     88\u001b[39m         \u001b[38;5;28;01mreturn\u001b[39;00m\n\u001b[32m     89\u001b[39m     prev_node = node                    \u001b[38;5;66;03m# make the previous node the current node\u001b[39;00m\n\u001b[32m---> \u001b[39m\u001b[32m91\u001b[39m \u001b[38;5;28;01mraise\u001b[39;00m \u001b[38;5;167;01mException\u001b[39;00m(\u001b[33mf\u001b[39m\u001b[33m\"\u001b[39m\u001b[33mNode with data \u001b[39m\u001b[33m'\u001b[39m\u001b[38;5;132;01m{\u001b[39;00mtarget_node_data\u001b[38;5;132;01m}\u001b[39;00m\u001b[33m'\u001b[39m\u001b[33m not found\u001b[39m\u001b[33m\"\u001b[39m)\n",
      "\u001b[31mException\u001b[39m: Node with data 'n' not found"
     ]
    }
   ],
   "source": [
    "llist.add_before(\"n\", Node(\"m\"))"
   ]
  },
  {
   "cell_type": "markdown",
   "metadata": {},
   "source": [
    "### Remove a node\n"
   ]
  },
  {
   "cell_type": "code",
   "execution_count": 27,
   "metadata": {},
   "outputs": [],
   "source": [
    "class Node:\n",
    "    def __init__(self, data):\n",
    "        self.data = data\n",
    "        self.next = None\n",
    "    \n",
    "    def __repr__(self):\n",
    "        return self.data\n",
    "\n",
    "\n",
    "class LinkedList:\n",
    "    def __init__(self, nodes=None):\n",
    "        \"\"\"Allows list to be filled with data\n",
    "        Args:\n",
    "            nodes (list): list of Node() objects\n",
    "        \"\"\"\n",
    "        self.head = None\n",
    "        if nodes is not None:\n",
    "            node = Node(data=nodes.pop(0))  # Take out the first element...\n",
    "            self.head = node                # ...and make it the head.\n",
    "            for elem in nodes:\n",
    "                node.next = Node(data=elem) # Link a new node with a value to the next node...\n",
    "                node = node.next            # ....and make the next node the current node.\n",
    "\n",
    "    \n",
    "    def __repr__(self):\n",
    "        \"\"\"Executes when called\n",
    "        Return:\n",
    "            string representation of the nodes in the list.\n",
    "        \"\"\"\n",
    "        node = self.head\n",
    "        nodes = []\n",
    "        while node is not None:\n",
    "            nodes.append(node.data)\n",
    "            node = node.next\n",
    "        nodes.append(\"None\")\n",
    "        return \" -> \".join(nodes)\n",
    "    \n",
    "\n",
    "    def __iter__(self):\n",
    "        \"\"\" If there is a node, return it and make the link to the next node, the current node \"\"\"\n",
    "        node = self.head\n",
    "        while node is not None:     \n",
    "            yield node\n",
    "            node = node.next\n",
    "    \n",
    "\n",
    "    def add_first(self, node):\n",
    "        node.next = self.head       # make place for new head\n",
    "        self.head = node            # add new head\n",
    "\n",
    "\n",
    "    def add_last(self, node):\n",
    "        if self.head is None:       # checks if list has any elements (it should always have a head)\n",
    "            self.head = node        # if it is empty, the new node becomes the head\n",
    "            return                  # exit the method (and skip the for loop on the next line)\n",
    "        \n",
    "        for current_node in self:   # This calls __iter__, and returns the node, and goes to the next\n",
    "            pass\n",
    "        current_node.next = node    # in the end the the current_node will be the last node in the list\n",
    "                                    # when looping a normal list, this var would not exist anymore, but with yoeld it does?\n",
    "    \n",
    "    \n",
    "    def add_after(self, target_node_data, new_node):\n",
    "        if self.head is None:\n",
    "            raise Exception(\"List is empty\")\n",
    "\n",
    "        for node in self:\n",
    "            if node.data == target_node_data:\n",
    "                new_node.next = node.next\n",
    "                node.next = new_node\n",
    "                return\n",
    "        \n",
    "        raise Exception(f\"Node with data '{target_node_data}' not found\")\n",
    "    \n",
    "\n",
    "    def add_before(self, target_node_data, new_node):\n",
    "        if self.head is None:\n",
    "            raise Exception(\"List is empty\")\n",
    "\n",
    "        if self.head.data == target_node_data:  # If if you want to add something before head\n",
    "            return self.add_first(new_node)     # then you can just use add_first().\n",
    "        \n",
    "        prev_node = self.head                   # needed for comparison\n",
    "        for node in self:                       # loop through nodes using __iter__ method\n",
    "            if node.data == target_node_data:   # if the node has the right value\n",
    "                prev_node.next = new_node       # make previous .next value link to the new node\n",
    "                new_node.next = node            # add data of current note in the new node\n",
    "                return\n",
    "            prev_node = node                    # make the previous node the current node\n",
    "        \n",
    "        raise Exception(f\"Node with data '{target_node_data}' not found\")\n",
    "\n",
    "\n",
    "    def remove_node(self, target_node_data):\n",
    "        if self.head is None:\n",
    "            raise Exception(\"List is empty\")\n",
    "        \n",
    "        if self.head.data == target_node_data:  # Check if target node is the head\n",
    "            self.head = self.head.next          # If so, the next node becomes the new head\n",
    "            return                              # Exit\n",
    "        \n",
    "        previous_node = self.head               # Save head node\n",
    "        for node in self:                       # Traverse list to find target node\n",
    "            if node.data == target_node_data:   # If found, update previous node...\n",
    "                previous_node.next = node.next  # ...this also removes te found node\n",
    "                return                          # Exit\n",
    "            previous_node = node                # Save previous node for next iteration\n",
    "        \n",
    "        raise Exception(f\"Node with data '{target_node_data}' not found\")"
   ]
  },
  {
   "cell_type": "code",
   "execution_count": 28,
   "metadata": {},
   "outputs": [
    {
     "ename": "Exception",
     "evalue": "List is empty",
     "output_type": "error",
     "traceback": [
      "\u001b[31m---------------------------------------------------------------------------\u001b[39m",
      "\u001b[31mException\u001b[39m                                 Traceback (most recent call last)",
      "\u001b[36mCell\u001b[39m\u001b[36m \u001b[39m\u001b[32mIn[28]\u001b[39m\u001b[32m, line 2\u001b[39m\n\u001b[32m      1\u001b[39m llist = LinkedList()\n\u001b[32m----> \u001b[39m\u001b[32m2\u001b[39m \u001b[43mllist\u001b[49m\u001b[43m.\u001b[49m\u001b[43mremove_node\u001b[49m\u001b[43m(\u001b[49m\u001b[33;43m\"\u001b[39;49m\u001b[33;43ma\u001b[39;49m\u001b[33;43m\"\u001b[39;49m\u001b[43m)\u001b[49m\n",
      "\u001b[36mCell\u001b[39m\u001b[36m \u001b[39m\u001b[32mIn[27]\u001b[39m\u001b[32m, line 96\u001b[39m, in \u001b[36mLinkedList.remove_node\u001b[39m\u001b[34m(self, target_node_data)\u001b[39m\n\u001b[32m     94\u001b[39m \u001b[38;5;28;01mdef\u001b[39;00m\u001b[38;5;250m \u001b[39m\u001b[34mremove_node\u001b[39m(\u001b[38;5;28mself\u001b[39m, target_node_data):\n\u001b[32m     95\u001b[39m     \u001b[38;5;28;01mif\u001b[39;00m \u001b[38;5;28mself\u001b[39m.head \u001b[38;5;129;01mis\u001b[39;00m \u001b[38;5;28;01mNone\u001b[39;00m:\n\u001b[32m---> \u001b[39m\u001b[32m96\u001b[39m         \u001b[38;5;28;01mraise\u001b[39;00m \u001b[38;5;167;01mException\u001b[39;00m(\u001b[33m\"\u001b[39m\u001b[33mList is empty\u001b[39m\u001b[33m\"\u001b[39m)\n\u001b[32m     98\u001b[39m     \u001b[38;5;28;01mif\u001b[39;00m \u001b[38;5;28mself\u001b[39m.head.data == target_node_data:  \u001b[38;5;66;03m# Check if target node is the head\u001b[39;00m\n\u001b[32m     99\u001b[39m         \u001b[38;5;28mself\u001b[39m.head = \u001b[38;5;28mself\u001b[39m.head.next          \u001b[38;5;66;03m# If so, the next node becomes the new head\u001b[39;00m\n",
      "\u001b[31mException\u001b[39m: List is empty"
     ]
    }
   ],
   "source": [
    "llist = LinkedList()\n",
    "llist.remove_node(\"a\")"
   ]
  },
  {
   "cell_type": "code",
   "execution_count": 39,
   "metadata": {},
   "outputs": [
    {
     "data": {
      "text/plain": [
       "a -> b -> c -> d -> e -> None"
      ]
     },
     "metadata": {},
     "output_type": "display_data"
    },
    {
     "data": {
      "text/plain": [
       "b -> c -> d -> e -> None"
      ]
     },
     "metadata": {},
     "output_type": "display_data"
    },
    {
     "data": {
      "text/plain": [
       "b -> c -> d -> None"
      ]
     },
     "metadata": {},
     "output_type": "display_data"
    },
    {
     "data": {
      "text/plain": [
       "b -> d -> None"
      ]
     },
     "metadata": {},
     "output_type": "display_data"
    },
    {
     "ename": "Exception",
     "evalue": "Node with data 'e' not found",
     "output_type": "error",
     "traceback": [
      "\u001b[31m---------------------------------------------------------------------------\u001b[39m",
      "\u001b[31mException\u001b[39m                                 Traceback (most recent call last)",
      "\u001b[36mCell\u001b[39m\u001b[36m \u001b[39m\u001b[32mIn[39]\u001b[39m\u001b[32m, line 9\u001b[39m\n\u001b[32m      7\u001b[39m llist.remove_node(\u001b[33m\"\u001b[39m\u001b[33mc\u001b[39m\u001b[33m\"\u001b[39m)\n\u001b[32m      8\u001b[39m display(llist)\n\u001b[32m----> \u001b[39m\u001b[32m9\u001b[39m \u001b[43mllist\u001b[49m\u001b[43m.\u001b[49m\u001b[43mremove_node\u001b[49m\u001b[43m(\u001b[49m\u001b[33;43m\"\u001b[39;49m\u001b[33;43me\u001b[39;49m\u001b[33;43m\"\u001b[39;49m\u001b[43m)\u001b[49m\n\u001b[32m     10\u001b[39m display(llist)\n",
      "\u001b[36mCell\u001b[39m\u001b[36m \u001b[39m\u001b[32mIn[27]\u001b[39m\u001b[32m, line 109\u001b[39m, in \u001b[36mLinkedList.remove_node\u001b[39m\u001b[34m(self, target_node_data)\u001b[39m\n\u001b[32m    106\u001b[39m         \u001b[38;5;28;01mreturn\u001b[39;00m                          \u001b[38;5;66;03m# Exit\u001b[39;00m\n\u001b[32m    107\u001b[39m     previous_node = node                \u001b[38;5;66;03m# Save previous node for next iteration\u001b[39;00m\n\u001b[32m--> \u001b[39m\u001b[32m109\u001b[39m \u001b[38;5;28;01mraise\u001b[39;00m \u001b[38;5;167;01mException\u001b[39;00m(\u001b[33mf\u001b[39m\u001b[33m\"\u001b[39m\u001b[33mNode with data \u001b[39m\u001b[33m'\u001b[39m\u001b[38;5;132;01m{\u001b[39;00mtarget_node_data\u001b[38;5;132;01m}\u001b[39;00m\u001b[33m'\u001b[39m\u001b[33m not found\u001b[39m\u001b[33m\"\u001b[39m)\n",
      "\u001b[31mException\u001b[39m: Node with data 'e' not found"
     ]
    }
   ],
   "source": [
    "llist = LinkedList(list(\"abcde\"))\n",
    "display(llist)\n",
    "llist.remove_node(\"a\")\n",
    "display(llist)\n",
    "llist.remove_node(\"e\")\n",
    "display(llist)\n",
    "llist.remove_node(\"c\")\n",
    "display(llist)\n",
    "llist.remove_node(\"e\")\n",
    "display(llist)"
   ]
  },
  {
   "cell_type": "markdown",
   "metadata": {},
   "source": [
    "### Advanced linked lists\n",
    "\n",
    "#### Doubly linked list\n",
    "\n",
    "Each node has a next and an previous attribute.\n",
    "In other words: the nodes of the graph can now have 2 edges.\n",
    "\n",
    "Now the linked list can be traversed in two directions."
   ]
  },
  {
   "cell_type": "code",
   "execution_count": null,
   "metadata": {},
   "outputs": [],
   "source": [
    "class Node:\n",
    "    def __init__(self, data):\n",
    "        self.data = data\n",
    "        self.next = None\n",
    "        self.previous = None\n",
    "    \n",
    "    def __repr__(self):\n",
    "        return self.data"
   ]
  },
  {
   "cell_type": "markdown",
   "metadata": {},
   "source": [
    "#### Circular linked list\n",
    "\n",
    "The last node points to the head of the list.\n",
    "Handy for turn based processes."
   ]
  },
  {
   "cell_type": "code",
   "execution_count": 43,
   "metadata": {},
   "outputs": [],
   "source": [
    "class CircularLinkedList:\n",
    "    def __init__(self):\n",
    "        self.head = None\n",
    "\n",
    "    def traverse(self, starting_point=None):\n",
    "        \"\"\"Traverses the circular list from a starting point.\n",
    "\n",
    "        Parameters\n",
    "        ----------\n",
    "        starting_point : Node, optional\n",
    "            Because there is no start or finish, the starting point must be defined, by default None\n",
    "\n",
    "        Yields\n",
    "        ------\n",
    "        node\n",
    "            yields every node in the list, until the starting point in reached.\n",
    "        \"\"\"\n",
    "        if starting_point is None:\n",
    "            starting_point = self.head\n",
    "        node = starting_point\n",
    "        while node is not None and (node.next != starting_point):\n",
    "            yield node\n",
    "            node = node.next\n",
    "        yield node\n",
    "\n",
    "    def print_list(self, starting_point=None):\n",
    "        nodes = []\n",
    "        for node in self.traverse(starting_point):\n",
    "            nodes.append(str(node))\n",
    "        print(\" -> \".join(nodes))"
   ]
  },
  {
   "cell_type": "code",
   "execution_count": 44,
   "metadata": {},
   "outputs": [
    {
     "name": "stdout",
     "output_type": "stream",
     "text": [
      "None\n"
     ]
    }
   ],
   "source": [
    "circular_llist = CircularLinkedList()\n",
    "circular_llist.print_list()"
   ]
  },
  {
   "cell_type": "code",
   "execution_count": 45,
   "metadata": {},
   "outputs": [
    {
     "name": "stdout",
     "output_type": "stream",
     "text": [
      "a -> b -> c -> d\n"
     ]
    }
   ],
   "source": [
    "b = Node(\"b\")\n",
    "a = Node(\"a\")\n",
    "c = Node(\"c\")\n",
    "d = Node(\"d\")\n",
    "a.next = b\n",
    "b.next = c\n",
    "c.next = d\n",
    "d.next = a\n",
    "circular_llist.head = a\n",
    "circular_llist.print_list()"
   ]
  },
  {
   "cell_type": "code",
   "execution_count": 46,
   "metadata": {},
   "outputs": [
    {
     "name": "stdout",
     "output_type": "stream",
     "text": [
      "b -> c -> d -> a\n"
     ]
    }
   ],
   "source": [
    "circular_llist.print_list(b)"
   ]
  },
  {
   "cell_type": "code",
   "execution_count": 47,
   "metadata": {},
   "outputs": [
    {
     "name": "stdout",
     "output_type": "stream",
     "text": [
      "d -> a -> b -> c\n"
     ]
    }
   ],
   "source": [
    "circular_llist.print_list(d)"
   ]
  }
 ],
 "metadata": {
  "kernelspec": {
   "display_name": ".venv",
   "language": "python",
   "name": "python3"
  },
  "language_info": {
   "codemirror_mode": {
    "name": "ipython",
    "version": 3
   },
   "file_extension": ".py",
   "mimetype": "text/x-python",
   "name": "python",
   "nbconvert_exporter": "python",
   "pygments_lexer": "ipython3",
   "version": "3.12.3"
  }
 },
 "nbformat": 4,
 "nbformat_minor": 2
}
