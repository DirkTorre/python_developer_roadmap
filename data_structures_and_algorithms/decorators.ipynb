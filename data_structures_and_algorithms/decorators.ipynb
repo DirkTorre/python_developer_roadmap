{
 "cells": [
  {
   "cell_type": "markdown",
   "metadata": {},
   "source": [
    "## instance methods\n",
    "\n",
    "A instance method is bound to a instance.\n",
    "You can define them by using self."
   ]
  },
  {
   "cell_type": "code",
   "execution_count": null,
   "metadata": {},
   "outputs": [
    {
     "name": "stdout",
     "output_type": "stream",
     "text": [
      "ribs\n",
      "kiwi\n"
     ]
    }
   ],
   "source": [
    "class Food:\n",
    "    def __init__(self, name):\n",
    "        self.name = name\n",
    "\n",
    "    def get_name(self):\n",
    "        return self.name\n",
    "    \n",
    "\n",
    "ribs = Food(\"ribs\")\n",
    "kiwi = Food(\"kiwi\")\n",
    "print(ribs.get_name())\n",
    "print(kiwi.get_name())"
   ]
  },
  {
   "cell_type": "markdown",
   "metadata": {},
   "source": [
    "## static methods\n",
    "These methods behave like functions.\n",
    "Sometimes it's handy to have those in your class."
   ]
  },
  {
   "cell_type": "code",
   "execution_count": null,
   "metadata": {},
   "outputs": [
    {
     "name": "stdout",
     "output_type": "stream",
     "text": [
      "3\n"
     ]
    }
   ],
   "source": [
    "class Food:\n",
    "    def __init__(self, name):\n",
    "        self.name = name\n",
    "\n",
    "    @staticmethod\n",
    "    def add(a, b):\n",
    "        return a + b\n",
    "\n",
    "print(Food.add(1,2))"
   ]
  },
  {
   "cell_type": "markdown",
   "metadata": {},
   "source": [
    "## class methods\n",
    "\n",
    "A class method is bound to the class, and not the object of a class.\n",
    "It has access to class variables instead of object instances.\n",
    "If a class variable is changed, is is changed in every created object.\n",
    "Class methods can be used without creating a object first.\n",
    "\n",
    "\n",
    "**Example for class variables:**"
   ]
  },
  {
   "cell_type": "code",
   "execution_count": null,
   "metadata": {},
   "outputs": [
    {
     "name": "stdout",
     "output_type": "stream",
     "text": [
      "object a:  None a None a\n",
      "object b:  None b None b\n",
      "lets change the class name to 'c'\n",
      "object a:  c a c a\n",
      "object b:  c b c b\n"
     ]
    }
   ],
   "source": [
    "class Test:\n",
    "    dummie = None\n",
    "    class_name = None\n",
    "    \n",
    "    def __init__(self, name):\n",
    "        self.object_name = name\n",
    "    \n",
    "    @classmethod\n",
    "    def change_class_name(cls, new_name):\n",
    "        cls.class_name = new_name\n",
    "    \n",
    "    def get_class_name(cls):\n",
    "        return cls.class_name\n",
    "    \n",
    "    def get_object_name(self):\n",
    "        return self.object_name\n",
    "\n",
    "a = Test(\"a\")\n",
    "b = Test(\"b\")\n",
    "print(\"object a: \", a.class_name, a.object_name, a.get_class_name(), a.get_object_name())\n",
    "print(\"object b: \", b.class_name, b.object_name, b.get_class_name(), b.get_object_name())\n",
    "print(\"lets change the class name to 'c'\")\n",
    "a.change_class_name(\"c\")\n",
    "print(\"object a: \", a.class_name, a.object_name, a.get_class_name(), a.get_object_name())\n",
    "print(\"object b: \", b.class_name, b.object_name, b.get_class_name(), b.get_object_name())"
   ]
  },
  {
   "cell_type": "markdown",
   "metadata": {},
   "source": [
    "**Example for class methods without initialization:**"
   ]
  },
  {
   "cell_type": "code",
   "execution_count": null,
   "metadata": {},
   "outputs": [
    {
     "name": "stdout",
     "output_type": "stream",
     "text": [
      "8\n",
      "20\n"
     ]
    }
   ],
   "source": [
    "class Multiply:    \n",
    "    @classmethod\n",
    "    def multiply_by_2(cls, number2):\n",
    "        return number2 * 2\n",
    "    \n",
    "    @classmethod\n",
    "    def multiply_by_5(cls, number2):\n",
    "        return number2 * 5\n",
    "\n",
    "print(Multiply.multiply_by_2(4))\n",
    "print(Multiply.multiply_by_5(4))"
   ]
  },
  {
   "cell_type": "markdown",
   "metadata": {},
   "source": [
    "**Example where class methods are used for initialization**:"
   ]
  },
  {
   "cell_type": "code",
   "execution_count": null,
   "metadata": {},
   "outputs": [
    {
     "name": "stdout",
     "output_type": "stream",
     "text": [
      "Jessa's age is: 20\n",
      "Joy's age is: 30\n"
     ]
    }
   ],
   "source": [
    "from datetime import date\n",
    "\n",
    "class Student:\n",
    "    def __init__(self, name, age):\n",
    "        self.name = name\n",
    "        self.age = age\n",
    "\n",
    "    @classmethod\n",
    "    def calculate_age(cls, name, birth_year):\n",
    "        # calculate age an set it as a age\n",
    "        # return new object\n",
    "        return cls(name, date.today().year - birth_year)\n",
    "\n",
    "    def show(self):\n",
    "        print(self.name + \"'s age is: \" + str(self.age))\n",
    "\n",
    "jessa = Student('Jessa', 20)\n",
    "jessa.show()\n",
    "\n",
    "# create new object using the factory method\n",
    "joy = Student.calculate_age(\"Joy\", 1995)\n",
    "joy.show()"
   ]
  }
 ],
 "metadata": {
  "language_info": {
   "name": "python"
  }
 },
 "nbformat": 4,
 "nbformat_minor": 2
}
