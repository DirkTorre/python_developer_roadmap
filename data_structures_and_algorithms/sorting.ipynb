{
 "cells": [
  {
   "cell_type": "markdown",
   "id": "1125d6cf",
   "metadata": {},
   "source": [
    "# Sorting algorithms in python\n",
    "\n",
    "## quick sort\n",
    "\n",
    "[video](https://www.youtube.com/watch?v=WprjBK0p6rw) and [code](https://www.geeksforgeeks.org/dsa/python-program-for-quicksort/).\n"
   ]
  },
  {
   "cell_type": "code",
   "execution_count": 64,
   "id": "eb148883",
   "metadata": {},
   "outputs": [
    {
     "name": "stdout",
     "output_type": "stream",
     "text": [
      "starting point [4, 3, 5, 2, 1]\n",
      "\tinit value of i -1\n",
      "\tsub solution [1, 3, 5, 2, 4]\n",
      "\ti increased to 0\n",
      "quicksort 1 [1, 3, 5, 2, 4]\n",
      "\tinit value of i 0\n",
      "\t\ti increased to 1\n",
      "\t\tsub sub solution [1, 3, 5, 2, 4]\n",
      "\t\ti increased to 2\n",
      "\t\tsub sub solution [1, 3, 2, 5, 4]\n",
      "\tsub solution [1, 3, 2, 4, 5]\n",
      "\ti increased to 3\n",
      "\tinit value of i 0\n",
      "\tsub solution [1, 2, 3, 4, 5]\n",
      "\ti increased to 1\n",
      "quicksort 1 [1, 2, 3, 4, 5]\n",
      "quicksort 2 [1, 2, 3, 4, 5]\n",
      "-------\n",
      "quicksort 1 [1, 2, 3, 4, 5]\n",
      "quicksort 2 [1, 2, 3, 4, 5]\n",
      "-------\n",
      "quicksort 2 [1, 2, 3, 4, 5]\n",
      "-------\n",
      "end result: [1, 2, 3, 4, 5]\n"
     ]
    }
   ],
   "source": [
    "def quicksort(array: list, low: int, high: int):\n",
    "    \"\"\"_summary_\n",
    "\n",
    "        Parameters\n",
    "        ----------\n",
    "        array : list\n",
    "            _description_\n",
    "        low : int\n",
    "            index of the smaller element\n",
    "        high : int\n",
    "            index of the higher element\n",
    "        \"\"\"\n",
    "    def partition(array: list, low: int, high: int):\n",
    "        # choose a pivot\n",
    "        pivot = array[high]\n",
    "        \n",
    "        # index of a smaller element\n",
    "        i = low - 1\n",
    "        print(\"\\tinit value of i\",i)\n",
    "\n",
    "        # traverse array low to high, move smaller elements to the right\n",
    "        for j in range(low, high):\n",
    "            if array[j] <= pivot:\n",
    "                i += 1\n",
    "                print(\"\\t\\ti increased to\",i)\n",
    "                array[i], array[j] = array[j], array[i] # pythonic swap\n",
    "                print(\"\\t\\tsub sub solution\", array)\n",
    "        \n",
    "        array[i+1], array[high] = array[high], array[i+1]\n",
    "        print(\"\\tsub solution\", array)\n",
    "        print(\"\\ti increased to\",i+1)\n",
    "        return i + 1\n",
    "\n",
    "    if low < high:\n",
    "        pivot_index = partition(array, low, high)\n",
    "\n",
    "        # recursive calls for smaller and greater or equal elements\n",
    "        quicksort(array, low, pivot_index-1)\n",
    "        print(\"quicksort 1\",array)\n",
    "        quicksort(array, pivot_index+1, high)\n",
    "        print(\"quicksort 2\",array)\n",
    "        print(\"-------\")\n",
    "\n",
    "\n",
    "    \n",
    "test = [4,3,5,2,1]\n",
    "print(\"starting point\", test)\n",
    "quicksort(test, 0, len(test)-1)\n",
    "print(\"end result:\", test)"
   ]
  },
  {
   "cell_type": "markdown",
   "id": "6759b319",
   "metadata": {},
   "source": [
    "## merge sort"
   ]
  },
  {
   "cell_type": "code",
   "execution_count": null,
   "id": "fa7c32da",
   "metadata": {},
   "outputs": [
    {
     "name": "stdout",
     "output_type": "stream",
     "text": [
      "[3, 7, 1, 8, 2]\n",
      "[1, 2, 3, 7, 8]\n"
     ]
    }
   ],
   "source": [
    "# I think the idea is that you first sort the two smallest subarrays.\n",
    "# Then add them and sort them again. \n",
    "# this decreases the steps of sorting two merged arrays\n",
    "\n",
    "def mergesort(array):\n",
    "    # return list if there is nothing left to sort\n",
    "    if len(array)==1:\n",
    "        return array\n",
    "\n",
    "    # split into left and right list\n",
    "    left_part = array[:len(array)//2]\n",
    "    right_part = array[len(array)//2:]\n",
    "\n",
    "    # recursively split\n",
    "    left_part = mergesort(left_part)\n",
    "    right_part = mergesort(right_part)\n",
    "\n",
    "    # merge the two arrays\n",
    "    return merge(left_part, right_part)\n",
    "\n",
    "def merge(left_list, right_list):\n",
    "    new_list = []\n",
    "\n",
    "    while left_list != [] and right_list != []:\n",
    "        if left_list[0] < right_list[0]:\n",
    "            new_list.append(left_list.pop(0))\n",
    "        else:\n",
    "            new_list.append(right_list.pop(0))\n",
    "\n",
    "    # add leftovers\n",
    "    while left_list != []:\n",
    "        new_list.append(left_list.pop(0))\n",
    "    \n",
    "    while right_list != []:\n",
    "        new_list.append(right_list.pop(0))\n",
    "    \n",
    "    return new_list\n",
    "\n",
    "test = [3,7,1,8,2]\n",
    "print(test)\n",
    "print(mergesort(test))"
   ]
  },
  {
   "cell_type": "code",
   "execution_count": 75,
   "id": "323a8e88",
   "metadata": {},
   "outputs": [
    {
     "name": "stdout",
     "output_type": "stream",
     "text": [
      "[1, 2, 3]\n",
      "[4, 5, 6]\n"
     ]
    }
   ],
   "source": [
    "test = [1,2,3,4,5,6]\n",
    "print(test[:len(test)//2])\n",
    "print(test[len(test)//2:])"
   ]
  }
 ],
 "metadata": {
  "kernelspec": {
   "display_name": ".venv",
   "language": "python",
   "name": "python3"
  },
  "language_info": {
   "codemirror_mode": {
    "name": "ipython",
    "version": 3
   },
   "file_extension": ".py",
   "mimetype": "text/x-python",
   "name": "python",
   "nbconvert_exporter": "python",
   "pygments_lexer": "ipython3",
   "version": "3.12.3"
  }
 },
 "nbformat": 4,
 "nbformat_minor": 5
}
