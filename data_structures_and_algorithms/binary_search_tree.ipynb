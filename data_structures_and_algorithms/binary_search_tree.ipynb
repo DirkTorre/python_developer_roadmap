{
 "cells": [
  {
   "cell_type": "markdown",
   "metadata": {},
   "source": [
    "# [Binary Search Trees](https://www.w3schools.com/dsa/dsa_data_binarysearchtrees.php)\n",
    "\n",
    "A binary search tree and a search tree where left descendants of a node are lower, and the right descendants are higher.\n",
    "\n",
    "- **size**: number of nodes in the three.\n",
    "- **descendants**: all children and sub children (etc.) of a node. (The whole lower family of the node).\n",
    "- **node height**: maximum number of edges between a node and a leaf node.\n",
    "- **in-order successor**: a node that comes after a selected node, when doing in-order traversal.\n",
    "\n"
   ]
  },
  {
   "cell_type": "markdown",
   "metadata": {},
   "source": [
    "## Traversal of a Binary Search Tree"
   ]
  },
  {
   "cell_type": "code",
   "execution_count": 46,
   "metadata": {},
   "outputs": [
    {
     "name": "stdout",
     "output_type": "stream",
     "text": [
      "3, 7, 8, 13, 14, 15, 18, 19, "
     ]
    }
   ],
   "source": [
    "class TreeNode:\n",
    "    def __init__(self, data):\n",
    "        self.data = data\n",
    "        self.left = None\n",
    "        self.right = None\n",
    "\n",
    "def inOrderTraversal(node):\n",
    "    if node is None:\n",
    "        return\n",
    "    inOrderTraversal(node.left)\n",
    "    print(node.data, end=\", \")\n",
    "    inOrderTraversal(node.right)\n",
    "\n",
    "root = TreeNode(13)\n",
    "node7 = TreeNode(7)\n",
    "node15 = TreeNode(15)\n",
    "node3 = TreeNode(3)\n",
    "node8 = TreeNode(8)\n",
    "node14 = TreeNode(14)\n",
    "node19 = TreeNode(19)\n",
    "node18 = TreeNode(18)\n",
    "\n",
    "root.left = node7\n",
    "root.right = node15\n",
    "\n",
    "node7.left = node3\n",
    "node7.right = node8\n",
    "\n",
    "node15.left = node14\n",
    "node15.right = node19\n",
    "\n",
    "node19.left = node18\n",
    "\n",
    "# Traverse\n",
    "inOrderTraversal(root)"
   ]
  },
  {
   "cell_type": "markdown",
   "metadata": {},
   "source": [
    "If the in-order traversal is in ascending order, then the binary tree is a binary search tree.\n",
    "\n",
    "## Searching for a value"
   ]
  },
  {
   "cell_type": "code",
   "execution_count": 48,
   "metadata": {},
   "outputs": [
    {
     "name": "stdout",
     "output_type": "stream",
     "text": [
      "Found the node with value: 8\n"
     ]
    }
   ],
   "source": [
    "def search(node, target):\n",
    "    if node is None:\n",
    "        return None\n",
    "    elif node.data == target:\n",
    "        return node\n",
    "    elif target < node.data:\n",
    "        return search(node.left, target)\n",
    "    else:\n",
    "        return search(node.right, target)\n",
    "\n",
    "result = search(root, 8)\n",
    "if result:\n",
    "    print(f\"Found the node with value: {result.data}\")\n",
    "else:\n",
    "    print(\"vaue not found in BST\")\n"
   ]
  },
  {
   "cell_type": "markdown",
   "metadata": {},
   "source": [
    "If a binary search tree becomes unbalanced, (more nodes on one side than the other), then the searching becomes less effective. To combat this you can use a AVl tree, which is self balancing.\n",
    "\n",
    "## inserting a node"
   ]
  },
  {
   "cell_type": "code",
   "execution_count": null,
   "metadata": {},
   "outputs": [
    {
     "name": "stdout",
     "output_type": "stream",
     "text": [
      "3, 7, 8, 13, 14, 15, 18, 19, "
     ]
    },
    {
     "data": {
      "text/plain": [
       "None"
      ]
     },
     "metadata": {},
     "output_type": "display_data"
    },
    {
     "name": "stdout",
     "output_type": "stream",
     "text": [
      "3, 7, 8, 10, 13, 14, 15, 18, 19, "
     ]
    },
    {
     "data": {
      "text/plain": [
       "None"
      ]
     },
     "metadata": {},
     "output_type": "display_data"
    }
   ],
   "source": [
    "class TreeNode:\n",
    "    def __init__(self, data):\n",
    "        self.data = data\n",
    "        self.left = None\n",
    "        self.right = None\n",
    "\n",
    "def insert(node, data):\n",
    "    if node is None:\n",
    "            return TreeNode(data)\n",
    "    else:\n",
    "        if data < node.data:\n",
    "            node.left = insert(node.left, data)\n",
    "        elif data > node.data:\n",
    "            node.right = insert(node.right, data)\n",
    "    return node\n",
    "\n",
    "def inOrderTraversal(node):\n",
    "    if node is None:\n",
    "        return\n",
    "    inOrderTraversal(node.left)\n",
    "    print(node.data, end=\", \")\n",
    "    inOrderTraversal(node.right)\n",
    "\n",
    "root = TreeNode(13)\n",
    "node7 = TreeNode(7)\n",
    "node15 = TreeNode(15)\n",
    "node3 = TreeNode(3)\n",
    "node8 = TreeNode(8)\n",
    "node14 = TreeNode(14)\n",
    "node19 = TreeNode(19)\n",
    "node18 = TreeNode(18)\n",
    "\n",
    "root.left = node7\n",
    "root.right = node15\n",
    "\n",
    "node7.left = node3\n",
    "node7.right = node8\n",
    "\n",
    "node15.left = node14\n",
    "node15.right = node19\n",
    "\n",
    "node19.left = node18\n",
    "\n",
    "# Traverse\n",
    "display(inOrderTraversal(root))\n",
    "\n",
    "insert(root, 10)\n",
    "\n",
    "display(inOrderTraversal(root))"
   ]
  },
  {
   "cell_type": "markdown",
   "metadata": {},
   "source": [
    "## Find lowest value in a BST subtree\n",
    "\n",
    "Just find the most left node"
   ]
  },
  {
   "cell_type": "code",
   "execution_count": 67,
   "metadata": {},
   "outputs": [
    {
     "name": "stdout",
     "output_type": "stream",
     "text": [
      "3, 7, 8, 13, 14, 15, 18, 19, \n",
      "lowest =  3\n"
     ]
    }
   ],
   "source": [
    "class TreeNode:\n",
    "    def __init__(self, data):\n",
    "        self.data = data\n",
    "        self.left = None\n",
    "        self.right = None\n",
    "\n",
    "def inOrderTraversal(node):\n",
    "    if node is None:\n",
    "        return\n",
    "    inOrderTraversal(node.left)\n",
    "    print(node.data, end=\", \")\n",
    "    inOrderTraversal(node.right)\n",
    "\n",
    "def minValueNode(node):\n",
    "    current = node.left\n",
    "    # node = node.left\n",
    "    while current.left is not None:\n",
    "        current = current.left\n",
    "    return current\n",
    "\n",
    "\n",
    "root = TreeNode(13)\n",
    "node7 = TreeNode(7)\n",
    "node15 = TreeNode(15)\n",
    "node3 = TreeNode(3)\n",
    "node8 = TreeNode(8)\n",
    "node14 = TreeNode(14)\n",
    "node19 = TreeNode(19)\n",
    "node18 = TreeNode(18)\n",
    "\n",
    "root.left = node7\n",
    "root.right = node15\n",
    "\n",
    "node7.left = node3\n",
    "node7.right = node8\n",
    "\n",
    "node15.left = node14\n",
    "node15.right = node19\n",
    "\n",
    "node19.left = node18\n",
    "\n",
    "# Traverse\n",
    "inOrderTraversal(root)\n",
    "\n",
    "\n",
    "print(\"\\nlowest = \", minValueNode(root).data)"
   ]
  },
  {
   "cell_type": "markdown",
   "metadata": {},
   "source": [
    "## Delete a node in a binary search tree\n",
    "\n",
    "3 different scenario's to delete a node:\n",
    "- If the node is a leaf node, remove it by removing the link to it.\n",
    "- If the node only has one child node, connect the parent node of the node you want to remove to that child node.\n",
    "- If the node has both right and left child nodes: Find the node's in-order successor, change values with that node, then delete it."
   ]
  },
  {
   "cell_type": "code",
   "execution_count": null,
   "metadata": {},
   "outputs": [
    {
     "name": "stdout",
     "output_type": "stream",
     "text": [
      "3, 7, 8, 13, 14, 15, 18, 19, 3, 7, 8, 13, 14, 18, 19, \n",
      " None\n"
     ]
    }
   ],
   "source": [
    "class TreeNode:\n",
    "    def __init__(self, data):\n",
    "        self.data = data\n",
    "        self.left = None\n",
    "        self.right = None\n",
    "\n",
    "def inOrderTraversal(node):\n",
    "    if node is None:\n",
    "        return\n",
    "    inOrderTraversal(node.left)\n",
    "    print(node.data, end=\", \")\n",
    "    inOrderTraversal(node.right)\n",
    "\n",
    "def minValueNode(node):\n",
    "    current = node.left\n",
    "    # current = node # now it's different?\n",
    "    # node = node.left\n",
    "    while current.left is not None:\n",
    "        current = current.left\n",
    "    return current\n",
    "\n",
    "def delete(node, data):\n",
    "    if not node:\n",
    "        return None\n",
    "    if data < node.data:\n",
    "        node.left = delete(node.left, data)\n",
    "    elif data > node.data:\n",
    "        node.right = delete(node.right, data)\n",
    "    else:\n",
    "        # node with one or no child\n",
    "        if not node.left:\n",
    "            temp = node.right\n",
    "            node = None\n",
    "            return temp\n",
    "        elif not node.right:\n",
    "            temp = node.left\n",
    "            node = None\n",
    "            return temp\n",
    "\n",
    "        # node with two children, get the in-order successor\n",
    "        node.data = minValueNode(node.right).data\n",
    "        node.right = delete(node.right, node.data)\n",
    "    return node\n",
    "\n",
    "\n",
    "root = TreeNode(13)\n",
    "node7 = TreeNode(7)\n",
    "node15 = TreeNode(15)\n",
    "node3 = TreeNode(3)\n",
    "node8 = TreeNode(8)\n",
    "node14 = TreeNode(14)\n",
    "node19 = TreeNode(19)\n",
    "node18 = TreeNode(18)\n",
    "\n",
    "root.left = node7\n",
    "root.right = node15\n",
    "\n",
    "node7.left = node3\n",
    "node7.right = node8\n",
    "\n",
    "node15.left = node14\n",
    "node15.right = node19\n",
    "\n",
    "node19.left = node18\n",
    "\n",
    "# Traverse\n",
    "inOrderTraversal(root)\n",
    "\n",
    "# delete node 15\n",
    "delete(root, 15)\n",
    "\n",
    "print(\"\\n\",inOrderTraversal(root))"
   ]
  }
 ],
 "metadata": {
  "kernelspec": {
   "display_name": ".venv",
   "language": "python",
   "name": "python3"
  },
  "language_info": {
   "codemirror_mode": {
    "name": "ipython",
    "version": 3
   },
   "file_extension": ".py",
   "mimetype": "text/x-python",
   "name": "python",
   "nbconvert_exporter": "python",
   "pygments_lexer": "ipython3",
   "version": "3.12.3"
  }
 },
 "nbformat": 4,
 "nbformat_minor": 2
}
