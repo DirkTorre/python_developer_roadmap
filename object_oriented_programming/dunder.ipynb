{
 "cells": [
  {
   "cell_type": "markdown",
   "metadata": {},
   "source": [
    "# [ALL dunder methods](https://www.pythonmorsels.com/every-dunder-method/)"
   ]
  },
  {
   "cell_type": "markdown",
   "metadata": {},
   "source": [
    "## `__iter__`"
   ]
  },
  {
   "cell_type": "code",
   "execution_count": 124,
   "metadata": {},
   "outputs": [],
   "source": [
    "import random\n",
    "class RandomIterable:\n",
    "    def __iter__(self):\n",
    "        return self\n",
    "    def __next__(self):\n",
    "        if random.choice([\"go\", \"go\", \"stop\"]) == \"stop\":\n",
    "            raise StopIteration  # signals \"the end\"\n",
    "        return 1\n",
    "\n",
    "a = RandomIterable()\n",
    "\n",
    "\n",
    "for eggs in RandomIterable():\n",
    "    print(eggs)"
   ]
  },
  {
   "cell_type": "code",
   "execution_count": 140,
   "metadata": {},
   "outputs": [
    {
     "data": {
      "text/plain": [
       "[1, 1]"
      ]
     },
     "execution_count": 140,
     "metadata": {},
     "output_type": "execute_result"
    }
   ],
   "source": [
    "list(RandomIterable())"
   ]
  },
  {
   "cell_type": "markdown",
   "metadata": {},
   "source": [
    "## essential dunders"
   ]
  },
  {
   "cell_type": "code",
   "execution_count": 8,
   "metadata": {},
   "outputs": [
    {
     "data": {
      "text/plain": [
       "self.var_a='a'\n",
       "self.var_b='hank'"
      ]
     },
     "metadata": {},
     "output_type": "display_data"
    },
    {
     "data": {
      "text/plain": [
       "False"
      ]
     },
     "metadata": {},
     "output_type": "display_data"
    }
   ],
   "source": [
    "class Dummie:\n",
    "    var_a = \"a\"\n",
    "\n",
    "    # initialization of object\n",
    "    def __init__(self, var_b: str):\n",
    "        self.var_b = var_b\n",
    "    \n",
    "    # string representation of object\n",
    "    def __repr__(self):\n",
    "        return f\"{self.var_a=}\\n{self.var_b=}\"\n",
    "    \n",
    "    # test if equal\n",
    "    def __eq__(self, value):\n",
    "        return self.var_b == value.var_b\n",
    "    \n",
    "test = Dummie(\"hank\")\n",
    "\n",
    "display(test)\n",
    "\n",
    "test2 = Dummie(\"tank\")\n",
    "\n",
    "display(test==test2)"
   ]
  },
  {
   "cell_type": "markdown",
   "metadata": {},
   "source": [
    "## Equality and hashability"
   ]
  },
  {
   "cell_type": "code",
   "execution_count": null,
   "metadata": {},
   "outputs": [
    {
     "data": {
      "text/plain": [
       "False"
      ]
     },
     "metadata": {},
     "output_type": "display_data"
    },
    {
     "data": {
      "text/plain": [
       "True"
      ]
     },
     "metadata": {},
     "output_type": "display_data"
    }
   ],
   "source": [
    "class EqualTest:\n",
    "    def __init__(self, a, b):\n",
    "        self.a = a\n",
    "        self.b = b\n",
    "    # check if equal\n",
    "    def __eq__(self, object):\n",
    "        if not isinstance(object, EqualTest):\n",
    "            return NotImplemented\n",
    "        return self.a == object.a and self.b == object.b\n",
    "    # check if not equal (by default the opposite of __eq__)\n",
    "    def __ne__(self, object):\n",
    "        return self.a != object.a and self.b != object.b # technically not needed\n",
    "    # it say's this is needed, but there is no problem when it works.\n",
    "    # def __hash__(self): ## needed for a custom __eq__\n",
    "    #     return hash(self.a) # maybe also needs self.b?\n",
    "    \n",
    "\n",
    "test1 = EqualTest(1,2)\n",
    "test2 = EqualTest(3,4)\n",
    "\n",
    "display(test1 == test2)\n",
    "display(test1 == test1)"
   ]
  },
  {
   "cell_type": "markdown",
   "metadata": {},
   "source": [
    "## Orderability"
   ]
  },
  {
   "cell_type": "code",
   "execution_count": 15,
   "metadata": {},
   "outputs": [
    {
     "data": {
      "text/plain": [
       "True"
      ]
     },
     "metadata": {},
     "output_type": "display_data"
    },
    {
     "data": {
      "text/plain": [
       "True"
      ]
     },
     "metadata": {},
     "output_type": "display_data"
    },
    {
     "data": {
      "text/plain": [
       "True"
      ]
     },
     "metadata": {},
     "output_type": "display_data"
    },
    {
     "data": {
      "text/plain": [
       "False"
      ]
     },
     "metadata": {},
     "output_type": "display_data"
    },
    {
     "data": {
      "text/plain": [
       "False"
      ]
     },
     "metadata": {},
     "output_type": "display_data"
    },
    {
     "data": {
      "text/plain": [
       "True"
      ]
     },
     "metadata": {},
     "output_type": "display_data"
    }
   ],
   "source": [
    "class DiffTest:\n",
    "    def __init__(self, a):\n",
    "        self.a = a\n",
    "    def __lt__(self, other):\n",
    "        return self.a < other.a\n",
    "    def __gt__(self, other):\n",
    "        return self.a > other.a\n",
    "    def __le__(self, other):\n",
    "        return self.a <= other.a\n",
    "    def __ge__(self, other):\n",
    "        return self.a >= other.a\n",
    "\n",
    "a = DiffTest(1)\n",
    "b = DiffTest(2)\n",
    "\n",
    "\n",
    "display(a < b)\n",
    "display(a <= b)\n",
    "display(a <= a)\n",
    "display(a > b)\n",
    "display(a >= b)\n",
    "display(a >= a)\n",
    "    \n"
   ]
  },
  {
   "cell_type": "markdown",
   "metadata": {},
   "source": [
    "## Containers and collections\n",
    "\n",
    "Basically a way to turn a object into an iterable.\n",
    "Not all possibilities are stated here."
   ]
  },
  {
   "cell_type": "code",
   "execution_count": 67,
   "metadata": {},
   "outputs": [
    {
     "data": {
      "text/plain": [
       "4"
      ]
     },
     "execution_count": 67,
     "metadata": {},
     "output_type": "execute_result"
    }
   ],
   "source": [
    "class ContainerTest:\n",
    "    def __init__(self, l: list, d: dict):\n",
    "        self.l = l\n",
    "        self.d = d\n",
    "    \n",
    "    def __len__(self):\n",
    "        return len(self.l)\n",
    "    \n",
    "    def __iter__(self): # makes object iterable, can be handy!\n",
    "        yield from self.l\n",
    "    \n",
    "    def __setitem__(self, key, new_value): # gives assignment like an iterable\n",
    "        self.d[key] = new_value\n",
    "\n",
    "    def __delitem__(self, key):\n",
    "        del self.d[key]\n",
    "    \n",
    "    def __repr__(self):\n",
    "        return f\"values:\\n{str(self.d)=}\\n{str(self.l)=}\"\n",
    "\n",
    "    # def __delitem__(self, a):\n",
    "\n",
    "\n",
    "container = ContainerTest([1,2,3,4], {\"apple\": 1, \"banana\": 4})\n",
    "\n",
    "len(container)"
   ]
  },
  {
   "cell_type": "code",
   "execution_count": 68,
   "metadata": {},
   "outputs": [
    {
     "name": "stdout",
     "output_type": "stream",
     "text": [
      "1\n",
      "2\n",
      "3\n",
      "4\n"
     ]
    }
   ],
   "source": [
    "for x in container:\n",
    "    print(x)"
   ]
  },
  {
   "cell_type": "code",
   "execution_count": 69,
   "metadata": {},
   "outputs": [
    {
     "data": {
      "text/plain": [
       "values:\n",
       "str(self.d)=\"{'apple': 1, 'banana': 4}\"\n",
       "str(self.l)='[1, 2, 3, 4]'"
      ]
     },
     "metadata": {},
     "output_type": "display_data"
    },
    {
     "data": {
      "text/plain": [
       "values:\n",
       "str(self.d)=\"{'apple': 6, 'banana': 4}\"\n",
       "str(self.l)='[1, 2, 3, 4]'"
      ]
     },
     "metadata": {},
     "output_type": "display_data"
    }
   ],
   "source": [
    "container = ContainerTest([1,2,3,4], {\"apple\": 1, \"banana\": 4})\n",
    "display(container)\n",
    "container[\"apple\"] = 6\n",
    "display(container)"
   ]
  },
  {
   "cell_type": "markdown",
   "metadata": {},
   "source": [
    "## Callability\n",
    "wait, what? This turns objects into functions."
   ]
  },
  {
   "cell_type": "code",
   "execution_count": 73,
   "metadata": {},
   "outputs": [
    {
     "data": {
      "text/plain": [
       "'Hello, my name is Hank'"
      ]
     },
     "execution_count": 73,
     "metadata": {},
     "output_type": "execute_result"
    }
   ],
   "source": [
    "class Dad:\n",
    "    def __init__(self):\n",
    "        self.name = \"Hank\"\n",
    "    def __call__(self):\n",
    "        return f\"Hello, my name is {self.name}\"\n",
    "dad_object = Dad()\n",
    "dad_object()"
   ]
  },
  {
   "cell_type": "markdown",
   "metadata": {},
   "source": [
    "## Arithmetic operators\n"
   ]
  },
  {
   "cell_type": "code",
   "execution_count": 84,
   "metadata": {},
   "outputs": [
    {
     "data": {
      "text/plain": [
       "'1 + 2 = 5'"
      ]
     },
     "metadata": {},
     "output_type": "display_data"
    },
    {
     "data": {
      "text/plain": [
       "'1 - 2 = -3'"
      ]
     },
     "metadata": {},
     "output_type": "display_data"
    },
    {
     "data": {
      "text/plain": [
       "'1 * 2 = 4'"
      ]
     },
     "metadata": {},
     "output_type": "display_data"
    },
    {
     "data": {
      "text/plain": [
       "'1 / 2 = 0.25'"
      ]
     },
     "metadata": {},
     "output_type": "display_data"
    },
    {
     "data": {
      "text/plain": [
       "'1 % 2 = 1'"
      ]
     },
     "metadata": {},
     "output_type": "display_data"
    },
    {
     "data": {
      "text/plain": [
       "'1 // 2 = 0'"
      ]
     },
     "metadata": {},
     "output_type": "display_data"
    },
    {
     "data": {
      "text/plain": [
       "'1 ** 2 = 1'"
      ]
     },
     "metadata": {},
     "output_type": "display_data"
    }
   ],
   "source": [
    "class SillyMath:\n",
    "    def __init__(self, value):\n",
    "        self.value = value\n",
    "\n",
    "    def __add__(self, other):\n",
    "        return self.value + other.value + 2\n",
    "    \n",
    "    def __sub__(self, other):\n",
    "        return self.value - other.value - 2\n",
    "    \n",
    "    def __mul__(self, other):\n",
    "        return self.value * other.value * 2\n",
    "    \n",
    "    def __truediv__(self, other):\n",
    "        return self.value / other.value / 2\n",
    "    \n",
    "    def __mod__(self, other):\n",
    "        return self.value % other.value % 2\n",
    "    \n",
    "    def __floordiv__(self, other):\n",
    "        return self.value // other.value // 2\n",
    "    \n",
    "    def __pow__(self, other):\n",
    "        return self.value ** other.value ** 2\n",
    "    \n",
    "    def __str__(self):\n",
    "        return str(self.value)\n",
    "\n",
    "one = SillyMath(1)\n",
    "two = SillyMath(2)\n",
    "display(f\"{one} + {two} = {one+two}\")\n",
    "display(f\"{one} - {two} = {one-two}\")\n",
    "display(f\"{one} * {two} = {one*two}\")\n",
    "display(f\"{one} / {two} = {one/two}\")\n",
    "display(f\"{one} % {two} = {one%two}\")\n",
    "display(f\"{one} // {two} = {one//two}\")\n",
    "display(f\"{one} ** {two} = {one**two}\")"
   ]
  },
  {
   "cell_type": "code",
   "execution_count": 87,
   "metadata": {},
   "outputs": [
    {
     "data": {
      "text/plain": [
       "'True and False = False'"
      ]
     },
     "metadata": {},
     "output_type": "display_data"
    },
    {
     "data": {
      "text/plain": [
       "'True or False = True'"
      ]
     },
     "metadata": {},
     "output_type": "display_data"
    },
    {
     "data": {
      "text/plain": [
       "'True xor False = True'"
      ]
     },
     "metadata": {},
     "output_type": "display_data"
    },
    {
     "data": {
      "text/plain": [
       "'True left shift False = 1'"
      ]
     },
     "metadata": {},
     "output_type": "display_data"
    },
    {
     "data": {
      "text/plain": [
       "'True right shift False = 1'"
      ]
     },
     "metadata": {},
     "output_type": "display_data"
    }
   ],
   "source": [
    "class SillyCompare:\n",
    "    def __init__(self, value: bool):\n",
    "        self.value = value\n",
    "\n",
    "    def __and__(self, other):\n",
    "        return self.value and other.value\n",
    "    \n",
    "    def __or__(self, other):\n",
    "        return self.value or other.value\n",
    "    \n",
    "    def __xor__(self, other):\n",
    "        return self.value ^ other.value\n",
    "    \n",
    "    def __rshift__(self, other):\n",
    "        return self.value >> other.value\n",
    "    \n",
    "    def __lshift__(self, other):\n",
    "        return self.value << other.value\n",
    "    \n",
    "    def __str__(self):\n",
    "        return str(self.value)\n",
    "\n",
    "one = SillyCompare(True)\n",
    "two = SillyCompare(False)\n",
    "display(f\"{one} and {two} = {one and two}\")\n",
    "display(f\"{one} or {two} = {one or two}\")\n",
    "display(f\"{one} xor {two} = {one ^ two}\")\n",
    "display(f\"{one} left shift {two} = {one << two}\")\n",
    "display(f\"{one} right shift {two} = {one >> two}\")"
   ]
  },
  {
   "cell_type": "markdown",
   "metadata": {},
   "source": [
    "## in-place arithmatic\n",
    "Just gonna show one"
   ]
  },
  {
   "cell_type": "code",
   "execution_count": null,
   "metadata": {},
   "outputs": [
    {
     "data": {
      "text/plain": [
       "8"
      ]
     },
     "metadata": {},
     "output_type": "display_data"
    },
    {
     "data": {
      "text/plain": [
       "5"
      ]
     },
     "metadata": {},
     "output_type": "display_data"
    }
   ],
   "source": [
    "class Test:\n",
    "    def __init__(self, number: int):\n",
    "        self.number = number\n",
    "    def __isub__(self, other: int) -> int:\n",
    "        self.number -= other.number\n",
    "        return self.number\n",
    "    def __repr__(self)  -> int:\n",
    "        return str(self.number)\n",
    "\n",
    "num1 = Test(8)\n",
    "num2 = Test(3)\n",
    "display(num1)\n",
    "num1-=num2\n",
    "display(num1)"
   ]
  },
  {
   "cell_type": "markdown",
   "metadata": {},
   "source": [
    "## Built-in math functions\n",
    "overload how math functions behave"
   ]
  },
  {
   "cell_type": "code",
   "execution_count": 98,
   "metadata": {},
   "outputs": [
    {
     "data": {
      "text/plain": [
       "(0, 2)"
      ]
     },
     "metadata": {},
     "output_type": "display_data"
    }
   ],
   "source": [
    "class Test:\n",
    "    def __init__(self, number: int):\n",
    "        self.number = number\n",
    "    def __divmod__(self, other):\n",
    "        quotient = self.number // other.number\n",
    "        remainder = self.number % other.number\n",
    "        return (quotient, remainder)\n",
    "    def __repr__(self):\n",
    "        return str(self.number)\n",
    "\n",
    "num1_obj = Test(2)\n",
    "num2_obj = Test(3)\n",
    "display(divmod(num1_obj, num2_obj))"
   ]
  },
  {
   "cell_type": "markdown",
   "metadata": {},
   "source": [
    "## attribute access\n",
    "\n",
    "`__getattribute__` also acts like it, but is different.\n",
    "`__getatt__` get's called when the attribute is not found.\n",
    "\n",
    "can be used to throw a action when a attribute get's called (\"This attribute will b e deprecated in version xx.xx\")\n",
    "\n",
    "get_attribute gives an"
   ]
  },
  {
   "cell_type": "code",
   "execution_count": 44,
   "metadata": {},
   "outputs": [
    {
     "name": "stdout",
     "output_type": "stream",
     "text": [
      "setting number to 1\n",
      "getting numbe\n",
      "setting number to 4\n",
      "deleting number\n",
      "getting number\n"
     ]
    }
   ],
   "source": [
    "class Test:\n",
    "    def __init__(self, number: int):\n",
    "        self.number = number\n",
    "    def __getattr__(self, attr: str):\n",
    "        # only called when python fails to get attribute\n",
    "        print(f\"{attr} does not exist\")\n",
    "        return \"nu-uh!\"\n",
    "    def __getattribute__(self, attr: str):\n",
    "        # called when getting any attribute?\n",
    "        print(f\"getting {attr}\")\n",
    "    def __setattr__(self, attr: str, value):\n",
    "        # called when setting an any (existing) attribute\n",
    "        print(f\"setting {attr} to {value}\")\n",
    "    def __delattr__(self, attr: str):\n",
    "        # called when setting an any (existing) attribute\n",
    "        print(f\"deleting {attr}\")\n",
    "        \n",
    "test = Test(1)\n",
    "test.numbe\n",
    "test.number = 4\n",
    "del test.number\n",
    "test.number"
   ]
  },
  {
   "cell_type": "code",
   "execution_count": 32,
   "metadata": {},
   "outputs": [
    {
     "name": "stdout",
     "output_type": "stream",
     "text": [
      "setting number to 4\n",
      "getting number\n"
     ]
    }
   ],
   "source": [
    "test.number = 4\n",
    "test.number"
   ]
  },
  {
   "cell_type": "markdown",
   "metadata": {},
   "source": [
    "## Construction and finalizing"
   ]
  },
  {
   "cell_type": "code",
   "execution_count": 58,
   "metadata": {},
   "outputs": [
    {
     "name": "stdout",
     "output_type": "stream",
     "text": [
      "creating class\n"
     ]
    },
    {
     "ename": "TypeError",
     "evalue": "Test.__new__() takes 1 positional argument but 2 were given",
     "output_type": "error",
     "traceback": [
      "\u001b[31m---------------------------------------------------------------------------\u001b[39m",
      "\u001b[31mTypeError\u001b[39m                                 Traceback (most recent call last)",
      "\u001b[36mCell\u001b[39m\u001b[36m \u001b[39m\u001b[32mIn[58]\u001b[39m\u001b[32m, line 14\u001b[39m\n\u001b[32m     11\u001b[39m         \u001b[38;5;28mprint\u001b[39m(\u001b[33m\"\u001b[39m\u001b[33mdestroying class\u001b[39m\u001b[33m\"\u001b[39m)\n\u001b[32m     13\u001b[39m test = Test()\n\u001b[32m---> \u001b[39m\u001b[32m14\u001b[39m test = \u001b[43mTest\u001b[49m\u001b[43m(\u001b[49m\u001b[32;43m1\u001b[39;49m\u001b[43m)\u001b[49m\n",
      "\u001b[31mTypeError\u001b[39m: Test.__new__() takes 1 positional argument but 2 were given"
     ]
    }
   ],
   "source": [
    "class Test:\n",
    "    # makes the init useless\n",
    "    def __new__(cls):\n",
    "        print(\"creating class\")\n",
    "    # constructor\n",
    "    def __init__(self, a: int):\n",
    "        self.a = a\n",
    "        print(\"initialising class\")\n",
    "    # destructor\n",
    "    def __del__(self):\n",
    "        print(\"destroying class\")\n",
    "\n",
    "test = Test()\n",
    "test = Test(1)"
   ]
  },
  {
   "cell_type": "code",
   "execution_count": 61,
   "metadata": {},
   "outputs": [
    {
     "name": "stdout",
     "output_type": "stream",
     "text": [
      "initialising class\n",
      "destroying class\n"
     ]
    }
   ],
   "source": [
    "class Test:\n",
    "    # constructor\n",
    "    def __init__(self, a: int):\n",
    "        self.a = a\n",
    "        print(\"initialising class\")\n",
    "    # destructor\n",
    "    def __del__(self):\n",
    "        print(\"destroying class\")\n",
    "\n",
    "def test_func():\n",
    "    a = Test(1)\n",
    "\n",
    "test_func()"
   ]
  },
  {
   "cell_type": "code",
   "execution_count": 55,
   "metadata": {},
   "outputs": [
    {
     "name": "stdout",
     "output_type": "stream",
     "text": [
      "Testing scenario 1:\n",
      "Created Local, total instances: 1\n",
      "Destroyed Local, remaining instances: 0\n",
      "\n",
      "Testing scenario 2:\n",
      "Created First, total instances: 1\n",
      "Created Second, total instances: 2\n",
      "Destroyed First, remaining instances: 1\n",
      "Destroyed Second, remaining instances: 0\n",
      "\n",
      "Testing scenario 3:\n",
      "Created One, total instances: 1\n",
      "Created Two, total instances: 2\n"
     ]
    }
   ],
   "source": [
    "class Counter:\n",
    "    _instances = 0\n",
    "    \n",
    "    def __init__(self, name):\n",
    "        Counter._instances += 1\n",
    "        self.name = name\n",
    "        print(f\"Created {self.name}, total instances: {Counter._instances}\")\n",
    "        \n",
    "    def __del__(self):\n",
    "        Counter._instances -= 1\n",
    "        print(f\"Destroyed {self.name}, remaining instances: {Counter._instances}\")\n",
    "\n",
    "# Scenario 1: Normal scope exit\n",
    "def create_counter():\n",
    "    c = Counter(\"Local\")\n",
    "    # c gets destroyed when function ends\n",
    "    \n",
    "# Scenario 2: Reference reassignment\n",
    "def reassign_counter():\n",
    "    c1 = Counter(\"First\")\n",
    "    c1 = Counter(\"Second\")  # First counter gets destroyed\n",
    "    \n",
    "# Scenario 3: Circular reference\n",
    "def circular_reference():\n",
    "    c1 = Counter(\"One\")\n",
    "    c2 = Counter(\"Two\")\n",
    "    c1.buddy = c2\n",
    "    c2.buddy = c1\n",
    "    \n",
    "print(\"Testing scenario 1:\")\n",
    "create_counter()\n",
    "\n",
    "print(\"\\nTesting scenario 2:\")\n",
    "reassign_counter()\n",
    "\n",
    "print(\"\\nTesting scenario 3:\")\n",
    "circular_reference()\n",
    "# Circular references might not be cleaned up immediately"
   ]
  },
  {
   "cell_type": "markdown",
   "metadata": {},
   "source": [
    "There are more dunders, but i wrap this up for now."
   ]
  }
 ],
 "metadata": {
  "kernelspec": {
   "display_name": ".venv",
   "language": "python",
   "name": "python3"
  },
  "language_info": {
   "codemirror_mode": {
    "name": "ipython",
    "version": 3
   },
   "file_extension": ".py",
   "mimetype": "text/x-python",
   "name": "python",
   "nbconvert_exporter": "python",
   "pygments_lexer": "ipython3",
   "version": "3.12.3"
  }
 },
 "nbformat": 4,
 "nbformat_minor": 2
}
