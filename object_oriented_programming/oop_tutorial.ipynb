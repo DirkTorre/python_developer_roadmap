{
 "cells": [
  {
   "cell_type": "markdown",
   "metadata": {},
   "source": [
    "# [Bro Code: Python Object Oriented Programming Full Course 🐍](https://www.youtube.com/watch?v=IbMDCwVm63M)\n",
    "\n",
    "## class variables"
   ]
  },
  {
   "cell_type": "code",
   "execution_count": 1,
   "metadata": {},
   "outputs": [
    {
     "name": "stdout",
     "output_type": "stream",
     "text": [
      "0\n",
      "1\n",
      "2\n"
     ]
    }
   ],
   "source": [
    "class Student:\n",
    "    class_year = 2024   # class var\n",
    "    num_students = 0    # class var\n",
    "\n",
    "    def __init__(self, name, age):\n",
    "        self.name = name\n",
    "        self.age = age\n",
    "        Student.num_students += 1\n",
    "\n",
    "print(Student.num_students)\n",
    "student1 = Student(\"Bard\", 30)\n",
    "print(Student.num_students)\n",
    "student2 = Student(\"Lisa\", 35)\n",
    "print(Student.num_students)"
   ]
  },
  {
   "cell_type": "markdown",
   "metadata": {},
   "source": [
    "## inheritance"
   ]
  },
  {
   "cell_type": "code",
   "execution_count": 2,
   "metadata": {},
   "outputs": [
    {
     "name": "stdout",
     "output_type": "stream",
     "text": [
      "Hank True\n",
      "Hank is eating\n",
      "Hank is sleeping\n",
      "WOOF!\n",
      "Blurp!\n"
     ]
    }
   ],
   "source": [
    "class Animal:\n",
    "    def __init__(self, name):\n",
    "        self.name = name\n",
    "        self.is_alive = True\n",
    "    \n",
    "    def eat(self):\n",
    "        print(f\"{self.name} is eating\")\n",
    "\n",
    "    def sleep(self):\n",
    "        print(f\"{self.name} is sleeping\")\n",
    "\n",
    "class Dog(Animal):\n",
    "    def speak(self):\n",
    "        print(\"WOOF!\")\n",
    "\n",
    "class Cat(Animal):\n",
    "    def speak(self):\n",
    "        print(\"Blurp!\")\n",
    "\n",
    "class Mouse(Animal):\n",
    "    def speak(self):\n",
    "        print(\"meep meep!\")\n",
    "\n",
    "dog = Dog(\"Hank\")\n",
    "cat = Cat(\"Snape\")\n",
    "mouse = Mouse(\"jerry\")\n",
    "\n",
    "print(dog.name, dog.is_alive)\n",
    "dog.eat()\n",
    "dog.sleep()\n",
    "dog.speak()\n",
    "cat.speak()\n"
   ]
  },
  {
   "cell_type": "markdown",
   "metadata": {},
   "source": [
    "## Multiple & multilevel inheritance\n",
    "\n",
    "multiple inheritance = child inherits multiple parents: C(Pa,Pb)\n",
    "\n",
    "multilevel inheritance = inherit from a parent which inherits from another parent. C{B} <- B(A) <- A"
   ]
  },
  {
   "cell_type": "code",
   "execution_count": 3,
   "metadata": {},
   "outputs": [
    {
     "name": "stdout",
     "output_type": "stream",
     "text": [
      "Nemo is fleeing\n"
     ]
    }
   ],
   "source": [
    "class Animal:\n",
    "\n",
    "    def __init__(self, name):\n",
    "        self.name = name\n",
    "\n",
    "    def eat(self):\n",
    "        print(f\"{self.name} is eating\")\n",
    "\n",
    "    def sleep(self):\n",
    "        print(f\"{self.name} is sleeping\")\n",
    "\n",
    "class Prey(Animal):\n",
    "    def flee(self):\n",
    "        print(f\"{self.name} is fleeing\")\n",
    "\n",
    "class Predator(Animal):\n",
    "    def hunt(self):\n",
    "        print(f\"{self.name} is hunting\")\n",
    "\n",
    "class Rabbit(Prey):\n",
    "    pass\n",
    "\n",
    "class Hawk(Predator):\n",
    "    pass\n",
    "\n",
    "class Fish(Prey, Predator):\n",
    "    pass\n",
    "\n",
    "\n",
    "rabbit = Rabbit(\"Bugs\")\n",
    "hawk = Hawk(\"Tony\")\n",
    "fish = Fish(\"Nemo\")\n",
    "\n",
    "fish.flee()\n"
   ]
  },
  {
   "cell_type": "markdown",
   "metadata": {},
   "source": [
    "## Abstract class\n",
    "\n",
    "meant to be subclassed.\n",
    "\n",
    "abstract classes are a bit of a forced hint to implement methods in your child class."
   ]
  },
  {
   "cell_type": "code",
   "execution_count": 5,
   "metadata": {},
   "outputs": [
    {
     "ename": "TypeError",
     "evalue": "Can't instantiate abstract class Vehicle without an implementation for abstract methods 'go', 'stop'",
     "output_type": "error",
     "traceback": [
      "\u001b[31m---------------------------------------------------------------------------\u001b[39m",
      "\u001b[31mTypeError\u001b[39m                                 Traceback (most recent call last)",
      "\u001b[36mCell\u001b[39m\u001b[36m \u001b[39m\u001b[32mIn[5]\u001b[39m\u001b[32m, line 12\u001b[39m\n\u001b[32m      8\u001b[39m     \u001b[38;5;129m@abstractmethod\u001b[39m\n\u001b[32m      9\u001b[39m     \u001b[38;5;28;01mdef\u001b[39;00m\u001b[38;5;250m \u001b[39m\u001b[34mstop\u001b[39m(\u001b[38;5;28mself\u001b[39m):\n\u001b[32m     10\u001b[39m         \u001b[38;5;28;01mpass\u001b[39;00m\n\u001b[32m---> \u001b[39m\u001b[32m12\u001b[39m vehicle = \u001b[43mVehicle\u001b[49m\u001b[43m(\u001b[49m\u001b[43m)\u001b[49m\n",
      "\u001b[31mTypeError\u001b[39m: Can't instantiate abstract class Vehicle without an implementation for abstract methods 'go', 'stop'"
     ]
    }
   ],
   "source": [
    "from abc import ABC, abstractmethod\n",
    "\n",
    "class Vehicle(ABC):\n",
    "    @abstractmethod\n",
    "    def go(self):\n",
    "        pass\n",
    "\n",
    "    @abstractmethod\n",
    "    def stop(self):\n",
    "        pass\n",
    "\n",
    "vehicle = Vehicle()"
   ]
  },
  {
   "cell_type": "code",
   "execution_count": 6,
   "metadata": {},
   "outputs": [
    {
     "ename": "TypeError",
     "evalue": "Can't instantiate abstract class Car without an implementation for abstract methods 'go', 'stop'",
     "output_type": "error",
     "traceback": [
      "\u001b[31m---------------------------------------------------------------------------\u001b[39m",
      "\u001b[31mTypeError\u001b[39m                                 Traceback (most recent call last)",
      "\u001b[36mCell\u001b[39m\u001b[36m \u001b[39m\u001b[32mIn[6]\u001b[39m\u001b[32m, line 4\u001b[39m\n\u001b[32m      1\u001b[39m \u001b[38;5;28;01mclass\u001b[39;00m\u001b[38;5;250m \u001b[39m\u001b[34;01mCar\u001b[39;00m(Vehicle):\n\u001b[32m      2\u001b[39m     \u001b[38;5;28;01mpass\u001b[39;00m\n\u001b[32m----> \u001b[39m\u001b[32m4\u001b[39m car = \u001b[43mCar\u001b[49m\u001b[43m(\u001b[49m\u001b[43m)\u001b[49m\n",
      "\u001b[31mTypeError\u001b[39m: Can't instantiate abstract class Car without an implementation for abstract methods 'go', 'stop'"
     ]
    }
   ],
   "source": [
    "class Car(Vehicle):\n",
    "    pass\n",
    "\n",
    "car = Car()"
   ]
  },
  {
   "cell_type": "code",
   "execution_count": 7,
   "metadata": {},
   "outputs": [
    {
     "name": "stdout",
     "output_type": "stream",
     "text": [
      "You drive the car\n",
      "You stop the car\n",
      "You drive the motorcycle\n",
      "You stop the motorcycle\n"
     ]
    },
    {
     "ename": "TypeError",
     "evalue": "Can't instantiate abstract class Boat without an implementation for abstract method 'stop'",
     "output_type": "error",
     "traceback": [
      "\u001b[31m---------------------------------------------------------------------------\u001b[39m",
      "\u001b[31mTypeError\u001b[39m                                 Traceback (most recent call last)",
      "\u001b[36mCell\u001b[39m\u001b[36m \u001b[39m\u001b[32mIn[7]\u001b[39m\u001b[32m, line 29\u001b[39m\n\u001b[32m     26\u001b[39m motor.go()\n\u001b[32m     27\u001b[39m motor.stop()\n\u001b[32m---> \u001b[39m\u001b[32m29\u001b[39m boat = \u001b[43mBoat\u001b[49m\u001b[43m(\u001b[49m\u001b[43m)\u001b[49m\n",
      "\u001b[31mTypeError\u001b[39m: Can't instantiate abstract class Boat without an implementation for abstract method 'stop'"
     ]
    }
   ],
   "source": [
    "class Car(Vehicle):\n",
    "    def go(self):\n",
    "        print(\"You drive the car\")\n",
    "    \n",
    "    def stop(self):\n",
    "        print(\"You stop the car\")\n",
    "\n",
    "\n",
    "class Motorcycle(Vehicle):\n",
    "    def go(self):\n",
    "        print(\"You drive the motorcycle\")\n",
    "    \n",
    "    def stop(self):\n",
    "        print(\"You stop the motorcycle\")\n",
    "\n",
    "class Boat(Vehicle):\n",
    "    def go(self):\n",
    "        print(\"You drive the motorcycle\")\n",
    "\n",
    "\n",
    "car = Car()\n",
    "car.go()\n",
    "car.stop()\n",
    "\n",
    "motor = Motorcycle()\n",
    "motor.go()\n",
    "motor.stop()\n",
    "\n",
    "boat = Boat()\n"
   ]
  },
  {
   "cell_type": "markdown",
   "metadata": {},
   "source": [
    "## Super method\n",
    "\n",
    "Used in a child class to call the methods of a parent class.\n"
   ]
  },
  {
   "cell_type": "code",
   "execution_count": 8,
   "metadata": {},
   "outputs": [
    {
     "name": "stdout",
     "output_type": "stream",
     "text": [
      "it's is circle with an area of 78.5 cm^2\n",
      "it is red and filled\n",
      "----------------------------------------\n",
      "it's is square with an area of 25 cm^2\n",
      "it is blue and not filled\n",
      "----------------------------------------\n",
      "it's is triangle with an area of 28.0 cm^2\n",
      "it is yellow and filled\n"
     ]
    }
   ],
   "source": [
    "class Shape:\n",
    "    def __init__(self, color, is_filled):\n",
    "        self.color = color\n",
    "        self.is_filled = is_filled\n",
    "    \n",
    "    def describe(self):\n",
    "        print(f\"it is {self.color} and {'filled' if self.is_filled else 'not filled'}\")\n",
    "\n",
    "\n",
    "class Circle(Shape):\n",
    "    def __init__(self, color, is_filled, radius):\n",
    "        super().__init__(color, is_filled)\n",
    "        self.radius = radius\n",
    "    \n",
    "    def describe(self):\n",
    "        print(f\"it's is circle with an area of {3.14 * self.radius ** 2} cm^2\")\n",
    "        super().describe() # now we call the describe method from shape\n",
    "\n",
    "\n",
    "class Square(Shape):\n",
    "    def __init__(self, color, is_filled, width):\n",
    "        super().__init__(color, is_filled)\n",
    "        self.width = width\n",
    "    \n",
    "    def describe(self):\n",
    "        print(f\"it's is square with an area of {self.width ** 2} cm^2\")\n",
    "        super().describe() # now we call the describe method from shape\n",
    "\n",
    "\n",
    "class Triangle(Shape):\n",
    "    def __init__(self, color, is_filled, width, height):\n",
    "        super().__init__(color, is_filled)\n",
    "        self.width = width\n",
    "        self.height = height\n",
    "    \n",
    "    def describe(self):\n",
    "        print(f\"it's is triangle with an area of {self.width * self.height / 2} cm^2\")\n",
    "        super().describe() # now we call the describe method from shape\n",
    "\n",
    "\n",
    "circle = Circle(color=\"red\", is_filled=True, radius=5)\n",
    "square = Square(color=\"blue\", is_filled=False, width=5)\n",
    "triangle = Triangle(\"yellow\", is_filled=True, width=7, height=8)\n",
    "\n",
    "circle.describe()\n",
    "print(\"-\"*40)\n",
    "square.describe()\n",
    "print(\"-\"*40)\n",
    "triangle.describe()\n"
   ]
  },
  {
   "cell_type": "markdown",
   "metadata": {},
   "source": [
    "## Polymorphism\n",
    "\n",
    "achievable via:\n",
    "\n",
    "- inheritance = an object could be treated of the same type as a parent class\n",
    "- duck typing = object must have necessary  attributes/methods. comes from: \"If it looks like a duck and quacks like a duck, it’s a duck\"\n"
   ]
  },
  {
   "cell_type": "code",
   "execution_count": null,
   "metadata": {},
   "outputs": [
    {
     "name": "stdout",
     "output_type": "stream",
     "text": [
      "50.24 cm^2 \n",
      "25 cm^2 \n",
      "21.0 cm^2 \n",
      "706.5 cm^2 \n"
     ]
    }
   ],
   "source": [
    "from abc import ABC, abstractmethod\n",
    "\n",
    "class Shape:\n",
    "    @abstractmethod\n",
    "    def area(self):\n",
    "        pass\n",
    "\n",
    "\n",
    "class Circle(Shape):\n",
    "    def __init__(self, radius):\n",
    "        self.radius = radius\n",
    "    \n",
    "    def area(self):\n",
    "        return 3.14 * self.radius ** 2\n",
    "\n",
    "\n",
    "class Square(Shape):\n",
    "    def __init__(self, side):\n",
    "        self.side = side\n",
    "    \n",
    "    def area(self):\n",
    "        return self.side ** 2\n",
    "\n",
    "\n",
    "class Triangle(Shape):\n",
    "    def __init__(self, base, height):\n",
    "        self.base = base\n",
    "        self.height = height\n",
    "    \n",
    "    def area(self):\n",
    "        return self.base * self.height / 2\n",
    "    \n",
    "class Pizza(Circle): # polymorphism via inheritance\n",
    "    def __init__(self, topping, radius):\n",
    "        super().__init__(radius)\n",
    "        self.topping = topping\n",
    "        \n",
    "\n",
    "\n",
    "shapes = [Circle(4), Square(5), Triangle(6,7), Pizza(\"Salami\", 15)]\n",
    "for shape in shapes:\n",
    "    print(f\"{shape.area()} cm^2 \")\n"
   ]
  },
  {
   "cell_type": "markdown",
   "metadata": {},
   "source": [
    "## Duck typing\n",
    "\n",
    "if an object is close enough to the class, you could use the class.\n",
    "The Car class is very close to Dog and Cat, is has the same methods and variables."
   ]
  },
  {
   "cell_type": "code",
   "execution_count": 10,
   "metadata": {},
   "outputs": [
    {
     "name": "stdout",
     "output_type": "stream",
     "text": [
      "WOOF!\n",
      "True\n",
      "MEOW!\n",
      "True\n",
      "HONK\n",
      "False\n"
     ]
    }
   ],
   "source": [
    "class Animal:\n",
    "    alive = True\n",
    "\n",
    "class Dog(Animal):\n",
    "    def speak(self):\n",
    "        print(\"WOOF!\")\n",
    "\n",
    "class Cat(Animal):\n",
    "    def speak(self):\n",
    "        print(\"MEOW!\")\n",
    "\n",
    "class Car:\n",
    "    alive = False\n",
    "    def speak(self):\n",
    "        print(\"HONK\")\n",
    "\n",
    "animals = [Dog(), Cat(), Car()]\n",
    "\n",
    "for animal in animals:\n",
    "    animal.speak()\n",
    "    print(animal.alive)"
   ]
  },
  {
   "cell_type": "markdown",
   "metadata": {},
   "source": [
    "## Aggregation\n",
    "\n",
    "A relationship where one object to one or more independent objects.\n",
    "A copy get's added to the objects that contains all the other objects.\n",
    "\n",
    "(A relationship where one object contains references to other independent objects. X has a Y.)"
   ]
  },
  {
   "cell_type": "code",
   "execution_count": 12,
   "metadata": {},
   "outputs": [
    {
     "name": "stdout",
     "output_type": "stream",
     "text": [
      "NY Public Library\n",
      "-------------\n",
      "Leviathan Wakes by James S. A. Corey\n",
      "The Hitchhiker's Guide to the Galaxy by Douglas Adams\n",
      "-------------\n",
      "lets change book1 title to hank\n",
      "\n",
      "inside library: hank by James S. A. Corey\n",
      "inside library: The Hitchhiker's Guide to the Galaxy by Douglas Adams\n",
      "outside library: hank\n"
     ]
    }
   ],
   "source": [
    "class Library:\n",
    "    def __init__(self, name):\n",
    "        self.name = name\n",
    "        self.books = []\n",
    "    \n",
    "    def add_book(self, book):\n",
    "        self.books.append(book)\n",
    "    \n",
    "    def list_books(self):\n",
    "        return [f\"{book.title} by {book.author}\" for book in self.books]\n",
    "\n",
    "class Book:\n",
    "    def __init__(self, title, author):\n",
    "        self.title = title\n",
    "        self.author = author\n",
    "\n",
    "library = Library(\"NY Public Library\")\n",
    "\n",
    "book1 = Book(\"Leviathan Wakes\", \"James S. A. Corey\")\n",
    "book2 = Book(\"The Hitchhiker's Guide to the Galaxy\", \"Douglas Adams\")\n",
    "\n",
    "library.add_book(book1)\n",
    "library.add_book(book2)\n",
    "\n",
    "print(library.name)\n",
    "print(\"-------------\")\n",
    "for book in library.list_books():\n",
    "    print(book)\n",
    "\n",
    "print(\"-------------\")\n",
    "print(\"lets change book1 title to hank\")\n",
    "print()\n",
    "book1.title = \"hank\"\n",
    "for book in library.list_books():\n",
    "    print(\"inside library:\",book)\n",
    "print(\"outside library:\",book1.title)\n"
   ]
  },
  {
   "cell_type": "markdown",
   "metadata": {},
   "source": [
    "##  Composition\n",
    "\n",
    "A composed object directly owns its components, which cannot exist independently. X owns a Y.\n",
    "In other words: the object is never generated outside the class. it does not exist outside the class.\n",
    "\n",
    "just create a object, and immediately assign it to a class attribute."
   ]
  },
  {
   "cell_type": "code",
   "execution_count": 8,
   "metadata": {},
   "outputs": [
    {
     "name": "stdout",
     "output_type": "stream",
     "text": [
      "Lamborghini Miura, 345 hp, 8 inch\n",
      "Lamborghini Diablo, 530 hp, 104 inch\n"
     ]
    }
   ],
   "source": [
    "class Engine:\n",
    "    def __init__(self, horse_power):\n",
    "        self.horse_power = horse_power\n",
    "\n",
    "\n",
    "class Wheel:\n",
    "    def __init__(self, size):\n",
    "        self.size = size\n",
    "\n",
    "class Car:\n",
    "    def __init__(self, make, model, horse_power, wheel_size):\n",
    "        self.make = make\n",
    "        self.model = model\n",
    "        self.engine = Engine(horse_power) # Car object owns Engine object\n",
    "        self.wheels = [Wheel(wheel_size) for wheel in range(4)] # Car object owns Wheel objects\n",
    "    \n",
    "    def display_car(self):\n",
    "        return f\"{self.make} {self.model}, {self.engine.horse_power} hp, {self.wheels[0].size} inch\" # remember, it's just an object\n",
    "\n",
    "\n",
    "car1 = Car(make=\"Lamborghini\", model=\"Miura\", horse_power=345, wheel_size=8)\n",
    "car2 = Car(make=\"Lamborghini\", model=\"Diablo\", horse_power=530, wheel_size=104)\n",
    "print(car1.display_car())\n",
    "print(car2.display_car())"
   ]
  },
  {
   "cell_type": "markdown",
   "metadata": {},
   "source": [
    "## Nested Classes\n",
    "\n",
    "Benefits:\n",
    "- group classes that are related.\n",
    "- encapsulate private details that aren't relevant outside of outer class.\n",
    "- keeping the namespace clean.\n",
    "\n",
    "\n",
    "Not doing so can give naming conflicts:"
   ]
  },
  {
   "cell_type": "code",
   "execution_count": null,
   "metadata": {},
   "outputs": [
    {
     "name": "stdout",
     "output_type": "stream",
     "text": [
      "THis is the first class\n",
      "THis is the second class\n"
     ]
    }
   ],
   "source": [
    "class Employee:\n",
    "    print(\"This is the first class\")\n",
    "\n",
    "class Employee:\n",
    "    print(\"THis is the second class\")"
   ]
  },
  {
   "cell_type": "markdown",
   "metadata": {},
   "source": [
    "The above code can give problems with importing.\n",
    "\n",
    "This is fixed by using the code bellow:"
   ]
  },
  {
   "cell_type": "code",
   "execution_count": 15,
   "metadata": {},
   "outputs": [
    {
     "name": "stdout",
     "output_type": "stream",
     "text": [
      "This is the first class\n",
      "THis is the second class\n"
     ]
    }
   ],
   "source": [
    "class Company:\n",
    "    class Employee:\n",
    "        print(\"This is the first class\")\n",
    "\n",
    "class Nonprofit:\n",
    "    class Employer:\n",
    "        print(\"THis is the second class\")"
   ]
  },
  {
   "cell_type": "markdown",
   "metadata": {},
   "source": [
    "Example with usecase:"
   ]
  },
  {
   "cell_type": "code",
   "execution_count": 22,
   "metadata": {},
   "outputs": [
    {
     "name": "stdout",
     "output_type": "stream",
     "text": [
      "Eugene Manager\n",
      "Spongebob  Cook\n",
      "Eugene Cashier\n"
     ]
    }
   ],
   "source": [
    "class Company:\n",
    "    class Employee:\n",
    "        def __init__(self, name, position):\n",
    "            self.name = name\n",
    "            self.position = position\n",
    "        \n",
    "        def get_details(self):\n",
    "            return f\"{self.name} {self.position}\"\n",
    "\n",
    "    def __init__(self, company_name):\n",
    "        self.company_name = company_name\n",
    "        self.employees = []\n",
    "    \n",
    "    def add_employee(self, name, position):\n",
    "        new_employee = self.Employee(name, position)\n",
    "        self.employees.append(new_employee)\n",
    "\n",
    "    def list_employees(self):\n",
    "        return [employee.get_details() for employee in self.employees]\n",
    "\n",
    "company1 = Company(\"Krusty Krab\")\n",
    "company2 = Company(\"Chum Bucket\")\n",
    "\n",
    "company1.add_employee(\"Eugene\", \"Manager\")\n",
    "company1.add_employee(\"Spongebob \", \"Cook\")\n",
    "company1.add_employee(\"Eugene\", \"Cashier\")\n",
    "\n",
    "company2.add_employee(\"Sheldon\", \"Manager\")\n",
    "company2.add_employee(\"Karen\", \"Assistant\")\n",
    "\n",
    "for employee in company1.list_employees():\n",
    "    print(employee)"
   ]
  },
  {
   "cell_type": "markdown",
   "metadata": {},
   "source": [
    "## Static methods\n",
    "\n",
    "A static method belongs to the class instead of the class object (instance).\n",
    "\n",
    "Best for utility functions that do not need access to class data.\n",
    "\n",
    "A static method can be seen as a way to organize functions that would fit into a class.\n",
    "\n",
    "**An example of a static method:**"
   ]
  },
  {
   "cell_type": "code",
   "execution_count": 13,
   "metadata": {},
   "outputs": [
    {
     "data": {
      "text/plain": [
       "True"
      ]
     },
     "metadata": {},
     "output_type": "display_data"
    },
    {
     "data": {
      "text/plain": [
       "False"
      ]
     },
     "metadata": {},
     "output_type": "display_data"
    }
   ],
   "source": [
    "class Employee:\n",
    "    def __init__(self, name, position):\n",
    "        self.name = name\n",
    "        self.position = position\n",
    "\n",
    "    def get_info(self): # bound to instance\n",
    "        return f\"{self.name} = {self.position}\"\n",
    "    \n",
    "    @staticmethod\n",
    "    def is_valid_position(position): # does not need self, bound to class\n",
    "        valid_positions = [\"Manager\", \"Cashier\", \"Cook\", \"Janitor\"]\n",
    "        return position in valid_positions\n",
    "\n",
    "display(Employee.is_valid_position(\"Cook\"))\n",
    "display(Employee.is_valid_position(\"Chief Mango\"))"
   ]
  },
  {
   "cell_type": "markdown",
   "metadata": {},
   "source": [
    "Here we test the instance methods:"
   ]
  },
  {
   "cell_type": "code",
   "execution_count": 14,
   "metadata": {},
   "outputs": [
    {
     "data": {
      "text/plain": [
       "'Eugene = Manager'"
      ]
     },
     "metadata": {},
     "output_type": "display_data"
    },
    {
     "data": {
      "text/plain": [
       "'Spongebob  = Cook'"
      ]
     },
     "metadata": {},
     "output_type": "display_data"
    },
    {
     "data": {
      "text/plain": [
       "'Eugene = Cashier'"
      ]
     },
     "metadata": {},
     "output_type": "display_data"
    }
   ],
   "source": [
    "employee1 = Employee(\"Eugene\", \"Manager\")\n",
    "employee2 = Employee(\"Spongebob \", \"Cook\")\n",
    "employee3 = Employee(\"Eugene\", \"Cashier\")\n",
    "\n",
    "display(employee1.get_info())\n",
    "display(employee2.get_info())\n",
    "display(employee3.get_info())"
   ]
  },
  {
   "cell_type": "markdown",
   "metadata": {},
   "source": [
    "##  Class methods\n",
    "\n",
    "Allow operations to the class itself. Takes cls as the first parameter, which represents the class itself."
   ]
  },
  {
   "cell_type": "code",
   "execution_count": 31,
   "metadata": {},
   "outputs": [
    {
     "name": "stdout",
     "output_type": "stream",
     "text": [
      "Total # of students: 0\n",
      "0\n"
     ]
    }
   ],
   "source": [
    "class Student:\n",
    "    \n",
    "    count = 0\n",
    "    total_gpa = 0\n",
    "\n",
    "    def __init__(self, name, gpa):\n",
    "        self.name = name\n",
    "        self.gpa = gpa\n",
    "        Student.count += 1\n",
    "        Student.total_gpa += gpa\n",
    "    \n",
    "    def get_info(self): # instance method\n",
    "        return f\"{self.name} {self.gpa}\"\n",
    "    \n",
    "    @classmethod\n",
    "    def get_count(cls):\n",
    "        return f\"Total # of students: {cls.count}\"\n",
    "    \n",
    "    @classmethod\n",
    "    def get_average_gpa(cls):\n",
    "        if cls.count == 0:\n",
    "            return 0 # To make sure we don't get a division error.\n",
    "        else:\n",
    "            return f\"Average gpa: {cls.total_gpa / cls.count:.2f}\"\n",
    "\n",
    "print(Student.get_count())\n",
    "print(Student.get_average_gpa())"
   ]
  },
  {
   "cell_type": "code",
   "execution_count": 32,
   "metadata": {},
   "outputs": [
    {
     "name": "stdout",
     "output_type": "stream",
     "text": [
      "Total # of students: 4\n",
      "Average gpa: 2.88\n"
     ]
    }
   ],
   "source": [
    "student1 = Student(\"Marvin the Paranoid Android\", 4.0)\n",
    "student2 = Student(\"Trillian\", 4.0)\n",
    "student2 = Student(\"Ford Prefect\", 2.0)\n",
    "student2 = Student(\"Arthur Dent\", 1.5)\n",
    "\n",
    "print(Student.get_count())\n",
    "print(Student.get_average_gpa())"
   ]
  },
  {
   "cell_type": "markdown",
   "metadata": {},
   "source": [
    "## magic methods (dunder methods)\n",
    "\n",
    "Also known as dunder (double underscore)  methods.\n",
    "\n",
    "They are automatically called by many of python's build in methods.\n",
    "Allow developers to customize the behavior of objects.\n",
    "\n",
    "[There are MANY more dunder methods than discussed here!](https://www.pythonmorsels.com/every-dunder-method/)"
   ]
  },
  {
   "cell_type": "code",
   "execution_count": 56,
   "metadata": {},
   "outputs": [
    {
     "name": "stdout",
     "output_type": "stream",
     "text": [
      "string dunder 'The Hobbit' by J.R.R. Tolkien\n",
      "book3 == book4 = False\n",
      "book3 < book4 = False\n",
      "book3 > book4 = True\n",
      "book3 + book4 = 676\n",
      "\"lion\" in book1 = False\n",
      "book3[\"title\"] = 'Snow Crash'\n",
      "book3[\"Title\"] = \"key 'Title' not found\"\n"
     ]
    }
   ],
   "source": [
    "class Book:\n",
    "\tdef __init__(self, title, author, num_pages):\n",
    "\t\tself.title = title\n",
    "\t\tself.author = author\n",
    "\t\tself.num_pages = num_pages\n",
    "\t\t\n",
    "\tdef __str__(self):\n",
    "\t\treturn f\"'{self.title}' by {self.author}\"\n",
    "\tdef __eq__(self, other):\n",
    "\t    return self.title == other.title and self.author == other.author\n",
    "\tdef __lt__(self, other):\n",
    "\t\treturn self.num_pages < other.num_pages\n",
    "\tdef __gt__(self, other):\n",
    "\t\treturn self.num_pages > other.num_pages\n",
    "\tdef __add__(self, other):\n",
    "\t\treturn self.num_pages + other.num_pages\n",
    "\tdef __contains__(self, keyword):\n",
    "\t\treturn keyword in self.title or keyword in self.author\n",
    "\tdef __getitem__(self, key):\n",
    "\t\tmatch key:\n",
    "\t\t\tcase \"title\":\n",
    "\t\t\t\treturn self.title\n",
    "\t\t\tcase \"author\":\n",
    "\t\t\t\treturn self.author\n",
    "\t\t\tcase \"num_pages\":\n",
    "\t\t\t\treturn self.num_pages\n",
    "\t\t\tcase _:\n",
    "\t\t\t\treturn f\"key '{key}' not found\"\n",
    "\t\t\t\n",
    "        \n",
    "        \n",
    "\t\t\n",
    "book1 = Book(\"The Hobbit\", \"J.R.R. Tolkien\", 310)\n",
    "book2 = Book(\"Do Androids Dream of Electric Sheep?\", \"hilip K. Dick\", 210)\n",
    "book3 = Book(\"Snow Crash\", \"Neal Stephenson\", 440)\n",
    "book4 = Book(\"What Mad Universe\", \"Fredric Brown\", 236)\n",
    "\n",
    "print(f\"string dunder {book1}\") # __str__\n",
    "print(f\"{book3 == book4 = }\")   # __eq__\n",
    "print(f\"{book3 < book4 = }\")    # __lt__\n",
    "print(f\"{book3 > book4 = }\")    # __gt__\n",
    "print(f\"{book3 + book4 = }\")    # __add__\n",
    "print(f\"{\"lion\" in book1 = }\")  # __contains__\n",
    "print(f\"{book3[\"title\"] = }\")  # __getitem__\n",
    "print(f\"{book3[\"Title\"] = }\")  # __getitem__"
   ]
  },
  {
   "cell_type": "markdown",
   "metadata": {},
   "source": [
    "## property decorator\n",
    "\n",
    "A way to give attributes read, write and delete methods.\n"
   ]
  },
  {
   "cell_type": "code",
   "execution_count": 3,
   "metadata": {},
   "outputs": [
    {
     "name": "stdout",
     "output_type": "stream",
     "text": [
      "3\n",
      "4\n"
     ]
    }
   ],
   "source": [
    "class Rectangle:\n",
    "    def __init__(self, width, height):\n",
    "        self.width = width\n",
    "        self.height = height\n",
    "\n",
    "rectangle = Rectangle(3,4)\n",
    "\n",
    "print(rectangle.width)\n",
    "print(rectangle.height)"
   ]
  },
  {
   "cell_type": "code",
   "execution_count": 23,
   "metadata": {},
   "outputs": [
    {
     "name": "stdout",
     "output_type": "stream",
     "text": [
      "3.0 cm\n",
      "width must be greater than 0\n",
      "3.0 cm\n",
      "3000.0 cm\n",
      "4.0 cm\n",
      "Width has been deleted\n",
      "Height has been deleted\n"
     ]
    }
   ],
   "source": [
    "class Rectangle:\n",
    "    def __init__(self, width, height):\n",
    "        self._width = width     # _ tells devs it's meant to be detected\n",
    "        self._height = height   \n",
    "    \n",
    "    @property\n",
    "    def width(self):\n",
    "        return f\"{self._width:.1f} cm\"\n",
    "    \n",
    "    @width.setter\n",
    "    def width(self, new_width):\n",
    "        if new_width > 0:\n",
    "            self._width = new_width\n",
    "        else:\n",
    "            print(\"width must be greater than 0\")\n",
    "    \n",
    "    @width.deleter\n",
    "    def width(self):\n",
    "        del self._width\n",
    "        print(\"Width has been deleted\")\n",
    "    \n",
    "    @property           # for calling the attribute\n",
    "    def height(self):\n",
    "        return f\"{self._height:.1f} cm\"\n",
    "    \n",
    "    @height.setter      # for setting the attribute\n",
    "    def height(self, new_heigth):\n",
    "        if new_heigth > 0:\n",
    "            self._height = new_heigth\n",
    "        else:\n",
    "            print(\"height must be greater than 0\")\n",
    "    \n",
    "    @height.deleter     # for deleting the attribute\n",
    "    def height(self):\n",
    "        del self._height\n",
    "        print(\"Height has been deleted\")\n",
    "    \n",
    "    @height.deleter     # a test to see what happens\n",
    "    def delete_height(self):\n",
    "        del self._height\n",
    "        print(\"Height has been deleted\")\n",
    "\n",
    "rectangle = Rectangle(3,4)\n",
    "print(rectangle.width)\n",
    "rectangle.width = 0 # gives message\n",
    "print(rectangle.width)\n",
    "rectangle.width = 3000 # is okay\n",
    "print(rectangle.width)\n",
    "print(rectangle.height)\n",
    "del rectangle.width\n",
    "del rectangle.delete_height"
   ]
  },
  {
   "cell_type": "markdown",
   "metadata": {},
   "source": [
    "## Some exercises: \n",
    "\n",
    "- https://pynative.com/python-object-oriented-programming-oop-exercise/\n",
    "- https://www.w3resource.com/python-exercises/oop/index.php\n",
    "- https://www.geeksforgeeks.org/python-oops-exercise-questions/\n",
    "- https://pythonistaplanet.com/python-oop-exercises/\n",
    "- https://www.geeksforgeeks.org/python-oops-exercise-questions/"
   ]
  }
 ],
 "metadata": {
  "kernelspec": {
   "display_name": ".venv",
   "language": "python",
   "name": "python3"
  },
  "language_info": {
   "codemirror_mode": {
    "name": "ipython",
    "version": 3
   },
   "file_extension": ".py",
   "mimetype": "text/x-python",
   "name": "python",
   "nbconvert_exporter": "python",
   "pygments_lexer": "ipython3",
   "version": "3.12.3"
  }
 },
 "nbformat": 4,
 "nbformat_minor": 2
}
