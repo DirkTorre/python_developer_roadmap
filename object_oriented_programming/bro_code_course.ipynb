{
 "cells": [
  {
   "cell_type": "markdown",
   "metadata": {},
   "source": [
    "# [Bro Code: Python Object Oriented Programming Full Course 🐍](https://www.youtube.com/watch?v=IbMDCwVm63M)\n",
    "\n",
    "## class variables"
   ]
  },
  {
   "cell_type": "code",
   "execution_count": 1,
   "metadata": {},
   "outputs": [
    {
     "name": "stdout",
     "output_type": "stream",
     "text": [
      "0\n",
      "1\n",
      "2\n"
     ]
    }
   ],
   "source": [
    "class Student:\n",
    "    class_year = 2024   # class var\n",
    "    num_students = 0    # class var\n",
    "\n",
    "    def __init__(self, name, age):\n",
    "        self.name = name\n",
    "        self.age = age\n",
    "        Student.num_students += 1\n",
    "\n",
    "print(Student.num_students)\n",
    "student1 = Student(\"Bard\", 30)\n",
    "print(Student.num_students)\n",
    "student2 = Student(\"Lisa\", 35)\n",
    "print(Student.num_students)"
   ]
  },
  {
   "cell_type": "markdown",
   "metadata": {},
   "source": [
    "## inheritance"
   ]
  },
  {
   "cell_type": "code",
   "execution_count": 2,
   "metadata": {},
   "outputs": [
    {
     "name": "stdout",
     "output_type": "stream",
     "text": [
      "Hank True\n",
      "Hank is eating\n",
      "Hank is sleeping\n",
      "WOOF!\n",
      "Blurp!\n"
     ]
    }
   ],
   "source": [
    "class Animal:\n",
    "    def __init__(self, name):\n",
    "        self.name = name\n",
    "        self.is_alive = True\n",
    "    \n",
    "    def eat(self):\n",
    "        print(f\"{self.name} is eating\")\n",
    "\n",
    "    def sleep(self):\n",
    "        print(f\"{self.name} is sleeping\")\n",
    "\n",
    "class Dog(Animal):\n",
    "    def speak(self):\n",
    "        print(\"WOOF!\")\n",
    "\n",
    "class Cat(Animal):\n",
    "    def speak(self):\n",
    "        print(\"Blurp!\")\n",
    "\n",
    "class Mouse(Animal):\n",
    "    def speak(self):\n",
    "        print(\"meep meep!\")\n",
    "\n",
    "dog = Dog(\"Hank\")\n",
    "cat = Cat(\"Snape\")\n",
    "mouse = Mouse(\"jerry\")\n",
    "\n",
    "print(dog.name, dog.is_alive)\n",
    "dog.eat()\n",
    "dog.sleep()\n",
    "dog.speak()\n",
    "cat.speak()\n"
   ]
  },
  {
   "cell_type": "markdown",
   "metadata": {},
   "source": [
    "## Multiple & multilevel inheritance\n",
    "\n",
    "multiple inheritance = child inherits multiple parents: C(Pa,Pb)\n",
    "\n",
    "multilevel inheritance = inherit from a parent which inherits from another parent. C{B} <- B(A) <- A"
   ]
  },
  {
   "cell_type": "code",
   "execution_count": 3,
   "metadata": {},
   "outputs": [
    {
     "name": "stdout",
     "output_type": "stream",
     "text": [
      "Nemo is fleeing\n"
     ]
    }
   ],
   "source": [
    "class Animal:\n",
    "\n",
    "    def __init__(self, name):\n",
    "        self.name = name\n",
    "\n",
    "    def eat(self):\n",
    "        print(f\"{self.name} is eating\")\n",
    "\n",
    "    def sleep(self):\n",
    "        print(f\"{self.name} is sleeping\")\n",
    "\n",
    "class Prey(Animal):\n",
    "    def flee(self):\n",
    "        print(f\"{self.name} is fleeing\")\n",
    "\n",
    "class Predator(Animal):\n",
    "    def hunt(self):\n",
    "        print(f\"{self.name} is hunting\")\n",
    "\n",
    "class Rabbit(Prey):\n",
    "    pass\n",
    "\n",
    "class Hawk(Predator):\n",
    "    pass\n",
    "\n",
    "class Fish(Prey, Predator):\n",
    "    pass\n",
    "\n",
    "\n",
    "rabbit = Rabbit(\"Bugs\")\n",
    "hawk = Hawk(\"Tony\")\n",
    "fish = Fish(\"Nemo\")\n",
    "\n",
    "fish.flee()\n"
   ]
  },
  {
   "cell_type": "markdown",
   "metadata": {},
   "source": [
    "## Abstract class\n",
    "\n",
    "meant to be subclassed.\n",
    "\n",
    "abstract classes are a bit of a forced hint to implement methods in your child class."
   ]
  },
  {
   "cell_type": "code",
   "execution_count": 5,
   "metadata": {},
   "outputs": [
    {
     "ename": "TypeError",
     "evalue": "Can't instantiate abstract class Vehicle without an implementation for abstract methods 'go', 'stop'",
     "output_type": "error",
     "traceback": [
      "\u001b[31m---------------------------------------------------------------------------\u001b[39m",
      "\u001b[31mTypeError\u001b[39m                                 Traceback (most recent call last)",
      "\u001b[36mCell\u001b[39m\u001b[36m \u001b[39m\u001b[32mIn[5]\u001b[39m\u001b[32m, line 12\u001b[39m\n\u001b[32m      8\u001b[39m     \u001b[38;5;129m@abstractmethod\u001b[39m\n\u001b[32m      9\u001b[39m     \u001b[38;5;28;01mdef\u001b[39;00m\u001b[38;5;250m \u001b[39m\u001b[34mstop\u001b[39m(\u001b[38;5;28mself\u001b[39m):\n\u001b[32m     10\u001b[39m         \u001b[38;5;28;01mpass\u001b[39;00m\n\u001b[32m---> \u001b[39m\u001b[32m12\u001b[39m vehicle = \u001b[43mVehicle\u001b[49m\u001b[43m(\u001b[49m\u001b[43m)\u001b[49m\n",
      "\u001b[31mTypeError\u001b[39m: Can't instantiate abstract class Vehicle without an implementation for abstract methods 'go', 'stop'"
     ]
    }
   ],
   "source": [
    "from abc import ABC, abstractmethod\n",
    "\n",
    "class Vehicle(ABC):\n",
    "    @abstractmethod\n",
    "    def go(self):\n",
    "        pass\n",
    "\n",
    "    @abstractmethod\n",
    "    def stop(self):\n",
    "        pass\n",
    "\n",
    "vehicle = Vehicle()"
   ]
  },
  {
   "cell_type": "code",
   "execution_count": 6,
   "metadata": {},
   "outputs": [
    {
     "ename": "TypeError",
     "evalue": "Can't instantiate abstract class Car without an implementation for abstract methods 'go', 'stop'",
     "output_type": "error",
     "traceback": [
      "\u001b[31m---------------------------------------------------------------------------\u001b[39m",
      "\u001b[31mTypeError\u001b[39m                                 Traceback (most recent call last)",
      "\u001b[36mCell\u001b[39m\u001b[36m \u001b[39m\u001b[32mIn[6]\u001b[39m\u001b[32m, line 4\u001b[39m\n\u001b[32m      1\u001b[39m \u001b[38;5;28;01mclass\u001b[39;00m\u001b[38;5;250m \u001b[39m\u001b[34;01mCar\u001b[39;00m(Vehicle):\n\u001b[32m      2\u001b[39m     \u001b[38;5;28;01mpass\u001b[39;00m\n\u001b[32m----> \u001b[39m\u001b[32m4\u001b[39m car = \u001b[43mCar\u001b[49m\u001b[43m(\u001b[49m\u001b[43m)\u001b[49m\n",
      "\u001b[31mTypeError\u001b[39m: Can't instantiate abstract class Car without an implementation for abstract methods 'go', 'stop'"
     ]
    }
   ],
   "source": [
    "class Car(Vehicle):\n",
    "    pass\n",
    "\n",
    "car = Car()"
   ]
  },
  {
   "cell_type": "code",
   "execution_count": 7,
   "metadata": {},
   "outputs": [
    {
     "name": "stdout",
     "output_type": "stream",
     "text": [
      "You drive the car\n",
      "You stop the car\n",
      "You drive the motorcycle\n",
      "You stop the motorcycle\n"
     ]
    },
    {
     "ename": "TypeError",
     "evalue": "Can't instantiate abstract class Boat without an implementation for abstract method 'stop'",
     "output_type": "error",
     "traceback": [
      "\u001b[31m---------------------------------------------------------------------------\u001b[39m",
      "\u001b[31mTypeError\u001b[39m                                 Traceback (most recent call last)",
      "\u001b[36mCell\u001b[39m\u001b[36m \u001b[39m\u001b[32mIn[7]\u001b[39m\u001b[32m, line 29\u001b[39m\n\u001b[32m     26\u001b[39m motor.go()\n\u001b[32m     27\u001b[39m motor.stop()\n\u001b[32m---> \u001b[39m\u001b[32m29\u001b[39m boat = \u001b[43mBoat\u001b[49m\u001b[43m(\u001b[49m\u001b[43m)\u001b[49m\n",
      "\u001b[31mTypeError\u001b[39m: Can't instantiate abstract class Boat without an implementation for abstract method 'stop'"
     ]
    }
   ],
   "source": [
    "class Car(Vehicle):\n",
    "    def go(self):\n",
    "        print(\"You drive the car\")\n",
    "    \n",
    "    def stop(self):\n",
    "        print(\"You stop the car\")\n",
    "\n",
    "\n",
    "class Motorcycle(Vehicle):\n",
    "    def go(self):\n",
    "        print(\"You drive the motorcycle\")\n",
    "    \n",
    "    def stop(self):\n",
    "        print(\"You stop the motorcycle\")\n",
    "\n",
    "class Boat(Vehicle):\n",
    "    def go(self):\n",
    "        print(\"You drive the motorcycle\")\n",
    "\n",
    "\n",
    "car = Car()\n",
    "car.go()\n",
    "car.stop()\n",
    "\n",
    "motor = Motorcycle()\n",
    "motor.go()\n",
    "motor.stop()\n",
    "\n",
    "boat = Boat()\n"
   ]
  },
  {
   "cell_type": "markdown",
   "metadata": {},
   "source": [
    "## Super method\n",
    "\n",
    "Used in a child class to call the methods of a parent class.\n"
   ]
  },
  {
   "cell_type": "code",
   "execution_count": 8,
   "metadata": {},
   "outputs": [
    {
     "name": "stdout",
     "output_type": "stream",
     "text": [
      "it's is circle with an area of 78.5 cm^2\n",
      "it is red and filled\n",
      "----------------------------------------\n",
      "it's is square with an area of 25 cm^2\n",
      "it is blue and not filled\n",
      "----------------------------------------\n",
      "it's is triangle with an area of 28.0 cm^2\n",
      "it is yellow and filled\n"
     ]
    }
   ],
   "source": [
    "class Shape:\n",
    "    def __init__(self, color, is_filled):\n",
    "        self.color = color\n",
    "        self.is_filled = is_filled\n",
    "    \n",
    "    def describe(self):\n",
    "        print(f\"it is {self.color} and {'filled' if self.is_filled else 'not filled'}\")\n",
    "\n",
    "\n",
    "class Circle(Shape):\n",
    "    def __init__(self, color, is_filled, radius):\n",
    "        super().__init__(color, is_filled)\n",
    "        self.radius = radius\n",
    "    \n",
    "    def describe(self):\n",
    "        print(f\"it's is circle with an area of {3.14 * self.radius ** 2} cm^2\")\n",
    "        super().describe() # now we call the describe method from shape\n",
    "\n",
    "\n",
    "class Square(Shape):\n",
    "    def __init__(self, color, is_filled, width):\n",
    "        super().__init__(color, is_filled)\n",
    "        self.width = width\n",
    "    \n",
    "    def describe(self):\n",
    "        print(f\"it's is square with an area of {self.width ** 2} cm^2\")\n",
    "        super().describe() # now we call the describe method from shape\n",
    "\n",
    "\n",
    "class Triangle(Shape):\n",
    "    def __init__(self, color, is_filled, width, height):\n",
    "        super().__init__(color, is_filled)\n",
    "        self.width = width\n",
    "        self.height = height\n",
    "    \n",
    "    def describe(self):\n",
    "        print(f\"it's is triangle with an area of {self.width * self.height / 2} cm^2\")\n",
    "        super().describe() # now we call the describe method from shape\n",
    "\n",
    "\n",
    "circle = Circle(color=\"red\", is_filled=True, radius=5)\n",
    "square = Square(color=\"blue\", is_filled=False, width=5)\n",
    "triangle = Triangle(\"yellow\", is_filled=True, width=7, height=8)\n",
    "\n",
    "circle.describe()\n",
    "print(\"-\"*40)\n",
    "square.describe()\n",
    "print(\"-\"*40)\n",
    "triangle.describe()\n"
   ]
  },
  {
   "cell_type": "markdown",
   "metadata": {},
   "source": [
    "## Polymorphism\n",
    "\n",
    "achievable via:\n",
    "\n",
    "- inheritance = an object could be treated of the same type as a parent class\n",
    "- duck typing = object must have necessary  attributes/methods. comes from: \"If it looks like a duck and quacks like a duck, it’s a duck\"\n"
   ]
  },
  {
   "cell_type": "code",
   "execution_count": null,
   "metadata": {},
   "outputs": [
    {
     "name": "stdout",
     "output_type": "stream",
     "text": [
      "50.24 cm^2 \n",
      "25 cm^2 \n",
      "21.0 cm^2 \n",
      "706.5 cm^2 \n"
     ]
    }
   ],
   "source": [
    "from abc import ABC, abstractmethod\n",
    "\n",
    "class Shape:\n",
    "    @abstractmethod\n",
    "    def area(self):\n",
    "        pass\n",
    "\n",
    "\n",
    "class Circle(Shape):\n",
    "    def __init__(self, radius):\n",
    "        self.radius = radius\n",
    "    \n",
    "    def area(self):\n",
    "        return 3.14 * self.radius ** 2\n",
    "\n",
    "\n",
    "class Square(Shape):\n",
    "    def __init__(self, side):\n",
    "        self.side = side\n",
    "    \n",
    "    def area(self):\n",
    "        return self.side ** 2\n",
    "\n",
    "\n",
    "class Triangle(Shape):\n",
    "    def __init__(self, base, height):\n",
    "        self.base = base\n",
    "        self.height = height\n",
    "    \n",
    "    def area(self):\n",
    "        return self.base * self.height / 2\n",
    "    \n",
    "class Pizza(Circle): # polymorphism via inheritance\n",
    "    def __init__(self, topping, radius):\n",
    "        super().__init__(radius)\n",
    "        self.topping = topping\n",
    "        \n",
    "\n",
    "\n",
    "shapes = [Circle(4), Square(5), Triangle(6,7), Pizza(\"Salami\", 15)]\n",
    "for shape in shapes:\n",
    "    print(f\"{shape.area()} cm^2 \")\n"
   ]
  }
 ],
 "metadata": {
  "kernelspec": {
   "display_name": ".venv",
   "language": "python",
   "name": "python3"
  },
  "language_info": {
   "codemirror_mode": {
    "name": "ipython",
    "version": 3
   },
   "file_extension": ".py",
   "mimetype": "text/x-python",
   "name": "python",
   "nbconvert_exporter": "python",
   "pygments_lexer": "ipython3",
   "version": "3.12.3"
  }
 },
 "nbformat": 4,
 "nbformat_minor": 2
}
