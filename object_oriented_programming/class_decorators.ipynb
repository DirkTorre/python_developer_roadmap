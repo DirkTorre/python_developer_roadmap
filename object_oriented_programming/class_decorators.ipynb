{
 "cells": [
  {
   "cell_type": "markdown",
   "metadata": {},
   "source": [
    "## instance methods\n",
    "\n",
    "A instance method is bound to a instance.\n",
    "You can define them by using self."
   ]
  },
  {
   "cell_type": "code",
   "execution_count": null,
   "metadata": {},
   "outputs": [
    {
     "name": "stdout",
     "output_type": "stream",
     "text": [
      "ribs\n",
      "kiwi\n"
     ]
    }
   ],
   "source": [
    "class Food:\n",
    "    def __init__(self, name):\n",
    "        self.name = name\n",
    "\n",
    "    def get_name(self):\n",
    "        return self.name\n",
    "    \n",
    "\n",
    "ribs = Food(\"ribs\")\n",
    "kiwi = Food(\"kiwi\")\n",
    "print(ribs.get_name())\n",
    "print(kiwi.get_name())"
   ]
  },
  {
   "cell_type": "markdown",
   "metadata": {},
   "source": [
    "## static methods\n",
    "These methods behave like functions.\n",
    "Sometimes it's handy to have those in your class."
   ]
  },
  {
   "cell_type": "code",
   "execution_count": null,
   "metadata": {},
   "outputs": [
    {
     "name": "stdout",
     "output_type": "stream",
     "text": [
      "3\n"
     ]
    }
   ],
   "source": [
    "class Food:\n",
    "    def __init__(self, name):\n",
    "        self.name = name\n",
    "\n",
    "    @staticmethod\n",
    "    def add(a, b):\n",
    "        return a + b\n",
    "\n",
    "print(Food.add(1,2))"
   ]
  },
  {
   "cell_type": "markdown",
   "metadata": {},
   "source": [
    "## class methods\n",
    "\n",
    "A class method is bound to the class, and not the object of a class.\n",
    "It has access to class variables instead of object instances.\n",
    "If a class variable is changed, is is changed in every created object.\n",
    "Class methods can be used without creating a object first.\n",
    "\n",
    "\n",
    "**Example for class variables:**"
   ]
  },
  {
   "cell_type": "code",
   "execution_count": null,
   "metadata": {},
   "outputs": [
    {
     "name": "stdout",
     "output_type": "stream",
     "text": [
      "object a:  None a None a\n",
      "object b:  None b None b\n",
      "lets change the class name to 'c'\n",
      "object a:  c a c a\n",
      "object b:  c b c b\n"
     ]
    }
   ],
   "source": [
    "class Test:\n",
    "    dummie = None\n",
    "    class_name = None\n",
    "    \n",
    "    def __init__(self, name):\n",
    "        self.object_name = name\n",
    "    \n",
    "    @classmethod\n",
    "    def change_class_name(cls, new_name):\n",
    "        cls.class_name = new_name\n",
    "    \n",
    "    def get_class_name(cls):\n",
    "        return cls.class_name\n",
    "    \n",
    "    def get_object_name(self):\n",
    "        return self.object_name\n",
    "\n",
    "a = Test(\"a\")\n",
    "b = Test(\"b\")\n",
    "print(\"object a: \", a.class_name, a.object_name, a.get_class_name(), a.get_object_name())\n",
    "print(\"object b: \", b.class_name, b.object_name, b.get_class_name(), b.get_object_name())\n",
    "print(\"lets change the class name to 'c'\")\n",
    "a.change_class_name(\"c\")\n",
    "print(\"object a: \", a.class_name, a.object_name, a.get_class_name(), a.get_object_name())\n",
    "print(\"object b: \", b.class_name, b.object_name, b.get_class_name(), b.get_object_name())"
   ]
  },
  {
   "cell_type": "markdown",
   "metadata": {},
   "source": [
    "**Example for class methods without initialization:**"
   ]
  },
  {
   "cell_type": "code",
   "execution_count": null,
   "metadata": {},
   "outputs": [
    {
     "name": "stdout",
     "output_type": "stream",
     "text": [
      "8\n",
      "20\n"
     ]
    }
   ],
   "source": [
    "class Multiply:    \n",
    "    @classmethod\n",
    "    def multiply_by_2(cls, number2):\n",
    "        return number2 * 2\n",
    "    \n",
    "    @classmethod\n",
    "    def multiply_by_5(cls, number2):\n",
    "        return number2 * 5\n",
    "\n",
    "print(Multiply.multiply_by_2(4))\n",
    "print(Multiply.multiply_by_5(4))"
   ]
  },
  {
   "cell_type": "markdown",
   "metadata": {},
   "source": [
    "**Example where class methods are used for initialization**:"
   ]
  },
  {
   "cell_type": "code",
   "execution_count": null,
   "metadata": {},
   "outputs": [
    {
     "name": "stdout",
     "output_type": "stream",
     "text": [
      "Jessa's age is: 20\n",
      "Joy's age is: 30\n"
     ]
    }
   ],
   "source": [
    "from datetime import date\n",
    "\n",
    "class Student:\n",
    "    def __init__(self, name, age):\n",
    "        self.name = name\n",
    "        self.age = age\n",
    "\n",
    "    @classmethod\n",
    "    def calculate_age(cls, name, birth_year):\n",
    "        # calculate age an set it as a age\n",
    "        # return new object\n",
    "        return cls(name, date.today().year - birth_year)\n",
    "\n",
    "    def show(self):\n",
    "        print(self.name + \"'s age is: \" + str(self.age))\n",
    "\n",
    "jessa = Student('Jessa', 20)\n",
    "jessa.show()\n",
    "\n",
    "# create new object using the factory method\n",
    "joy = Student.calculate_age(\"Joy\", 1995)\n",
    "joy.show()"
   ]
  },
  {
   "cell_type": "markdown",
   "metadata": {},
   "source": [
    "## property\n",
    "\n",
    "Never heard of this. [has a nice tutorial](https://realpython.com/python-property/)\n",
    "\n",
    "It automatically aligns getter, setter and delete methods for a attribute.\n",
    "\n",
    "*\"Properties represent an intermediate functionality between a plain attribute, or field, and a method.\n",
    "In other words, they allow you to create methods that behave like attributes.\n",
    "With properties, you can change how you compute the target attribute whenever you need to.\"*\n",
    "\n",
    "here is an example with the usual getter/setter methods:\n"
   ]
  },
  {
   "cell_type": "code",
   "execution_count": null,
   "metadata": {},
   "outputs": [
    {
     "data": {
      "text/plain": [
       "8"
      ]
     },
     "metadata": {},
     "output_type": "display_data"
    }
   ],
   "source": [
    "class Point:\n",
    "    def __init__(self, x, y):\n",
    "        self._x = x\n",
    "        self._y = y\n",
    "\n",
    "    def get_x(self):\n",
    "        return self._x\n",
    "\n",
    "    def set_x(self, value):\n",
    "        self._x = value\n",
    "\n",
    "    def get_y(self):\n",
    "        return self._y\n",
    "\n",
    "    def set_y(self, value):\n",
    "        self._y = value\n",
    "\n",
    "p = Point(2, 3)\n",
    "p.set_x(8)\n",
    "p.get_x()"
   ]
  },
  {
   "cell_type": "markdown",
   "metadata": {},
   "source": [
    "here we use property"
   ]
  },
  {
   "cell_type": "code",
   "execution_count": null,
   "metadata": {},
   "outputs": [
    {
     "name": "stdout",
     "output_type": "stream",
     "text": [
      "setting x to:  42\n",
      "getting the value of x:  42\n",
      "assigning x to:  7\n",
      "deleting the value of x:  7\n"
     ]
    }
   ],
   "source": [
    "class Point:\n",
    "    def __init__(self, x):\n",
    "        print(\"setting x to: \", x)\n",
    "        self._x = x\n",
    "    \n",
    "    def _get_x(self):\n",
    "        print(\"getting the value of x: \", self._x)\n",
    "        return self._x\n",
    "\n",
    "    def _set_x(self, value):\n",
    "        print(\"assigning x to: \", value)\n",
    "        self._x = value\n",
    "    \n",
    "    def _del_x(self):\n",
    "        print(\"deleting the value of x: \",self._x)\n",
    "        del self._x\n",
    "\n",
    "    x = property(_get_x, _set_x, _del_x, \"the x property\")\n",
    "\n",
    "object = Point(42)\n",
    "object.x\n",
    "object.x = 7\n",
    "del object.x"
   ]
  },
  {
   "cell_type": "markdown",
   "metadata": {},
   "source": [
    "you can use the @property decorator for this."
   ]
  },
  {
   "cell_type": "code",
   "execution_count": null,
   "metadata": {},
   "outputs": [
    {
     "name": "stdout",
     "output_type": "stream",
     "text": [
      "setting x to:  42\n",
      "getting the value of x:  42\n",
      "assigning x to:  7\n",
      "deleting the value of x:  7\n"
     ]
    }
   ],
   "source": [
    "class Point:\n",
    "    def __init__(self, x):\n",
    "        print(\"setting x to: \", x)\n",
    "        self._x = x\n",
    "    \n",
    "    @property\n",
    "    def x(self):\n",
    "        print(\"getting the value of x: \", self._x)\n",
    "        return self._x\n",
    "\n",
    "    @x.setter\n",
    "    def x(self, value):\n",
    "        print(\"assigning x to: \", value)\n",
    "        self._x = value\n",
    "    \n",
    "    @x.deleter\n",
    "    def x(self):\n",
    "        print(\"deleting the value of x: \",self._x)\n",
    "        del self._x\n",
    "\n",
    "\n",
    "object = Point(42)\n",
    "object.x\n",
    "object.x = 7\n",
    "del object.x"
   ]
  },
  {
   "cell_type": "markdown",
   "metadata": {},
   "source": [
    "**If you only define a property it will be read only!**"
   ]
  },
  {
   "cell_type": "code",
   "execution_count": null,
   "metadata": {},
   "outputs": [
    {
     "data": {
      "text/plain": [
       "42"
      ]
     },
     "metadata": {},
     "output_type": "display_data"
    }
   ],
   "source": [
    "class Point:\n",
    "    def __init__(self, x):\n",
    "        self._x = x\n",
    "\n",
    "    @property\n",
    "    def x(self):\n",
    "        return self._x\n",
    "\n",
    "object = Point(42)\n",
    "object.x"
   ]
  },
  {
   "cell_type": "code",
   "execution_count": null,
   "metadata": {},
   "outputs": [
    {
     "ename": "AttributeError",
     "evalue": "property 'x' of 'Point' object has no deleter",
     "output_type": "error",
     "traceback": [
      "\u001b[31m---------------------------------------------------------------------------\u001b[39m\n",
      "\u001b[31mAttributeError\u001b[39m                            Traceback (most recent call last)\n",
      "\u001b[36mCell\u001b[39m\u001b[36m \u001b[39m\u001b[32mIn[54]\u001b[39m\u001b[32m, line 1\u001b[39m\n",
      "\u001b[32m----> \u001b[39m\u001b[32m1\u001b[39m \u001b[38;5;28;01mdel\u001b[39;00m \u001b[38;5;28;43mobject\u001b[39;49m\u001b[43m.\u001b[49m\u001b[43mx\u001b[49m\n",
      "\n",
      "\u001b[31mAttributeError\u001b[39m: property 'x' of 'Point' object has no deleter"
     ]
    }
   ],
   "source": [
    "del object.x"
   ]
  },
  {
   "cell_type": "code",
   "execution_count": null,
   "metadata": {},
   "outputs": [
    {
     "ename": "AttributeError",
     "evalue": "property 'x' of 'Point' object has no setter",
     "output_type": "error",
     "traceback": [
      "\u001b[31m---------------------------------------------------------------------------\u001b[39m\n",
      "\u001b[31mAttributeError\u001b[39m                            Traceback (most recent call last)\n",
      "\u001b[36mCell\u001b[39m\u001b[36m \u001b[39m\u001b[32mIn[56]\u001b[39m\u001b[32m, line 1\u001b[39m\n",
      "\u001b[32m----> \u001b[39m\u001b[32m1\u001b[39m \u001b[38;5;28;43mobject\u001b[39;49m\u001b[43m.\u001b[49m\u001b[43mx\u001b[49m = \u001b[32m10\u001b[39m\n",
      "\n",
      "\u001b[31mAttributeError\u001b[39m: property 'x' of 'Point' object has no setter"
     ]
    }
   ],
   "source": [
    "object.x = 10"
   ]
  },
  {
   "cell_type": "markdown",
   "metadata": {},
   "source": []
  },
  {
   "cell_type": "markdown",
   "metadata": {},
   "source": [
    "## using decorators with pandas\n",
    "\n",
    "https://medium.com/@unmeshgohel/advanced-use-of-decorators-with-numpy-and-pandas-f6527e202c9d"
   ]
  }
 ],
 "metadata": {
  "kernelspec": {
   "display_name": ".venv",
   "language": "python",
   "name": "python3"
  },
  "language_info": {
   "codemirror_mode": {
    "name": "ipython",
    "version": 3
   },
   "file_extension": ".py",
   "mimetype": "text/x-python",
   "name": "python",
   "nbconvert_exporter": "python",
   "pygments_lexer": "ipython3",
   "version": "3.12.3"
  }
 },
 "nbformat": 4,
 "nbformat_minor": 2
}
